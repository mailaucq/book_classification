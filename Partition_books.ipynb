version https://git-lfs.github.com/spec/v1
oid sha256:a3810f280d3bcda19eb3eb7387be883e227cc7a2031674df28d3eebf5fea9c2a
size 160474
