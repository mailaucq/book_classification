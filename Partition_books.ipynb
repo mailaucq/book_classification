{
 "cells": [
  {
   "cell_type": "code",
   "execution_count": 1,
   "metadata": {},
   "outputs": [],
   "source": [
    "step = 100\n",
    "length_cut = 1000\n",
    "random_flag = False\n",
    "name_dataset = \"dataset_2\""
   ]
  },
  {
   "cell_type": "code",
   "execution_count": 2,
   "metadata": {},
   "outputs": [],
   "source": [
    "import pandas as pd\n",
    "from utils.text_processing import partition_text, pre_process_text"
   ]
  },
  {
   "cell_type": "code",
   "execution_count": 3,
   "metadata": {},
   "outputs": [],
   "source": [
    "df_train = pd.read_csv(\"df_train_\" + name_dataset + \".csv\")"
   ]
  },
  {
   "cell_type": "code",
   "execution_count": 4,
   "metadata": {},
   "outputs": [],
   "source": [
    "df_val = pd.read_csv(\"df_val_\" + name_dataset + \".csv\")"
   ]
  },
  {
   "cell_type": "code",
   "execution_count": 5,
   "metadata": {},
   "outputs": [],
   "source": [
    "df_test = pd.read_csv(\"df_test_\" + name_dataset + \".csv\")"
   ]
  },
  {
   "cell_type": "code",
   "execution_count": 6,
   "metadata": {},
   "outputs": [
    {
     "data": {
      "text/html": [
       "<div>\n",
       "<style scoped>\n",
       "    .dataframe tbody tr th:only-of-type {\n",
       "        vertical-align: middle;\n",
       "    }\n",
       "\n",
       "    .dataframe tbody tr th {\n",
       "        vertical-align: top;\n",
       "    }\n",
       "\n",
       "    .dataframe thead th {\n",
       "        text-align: right;\n",
       "    }\n",
       "</style>\n",
       "<table border=\"1\" class=\"dataframe\">\n",
       "  <thead>\n",
       "    <tr style=\"text-align: right;\">\n",
       "      <th></th>\n",
       "      <th>label</th>\n",
       "      <th>text</th>\n",
       "    </tr>\n",
       "  </thead>\n",
       "  <tbody>\n",
       "    <tr>\n",
       "      <th>0</th>\n",
       "      <td>hermanMelville</td>\n",
       "      <td>\\nTHE PIAZZA TALES\\n\\nby\\n\\nHERMAN MELVILLE,\\n...</td>\n",
       "    </tr>\n",
       "    <tr>\n",
       "      <th>1</th>\n",
       "      <td>nathanielHawthorne</td>\n",
       "      <td>\\n\\n\\nMOSSES FROM AN OLD MANSE AND OTHER STORI...</td>\n",
       "    </tr>\n",
       "    <tr>\n",
       "      <th>2</th>\n",
       "      <td>bmBower</td>\n",
       "      <td>﻿\\n\\n\\n\\n\\nTHE LONG SHADOW\\n\\n\\n\\n\\nBY B.M. BO...</td>\n",
       "    </tr>\n",
       "    <tr>\n",
       "      <th>3</th>\n",
       "      <td>andrewLang</td>\n",
       "      <td>\\n\\nTHE PINK FAIRY BOOK\\n\\nBy Various\\n\\n\\nEdi...</td>\n",
       "    </tr>\n",
       "    <tr>\n",
       "      <th>4</th>\n",
       "      <td>charlesDarwin</td>\n",
       "      <td>\\nCORAL REEFS\\n\\nby CHARLES DARWIN\\n\\n\\n\\n\\nED...</td>\n",
       "    </tr>\n",
       "  </tbody>\n",
       "</table>\n",
       "</div>"
      ],
      "text/plain": [
       "                label                                               text\n",
       "0      hermanMelville  \\nTHE PIAZZA TALES\\n\\nby\\n\\nHERMAN MELVILLE,\\n...\n",
       "1  nathanielHawthorne  \\n\\n\\nMOSSES FROM AN OLD MANSE AND OTHER STORI...\n",
       "2             bmBower  ﻿\\n\\n\\n\\n\\nTHE LONG SHADOW\\n\\n\\n\\n\\nBY B.M. BO...\n",
       "3          andrewLang  \\n\\nTHE PINK FAIRY BOOK\\n\\nBy Various\\n\\n\\nEdi...\n",
       "4       charlesDarwin  \\nCORAL REEFS\\n\\nby CHARLES DARWIN\\n\\n\\n\\n\\nED..."
      ]
     },
     "execution_count": 6,
     "metadata": {},
     "output_type": "execute_result"
    }
   ],
   "source": [
    "df_train.head(5)"
   ]
  },
  {
   "cell_type": "code",
   "execution_count": 7,
   "metadata": {},
   "outputs": [
    {
     "data": {
      "text/plain": [
       "(60, 2)"
      ]
     },
     "execution_count": 7,
     "metadata": {},
     "output_type": "execute_result"
    }
   ],
   "source": [
    "df_train.shape"
   ]
  },
  {
   "cell_type": "code",
   "execution_count": 8,
   "metadata": {},
   "outputs": [
    {
     "data": {
      "text/plain": [
       "(20, 2)"
      ]
     },
     "execution_count": 8,
     "metadata": {},
     "output_type": "execute_result"
    }
   ],
   "source": [
    "df_val.shape"
   ]
  },
  {
   "cell_type": "code",
   "execution_count": 9,
   "metadata": {},
   "outputs": [
    {
     "data": {
      "text/plain": [
       "(20, 2)"
      ]
     },
     "execution_count": 9,
     "metadata": {},
     "output_type": "execute_result"
    }
   ],
   "source": [
    "df_test.shape"
   ]
  },
  {
   "cell_type": "code",
   "execution_count": 10,
   "metadata": {},
   "outputs": [
    {
     "data": {
      "text/plain": [
       "horatioAlger          3\n",
       "pgWodehouse           3\n",
       "richardHarding        3\n",
       "hectorMunro           3\n",
       "allanPoe              3\n",
       "thomasHardy           3\n",
       "charlesDickens        3\n",
       "whashingtonIrving     3\n",
       "markTwain             3\n",
       "henryJames            3\n",
       "nathanielHawthorne    3\n",
       "bramStoker            3\n",
       "janeAusten            3\n",
       "zaneGrey              3\n",
       "arthurDoyle           3\n",
       "charlesDarwin         3\n",
       "bmBower               3\n",
       "hgWells               3\n",
       "andrewLang            3\n",
       "hermanMelville        3\n",
       "Name: label, dtype: int64"
      ]
     },
     "execution_count": 10,
     "metadata": {},
     "output_type": "execute_result"
    }
   ],
   "source": [
    "df_train.label.value_counts()"
   ]
  },
  {
   "cell_type": "code",
   "execution_count": 11,
   "metadata": {},
   "outputs": [
    {
     "data": {
      "text/plain": [
       "whashingtonIrving     1\n",
       "charlesDickens        1\n",
       "andrewLang            1\n",
       "pgWodehouse           1\n",
       "allanPoe              1\n",
       "thomasHardy           1\n",
       "horatioAlger          1\n",
       "markTwain             1\n",
       "richardHarding        1\n",
       "hectorMunro           1\n",
       "nathanielHawthorne    1\n",
       "bramStoker            1\n",
       "henryJames            1\n",
       "zaneGrey              1\n",
       "arthurDoyle           1\n",
       "janeAusten            1\n",
       "charlesDarwin         1\n",
       "bmBower               1\n",
       "hgWells               1\n",
       "hermanMelville        1\n",
       "Name: label, dtype: int64"
      ]
     },
     "execution_count": 11,
     "metadata": {},
     "output_type": "execute_result"
    }
   ],
   "source": [
    "df_test.label.value_counts()"
   ]
  },
  {
   "cell_type": "code",
   "execution_count": 12,
   "metadata": {},
   "outputs": [
    {
     "data": {
      "text/plain": [
       "zaneGrey              1\n",
       "charlesDickens        1\n",
       "richardHarding        1\n",
       "allanPoe              1\n",
       "nathanielHawthorne    1\n",
       "thomasHardy           1\n",
       "bramStoker            1\n",
       "horatioAlger          1\n",
       "markTwain             1\n",
       "pgWodehouse           1\n",
       "hectorMunro           1\n",
       "andrewLang            1\n",
       "henryJames            1\n",
       "janeAusten            1\n",
       "arthurDoyle           1\n",
       "charlesDarwin         1\n",
       "bmBower               1\n",
       "hgWells               1\n",
       "whashingtonIrving     1\n",
       "hermanMelville        1\n",
       "Name: label, dtype: int64"
      ]
     },
     "execution_count": 12,
     "metadata": {},
     "output_type": "execute_result"
    }
   ],
   "source": [
    "df_val.label.value_counts()"
   ]
  },
  {
   "cell_type": "code",
   "execution_count": 13,
   "metadata": {},
   "outputs": [],
   "source": [
    "df_train['text'] = df_train['text'].apply(lambda t: pre_process_text(t, remove_stop_words=False, only_stop_words=False))"
   ]
  },
  {
   "cell_type": "code",
   "execution_count": 14,
   "metadata": {},
   "outputs": [],
   "source": [
    "df_test['text'] = df_test['text'].apply(lambda t: pre_process_text(t, remove_stop_words=False, only_stop_words=False))"
   ]
  },
  {
   "cell_type": "code",
   "execution_count": 15,
   "metadata": {},
   "outputs": [],
   "source": [
    "df_val['text'] = df_val['text'].apply(lambda t: pre_process_text(t, remove_stop_words=False, only_stop_words=False))"
   ]
  },
  {
   "cell_type": "code",
   "execution_count": 33,
   "metadata": {},
   "outputs": [
    {
     "data": {
      "text/plain": [
       "['CHARLES',\n",
       " 'DARWIN',\n",
       " 'Darwin',\n",
       " 'Darwin',\n",
       " 'CHARLES',\n",
       " 'DARWIN',\n",
       " 'Darwin',\n",
       " 'Darwin',\n",
       " 'Darwin',\n",
       " 'Darwin',\n",
       " 'Darwin',\n",
       " 'Darwin',\n",
       " 'Darwin',\n",
       " 'Darwin',\n",
       " 'Darwin',\n",
       " 'Darwin',\n",
       " 'Darwin',\n",
       " 'Darwin',\n",
       " 'Darwin',\n",
       " 'Darwin',\n",
       " 'Darwin',\n",
       " 'Darwin',\n",
       " 'Darwin',\n",
       " 'Darwin',\n",
       " 'Darwin',\n",
       " 'Darwin',\n",
       " 'Darwin',\n",
       " 'Darwin',\n",
       " 'Darwin',\n",
       " 'Darwin',\n",
       " 'Darwin',\n",
       " 'Darwin',\n",
       " 'Darwin',\n",
       " 'Darwin',\n",
       " 'Darwin',\n",
       " 'Darwin',\n",
       " 'Darwin',\n",
       " 'Darwin',\n",
       " 'Darwin',\n",
       " 'Darwin',\n",
       " 'Charles',\n",
       " 'Darwin',\n",
       " 'Darwin',\n",
       " 'Darwin',\n",
       " 'Darwin',\n",
       " 'Darwin',\n",
       " 'Darwin',\n",
       " 'Darwin',\n",
       " 'Darwin',\n",
       " 'Darwin',\n",
       " 'Darwin']"
      ]
     },
     "execution_count": 33,
     "metadata": {},
     "output_type": "execute_result"
    }
   ],
   "source": [
    "a= [w for w in df_val['text'][0] if w.lower() in ['CHARLES'.lower(), 'DARWIN'.lower()]]\n",
    "a"
   ]
  },
  {
   "cell_type": "code",
   "execution_count": 16,
   "metadata": {},
   "outputs": [
    {
     "data": {
      "text/plain": [
       "41452"
      ]
     },
     "execution_count": 16,
     "metadata": {},
     "output_type": "execute_result"
    }
   ],
   "source": [
    "min_len_book_train = min([len(i) for i in df_train[\"text\"]])\n",
    "min_len_book_test = min([len(i) for i in df_test[\"text\"]]) \n",
    "min_len_book_val = min([len(i) for i in df_val[\"text\"]])\n",
    "min_len_book = min([min_len_book_train, min_len_book_test, min_len_book_val])\n",
    "min_len_book"
   ]
  },
  {
   "cell_type": "code",
   "execution_count": 17,
   "metadata": {},
   "outputs": [],
   "source": [
    "df_train_par=partition_text(df_train, step, length_cut, min_len_book, random_flag)\n",
    "df_val_par=partition_text(df_val, step, length_cut, min_len_book, random_flag)\n",
    "df_test_par=partition_text(df_test, step, length_cut, min_len_book, random_flag)"
   ]
  },
  {
   "cell_type": "code",
   "execution_count": 18,
   "metadata": {},
   "outputs": [
    {
     "data": {
      "text/plain": [
       "(24900, 2)"
      ]
     },
     "execution_count": 18,
     "metadata": {},
     "output_type": "execute_result"
    }
   ],
   "source": [
    "df_train_par.shape"
   ]
  },
  {
   "cell_type": "code",
   "execution_count": 19,
   "metadata": {},
   "outputs": [
    {
     "data": {
      "text/plain": [
       "(8300, 2)"
      ]
     },
     "execution_count": 19,
     "metadata": {},
     "output_type": "execute_result"
    }
   ],
   "source": [
    "df_test_par.shape"
   ]
  },
  {
   "cell_type": "code",
   "execution_count": 20,
   "metadata": {},
   "outputs": [
    {
     "data": {
      "text/plain": [
       "(8300, 2)"
      ]
     },
     "execution_count": 20,
     "metadata": {},
     "output_type": "execute_result"
    }
   ],
   "source": [
    "df_val_par.shape"
   ]
  },
  {
   "cell_type": "code",
   "execution_count": 21,
   "metadata": {},
   "outputs": [
    {
     "data": {
      "text/plain": [
       "zaneGrey              1245\n",
       "pgWodehouse           1245\n",
       "hgWells               1245\n",
       "arthurDoyle           1245\n",
       "hectorMunro           1245\n",
       "thomasHardy           1245\n",
       "bmBower               1245\n",
       "whashingtonIrving     1245\n",
       "janeAusten            1245\n",
       "markTwain             1245\n",
       "hermanMelville        1245\n",
       "andrewLang            1245\n",
       "richardHarding        1245\n",
       "charlesDickens        1245\n",
       "horatioAlger          1245\n",
       "bramStoker            1245\n",
       "allanPoe              1245\n",
       "henryJames            1245\n",
       "charlesDarwin         1245\n",
       "nathanielHawthorne    1245\n",
       "Name: label, dtype: int64"
      ]
     },
     "execution_count": 21,
     "metadata": {},
     "output_type": "execute_result"
    }
   ],
   "source": [
    "df_train_par.label.value_counts()"
   ]
  },
  {
   "cell_type": "code",
   "execution_count": 22,
   "metadata": {},
   "outputs": [
    {
     "data": {
      "text/plain": [
       "andrewLang            415\n",
       "zaneGrey              415\n",
       "nathanielHawthorne    415\n",
       "bmBower               415\n",
       "whashingtonIrving     415\n",
       "janeAusten            415\n",
       "charlesDickens        415\n",
       "bramStoker            415\n",
       "hgWells               415\n",
       "allanPoe              415\n",
       "henryJames            415\n",
       "arthurDoyle           415\n",
       "markTwain             415\n",
       "hectorMunro           415\n",
       "thomasHardy           415\n",
       "horatioAlger          415\n",
       "hermanMelville        415\n",
       "charlesDarwin         415\n",
       "pgWodehouse           415\n",
       "richardHarding        415\n",
       "Name: label, dtype: int64"
      ]
     },
     "execution_count": 22,
     "metadata": {},
     "output_type": "execute_result"
    }
   ],
   "source": [
    "df_test_par.label.value_counts()"
   ]
  },
  {
   "cell_type": "code",
   "execution_count": 23,
   "metadata": {},
   "outputs": [
    {
     "data": {
      "text/plain": [
       "andrewLang            415\n",
       "zaneGrey              415\n",
       "nathanielHawthorne    415\n",
       "bmBower               415\n",
       "whashingtonIrving     415\n",
       "janeAusten            415\n",
       "charlesDickens        415\n",
       "bramStoker            415\n",
       "hgWells               415\n",
       "allanPoe              415\n",
       "henryJames            415\n",
       "arthurDoyle           415\n",
       "markTwain             415\n",
       "hectorMunro           415\n",
       "thomasHardy           415\n",
       "horatioAlger          415\n",
       "hermanMelville        415\n",
       "charlesDarwin         415\n",
       "pgWodehouse           415\n",
       "richardHarding        415\n",
       "Name: label, dtype: int64"
      ]
     },
     "execution_count": 23,
     "metadata": {},
     "output_type": "execute_result"
    }
   ],
   "source": [
    "df_val_par.label.value_counts()"
   ]
  },
  {
   "cell_type": "code",
   "execution_count": 24,
   "metadata": {},
   "outputs": [],
   "source": [
    "df_train_par.to_csv(\"df_train_\" + name_dataset + \"_\" + str(length_cut) + \"_\" + str(random_flag) + \".csv\", index=False)"
   ]
  },
  {
   "cell_type": "code",
   "execution_count": 25,
   "metadata": {},
   "outputs": [],
   "source": [
    "df_test_par.to_csv(\"df_test_\" + name_dataset + \"_\" + str(length_cut) + \"_\" + str(random_flag) + \".csv\", index=False)"
   ]
  },
  {
   "cell_type": "code",
   "execution_count": 26,
   "metadata": {},
   "outputs": [],
   "source": [
    "df_val_par.to_csv(\"df_val_\" + name_dataset + \"_\" + str(length_cut) + \"_\" + str(random_flag) + \".csv\", index=False)"
   ]
  },
  {
   "cell_type": "code",
   "execution_count": null,
   "metadata": {},
   "outputs": [],
   "source": []
  }
 ],
 "metadata": {
  "kernelspec": {
   "display_name": "venv",
   "language": "python",
   "name": "venv"
  },
  "language_info": {
   "codemirror_mode": {
    "name": "ipython",
    "version": 3
   },
   "file_extension": ".py",
   "mimetype": "text/x-python",
   "name": "python",
   "nbconvert_exporter": "python",
   "pygments_lexer": "ipython3",
   "version": "3.8.10"
  }
 },
 "nbformat": 4,
 "nbformat_minor": 4
}
