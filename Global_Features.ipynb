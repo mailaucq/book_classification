version https://git-lfs.github.com/spec/v1
oid sha256:ec1285f888c481177c54bb41cf77ad881e1624d8435cb4b78b8659137915ae5a
size 5381217
