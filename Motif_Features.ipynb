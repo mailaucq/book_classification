{
 "cells": [
  {
   "cell_type": "code",
   "execution_count": 1,
   "metadata": {},
   "outputs": [],
   "source": [
    "from network import CNetwork"
   ]
  },
  {
   "cell_type": "code",
   "execution_count": 2,
   "metadata": {},
   "outputs": [],
   "source": [
    "import pandas as pd\n",
    "import numpy as np"
   ]
  },
  {
   "cell_type": "code",
   "execution_count": 3,
   "metadata": {},
   "outputs": [],
   "source": [
    "import os"
   ]
  },
  {
   "cell_type": "code",
   "execution_count": 4,
   "metadata": {},
   "outputs": [],
   "source": [
    "name_dataset = \"dataset_1\"\n",
    "dataset_path = \"datasetsv2/\"\n",
    "length_cut = 10000\n",
    "random_flag = True\n",
    "remove_punctuation = True\n",
    "lemmatization_flag = True"
   ]
  },
  {
   "cell_type": "code",
   "execution_count": 5,
   "metadata": {},
   "outputs": [],
   "source": [
    "df = pd.read_csv(dataset_path + name_dataset + \".csv\")"
   ]
  },
  {
   "cell_type": "code",
   "execution_count": 6,
   "metadata": {},
   "outputs": [
    {
     "data": {
      "text/html": [
       "<div>\n",
       "<style scoped>\n",
       "    .dataframe tbody tr th:only-of-type {\n",
       "        vertical-align: middle;\n",
       "    }\n",
       "\n",
       "    .dataframe tbody tr th {\n",
       "        vertical-align: top;\n",
       "    }\n",
       "\n",
       "    .dataframe thead th {\n",
       "        text-align: right;\n",
       "    }\n",
       "</style>\n",
       "<table border=\"1\" class=\"dataframe\">\n",
       "  <thead>\n",
       "    <tr style=\"text-align: right;\">\n",
       "      <th></th>\n",
       "      <th>label</th>\n",
       "      <th>text</th>\n",
       "      <th>book</th>\n",
       "    </tr>\n",
       "  </thead>\n",
       "  <tbody>\n",
       "    <tr>\n",
       "      <th>0</th>\n",
       "      <td>Pelham Grenville</td>\n",
       "      <td>\\n\\n\\n\\n\\n\\n\\n\\nProduced by Christine Gehring,...</td>\n",
       "      <td>Right Ho Jeeves</td>\n",
       "    </tr>\n",
       "    <tr>\n",
       "      <th>1</th>\n",
       "      <td>Pelham Grenville</td>\n",
       "      <td>\\n\\n\\n\\n\\n\\n\\n\\nProduced by Suzanne L. Shell, ...</td>\n",
       "      <td>Tales Of St Austin</td>\n",
       "    </tr>\n",
       "    <tr>\n",
       "      <th>2</th>\n",
       "      <td>Joseph Conrad</td>\n",
       "      <td>And that last\\n\\nword was the single word of ...</td>\n",
       "      <td>Victory</td>\n",
       "    </tr>\n",
       "    <tr>\n",
       "      <th>3</th>\n",
       "      <td>Joseph Conrad</td>\n",
       "      <td>\\n\\n\\n\\nIf I have ever had these gifts in any ...</td>\n",
       "      <td>Under Western Eyes</td>\n",
       "    </tr>\n",
       "    <tr>\n",
       "      <th>4</th>\n",
       "      <td>Bram Stoker</td>\n",
       "      <td>\\n\\n\\n\\n                                  Lond...</td>\n",
       "      <td>The Lady Of The Shroud</td>\n",
       "    </tr>\n",
       "  </tbody>\n",
       "</table>\n",
       "</div>"
      ],
      "text/plain": [
       "              label                                               text  \\\n",
       "0  Pelham Grenville  \\n\\n\\n\\n\\n\\n\\n\\nProduced by Christine Gehring,...   \n",
       "1  Pelham Grenville  \\n\\n\\n\\n\\n\\n\\n\\nProduced by Suzanne L. Shell, ...   \n",
       "2     Joseph Conrad   And that last\\n\\nword was the single word of ...   \n",
       "3     Joseph Conrad  \\n\\n\\n\\nIf I have ever had these gifts in any ...   \n",
       "4       Bram Stoker  \\n\\n\\n\\n                                  Lond...   \n",
       "\n",
       "                     book  \n",
       "0         Right Ho Jeeves  \n",
       "1      Tales Of St Austin  \n",
       "2                 Victory  \n",
       "3      Under Western Eyes  \n",
       "4  The Lady Of The Shroud  "
      ]
     },
     "execution_count": 6,
     "metadata": {},
     "output_type": "execute_result"
    }
   ],
   "source": [
    "df.head(5)"
   ]
  },
  {
   "cell_type": "code",
   "execution_count": 7,
   "metadata": {},
   "outputs": [],
   "source": [
    "from utils.text_processing import get_min_len_corpus"
   ]
  },
  {
   "cell_type": "code",
   "execution_count": 8,
   "metadata": {},
   "outputs": [
    {
     "name": "stdout",
     "output_type": "stream",
     "text": [
      "Min Length: 55024\n"
     ]
    }
   ],
   "source": [
    "print(\"Min Length:\", get_min_len_corpus(list(df[\"text\"])))"
   ]
  },
  {
   "cell_type": "code",
   "execution_count": 9,
   "metadata": {},
   "outputs": [],
   "source": [
    "from utils.text_processing import get_corpus, get_random_corpus"
   ]
  },
  {
   "cell_type": "code",
   "execution_count": 10,
   "metadata": {},
   "outputs": [],
   "source": [
    "texts = list(df['text'])"
   ]
  },
  {
   "cell_type": "code",
   "execution_count": 11,
   "metadata": {},
   "outputs": [],
   "source": [
    "corpus, segmented_corpus = get_corpus(texts, length_cut)"
   ]
  },
  {
   "cell_type": "code",
   "execution_count": 12,
   "metadata": {},
   "outputs": [],
   "source": [
    "selected_corpus, words_features, word_index, index_word = get_random_corpus(segmented_corpus, remove_punctuation=remove_punctuation, lemmatization_flag=lemmatization_flag)"
   ]
  },
  {
   "cell_type": "code",
   "execution_count": 13,
   "metadata": {},
   "outputs": [
    {
     "data": {
      "text/plain": [
       "78"
      ]
     },
     "execution_count": 13,
     "metadata": {},
     "output_type": "execute_result"
    }
   ],
   "source": [
    "len(selected_corpus)"
   ]
  },
  {
   "cell_type": "code",
   "execution_count": 14,
   "metadata": {},
   "outputs": [],
   "source": [
    "labels = list(df['label'])"
   ]
  },
  {
   "cell_type": "code",
   "execution_count": 15,
   "metadata": {},
   "outputs": [
    {
     "name": "stdout",
     "output_type": "stream",
     "text": [
      "Total classes: 13\n",
      "Total entities for each class in train: 6\n"
     ]
    }
   ],
   "source": [
    "total_classes = list(set(labels))  ## or author\n",
    "print(\"Total classes: {}\".format(len(total_classes)))\n",
    "number_books = (df[df['label'] == total_classes[0]]).shape[0]\n",
    "print(\"Total entities for each class in train: {}\".format(number_books))\n",
    "dict_categories = {cat: index for index, cat in enumerate(total_classes)}"
   ]
  },
  {
   "cell_type": "code",
   "execution_count": 16,
   "metadata": {},
   "outputs": [],
   "source": [
    "y = [dict_categories[y] for y in labels]"
   ]
  },
  {
   "cell_type": "code",
   "execution_count": 17,
   "metadata": {},
   "outputs": [
    {
     "data": {
      "text/plain": [
       "['Hector Hugh',\n",
       " 'Charles Dickens',\n",
       " 'Joseph Conrad',\n",
       " 'George Eliot',\n",
       " 'Allan Poe',\n",
       " 'Arthur Conan Doyle',\n",
       " 'Charles Darwin',\n",
       " 'Thomas Hardy',\n",
       " 'Pelham Grenville',\n",
       " 'Bram Stoker',\n",
       " 'Daniel Defoe',\n",
       " 'Mark Twain',\n",
       " 'Jane Austen']"
      ]
     },
     "execution_count": 17,
     "metadata": {},
     "output_type": "execute_result"
    }
   ],
   "source": [
    "total_classes"
   ]
  },
  {
   "cell_type": "code",
   "execution_count": 18,
   "metadata": {},
   "outputs": [],
   "source": [
    "import json\n",
    "def motifs(operating_system, networks):\n",
    "    input_path = \"motifs/dataset/\"+str(length_cut)+\"/\"\n",
    "    output_path = 'motifs/features/'\n",
    "    try: \n",
    "        os.mkdir(input_path)\n",
    "        os.mkdir(output_path)\n",
    "    except:\n",
    "        print(\"Existe\")\n",
    "    for i, netw in enumerate(networks):\n",
    "        netw.write_pajek(input_path+str(i)+\".paj\")\n",
    "    for i, netw in enumerate(networks):\n",
    "        if operating_system == 'linux':\n",
    "            #path_command = \"python struc2vec/src/main.py --dimensions \"+str(dimension)+\" --input \"+input_path+str(length_cut)+\"_\"+str(dimension)+\"_\"+str(i)+\".edgelist --output \"+output_path+str(length_cut)+\"_\"+str(dimension)+\"_\"+str(i)+\".emb\"\n",
    "            path_command = 'python motifs/get_frequencies.py -r ' + input_path + str(i) + '.paj' + ' > ' + output_path+str(length_cut)+\"_\"+str(i)+'.emb'\n",
    "            os.system(path_command)\n",
    "            print(\"motifs\", str(i))"
   ]
  },
  {
   "cell_type": "code",
   "execution_count": 57,
   "metadata": {},
   "outputs": [],
   "source": [
    "def read_motifs(output_path, networks):\n",
    "    all_network_features = [[] for _ in range(len(networks))]\n",
    "    for i in range(len(networks)):\n",
    "        with open(output_path+str(length_cut)+\"_\"+str(i)+\".emb\", \"r\") as f:\n",
    "            motifs_features = f.read().replace(\"\\n\",\"\").replace(\"[\",\"\").replace(\"]\",\"\").split(\",\")\n",
    "            motifs_features = [float(v) for v in motifs_features]\n",
    "            print(motifs_features)\n",
    "            \n",
    "            network_features = np.array(motifs_features)\n",
    "            print(str(i), \"len\",len(network_features))\n",
    "            all_network_features[i] = network_features\n",
    "    return np.array(all_network_features)"
   ]
  },
  {
   "cell_type": "code",
   "execution_count": 60,
   "metadata": {},
   "outputs": [],
   "source": [
    "def get_motifs_features(sequences, index_word):\n",
    "    nets = []\n",
    "    for text in sequences:\n",
    "        obj = CNetwork(text, model=None, index_word=index_word, percentages=None, path=\"\")\n",
    "        network = obj.create_network(directed=True)\n",
    "        nets.append(network)\n",
    "    motifs(\"linux\", nets)\n",
    "    X = read_motifs('motifs/features/', nets)\n",
    "    return X"
   ]
  },
  {
   "cell_type": "code",
   "execution_count": null,
   "metadata": {},
   "outputs": [
    {
     "name": "stdout",
     "output_type": "stream",
     "text": [
      "Nodes: 1905 - Edges: 6075\n",
      "Nodes: 1978 - Edges: 6361\n",
      "Nodes: 1858 - Edges: 6388\n",
      "Nodes: 2158 - Edges: 6742\n",
      "Nodes: 1778 - Edges: 6267\n",
      "Nodes: 1779 - Edges: 6286\n",
      "Nodes: 1940 - Edges: 6440\n",
      "Nodes: 1847 - Edges: 6455\n",
      "Nodes: 1716 - Edges: 6272\n",
      "Nodes: 2253 - Edges: 6609\n",
      "Nodes: 2136 - Edges: 6520\n",
      "Nodes: 1376 - Edges: 5675\n",
      "Nodes: 2234 - Edges: 6992\n",
      "Nodes: 1632 - Edges: 6322\n",
      "Nodes: 2179 - Edges: 6624\n",
      "Nodes: 1362 - Edges: 5571\n",
      "Nodes: 2024 - Edges: 6576\n",
      "Nodes: 2253 - Edges: 6620\n",
      "Nodes: 2246 - Edges: 6843\n",
      "Nodes: 2076 - Edges: 6881\n",
      "Nodes: 2650 - Edges: 7028\n",
      "Nodes: 1877 - Edges: 6583\n",
      "Nodes: 1718 - Edges: 6319\n",
      "Nodes: 2053 - Edges: 6617\n",
      "Nodes: 1410 - Edges: 4786\n",
      "Nodes: 2168 - Edges: 6780\n",
      "Nodes: 2096 - Edges: 6605\n",
      "Nodes: 2200 - Edges: 6788\n",
      "Nodes: 2083 - Edges: 6783\n",
      "Nodes: 2002 - Edges: 6208\n",
      "Nodes: 1632 - Edges: 5796\n",
      "Nodes: 2425 - Edges: 6834\n",
      "Nodes: 1989 - Edges: 5897\n",
      "Nodes: 1919 - Edges: 6731\n",
      "Nodes: 1425 - Edges: 5847\n",
      "Nodes: 1876 - Edges: 6569\n",
      "Nodes: 1889 - Edges: 6461\n",
      "Nodes: 2170 - Edges: 6787\n",
      "Nodes: 2555 - Edges: 7070\n",
      "Nodes: 2129 - Edges: 6724\n",
      "Nodes: 2179 - Edges: 6879\n",
      "Nodes: 2106 - Edges: 6695\n",
      "Nodes: 1477 - Edges: 5994\n",
      "Nodes: 2604 - Edges: 6987\n",
      "Nodes: 2530 - Edges: 6636\n",
      "Nodes: 1970 - Edges: 6527\n",
      "Nodes: 1960 - Edges: 6334\n",
      "Nodes: 2106 - Edges: 6879\n",
      "Nodes: 1861 - Edges: 6522\n",
      "Nodes: 2105 - Edges: 6472\n",
      "Nodes: 1989 - Edges: 6749\n",
      "Nodes: 1953 - Edges: 6495\n",
      "Nodes: 2410 - Edges: 6959\n",
      "Nodes: 2009 - Edges: 6924\n",
      "Nodes: 1851 - Edges: 6363\n",
      "Nodes: 2387 - Edges: 6875\n",
      "Nodes: 2154 - Edges: 6708\n",
      "Nodes: 2094 - Edges: 6905\n",
      "Nodes: 1887 - Edges: 6621\n",
      "Nodes: 1540 - Edges: 6085\n",
      "Nodes: 1623 - Edges: 6014\n",
      "Nodes: 1882 - Edges: 6397\n",
      "Nodes: 1407 - Edges: 5778\n",
      "Nodes: 1802 - Edges: 6096\n",
      "Nodes: 2407 - Edges: 6927\n",
      "Nodes: 1698 - Edges: 5983\n",
      "Nodes: 1833 - Edges: 6084\n",
      "Nodes: 1911 - Edges: 6516\n",
      "Nodes: 1842 - Edges: 6478\n",
      "Nodes: 2199 - Edges: 6554\n",
      "Nodes: 2229 - Edges: 6874\n",
      "Nodes: 2643 - Edges: 7184\n",
      "Nodes: 2146 - Edges: 6781\n",
      "Nodes: 2107 - Edges: 6573\n",
      "Nodes: 1805 - Edges: 6466\n",
      "Nodes: 1929 - Edges: 6642\n",
      "Nodes: 2059 - Edges: 6263\n",
      "Nodes: 2238 - Edges: 6894\n",
      "Existe\n",
      "motifs 0\n",
      "motifs 1\n",
      "motifs 2\n",
      "motifs 3\n",
      "motifs 4\n",
      "motifs 5\n",
      "motifs 6\n",
      "motifs 7\n",
      "motifs 8\n",
      "motifs 9\n",
      "motifs 10\n",
      "motifs 11\n",
      "motifs 12\n",
      "motifs 13\n",
      "motifs 14\n",
      "motifs 15\n",
      "motifs 16\n",
      "motifs 17\n",
      "motifs 18\n",
      "motifs 19\n",
      "motifs 20\n",
      "motifs 21\n",
      "motifs 22\n",
      "motifs 23\n",
      "motifs 24\n",
      "motifs 25\n",
      "motifs 26\n",
      "motifs 27\n",
      "motifs 28\n",
      "motifs 29\n",
      "motifs 30\n",
      "motifs 31\n",
      "motifs 32\n",
      "motifs 33\n",
      "motifs 34\n",
      "motifs 35\n",
      "motifs 36\n",
      "motifs 37\n",
      "motifs 38\n",
      "motifs 39\n",
      "motifs 40\n",
      "motifs 41\n",
      "motifs 42\n",
      "motifs 43\n",
      "motifs 44\n",
      "motifs 45\n",
      "motifs 46\n",
      "motifs 47\n",
      "motifs 48\n",
      "motifs 49\n",
      "motifs 50\n",
      "motifs 51\n",
      "motifs 52\n",
      "motifs 53\n",
      "motifs 54\n",
      "motifs 55\n",
      "motifs 56\n",
      "motifs 57\n",
      "motifs 58\n",
      "motifs 59\n",
      "motifs 60\n",
      "motifs 61\n",
      "motifs 62\n",
      "motifs 63\n",
      "motifs 64\n"
     ]
    }
   ],
   "source": [
    "X = get_motifs_features(selected_corpus, index_word)"
   ]
  },
  {
   "cell_type": "code",
   "execution_count": 52,
   "metadata": {},
   "outputs": [
    {
     "name": "stdout",
     "output_type": "stream",
     "text": [
      "Lenght of features: (78, 13)\n"
     ]
    }
   ],
   "source": [
    "print(\"Lenght of features:\", X.shape)"
   ]
  },
  {
   "cell_type": "code",
   "execution_count": 53,
   "metadata": {},
   "outputs": [
    {
     "data": {
      "text/plain": [
       "array([[8.69840e+04, 1.56643e+05, 1.64950e+04, ..., 3.16000e+02,\n",
       "        2.18000e+02, 1.80000e+01],\n",
       "       [8.95340e+04, 1.70983e+05, 1.48080e+04, ..., 2.06000e+02,\n",
       "        9.70000e+01, 1.50000e+01],\n",
       "       [9.78830e+04, 1.65057e+05, 1.80960e+04, ..., 3.18000e+02,\n",
       "        2.22000e+02, 1.20000e+01],\n",
       "       ...,\n",
       "       [9.93340e+04, 1.87523e+05, 1.85770e+04, ..., 3.12000e+02,\n",
       "        1.35000e+02, 9.00000e+00],\n",
       "       [1.15348e+05, 1.87443e+05, 1.38590e+04, ..., 1.73000e+02,\n",
       "        6.80000e+01, 2.00000e+00],\n",
       "       [1.24832e+05, 2.31795e+05, 2.45870e+04, ..., 2.91000e+02,\n",
       "        1.56000e+02, 1.60000e+01]])"
      ]
     },
     "execution_count": 53,
     "metadata": {},
     "output_type": "execute_result"
    }
   ],
   "source": [
    "X"
   ]
  },
  {
   "cell_type": "code",
   "execution_count": 54,
   "metadata": {},
   "outputs": [
    {
     "data": {
      "text/plain": [
       "13"
      ]
     },
     "execution_count": 54,
     "metadata": {},
     "output_type": "execute_result"
    }
   ],
   "source": [
    "len(X[0])"
   ]
  },
  {
   "cell_type": "markdown",
   "metadata": {},
   "source": [
    "# Classification"
   ]
  },
  {
   "cell_type": "code",
   "execution_count": 55,
   "metadata": {},
   "outputs": [],
   "source": [
    "import classifierv2"
   ]
  },
  {
   "cell_type": "code",
   "execution_count": 56,
   "metadata": {},
   "outputs": [
    {
     "name": "stdout",
     "output_type": "stream",
     "text": [
      "Score 0.25\n",
      "Score 0.1875\n",
      "Score 0.25\n",
      "Score 0.3125\n"
     ]
    }
   ],
   "source": [
    "obj = classifierv2.Classification(X, y)\n",
    "scores = obj.classification()"
   ]
  },
  {
   "cell_type": "code",
   "execution_count": null,
   "metadata": {},
   "outputs": [],
   "source": []
  }
 ],
 "metadata": {
  "kernelspec": {
   "display_name": "venv",
   "language": "python",
   "name": "venv"
  },
  "language_info": {
   "codemirror_mode": {
    "name": "ipython",
    "version": 3
   },
   "file_extension": ".py",
   "mimetype": "text/x-python",
   "name": "python",
   "nbconvert_exporter": "python",
   "pygments_lexer": "ipython3",
   "version": "3.8.10"
  }
 },
 "nbformat": 4,
 "nbformat_minor": 4
}
