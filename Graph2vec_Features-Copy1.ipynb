{
 "cells": [
  {
   "cell_type": "code",
   "execution_count": 1,
   "metadata": {},
   "outputs": [
    {
     "name": "stdout",
     "output_type": "stream",
     "text": [
      "Requirement already satisfied: pandas in ./venv/lib/python3.8/site-packages (1.2.3)\r\n",
      "Requirement already satisfied: numpy>=1.16.5 in ./venv/lib/python3.8/site-packages (from pandas) (1.20.1)\r\n",
      "Requirement already satisfied: pytz>=2017.3 in ./venv/lib/python3.8/site-packages (from pandas) (2021.1)\r\n",
      "Requirement already satisfied: python-dateutil>=2.7.3 in ./venv/lib/python3.8/site-packages (from pandas) (2.8.1)\r\n",
      "Requirement already satisfied: six>=1.5 in ./venv/lib/python3.8/site-packages (from python-dateutil>=2.7.3->pandas) (1.14.0)\r\n"
     ]
    }
   ],
   "source": [
    "!pip install pandas"
   ]
  },
  {
   "cell_type": "code",
   "execution_count": 2,
   "metadata": {},
   "outputs": [
    {
     "name": "stdout",
     "output_type": "stream",
     "text": [
      "Requirement already satisfied: networkx in ./venv/lib/python3.8/site-packages (2.6.2)\r\n"
     ]
    }
   ],
   "source": [
    "!pip install networkx"
   ]
  },
  {
   "cell_type": "code",
   "execution_count": 3,
   "metadata": {},
   "outputs": [
    {
     "name": "stdout",
     "output_type": "stream",
     "text": [
      "Requirement already satisfied: joblib in ./venv/lib/python3.8/site-packages (1.0.1)\r\n"
     ]
    }
   ],
   "source": [
    "!pip install joblib"
   ]
  },
  {
   "cell_type": "code",
   "execution_count": 4,
   "metadata": {},
   "outputs": [
    {
     "name": "stdout",
     "output_type": "stream",
     "text": [
      "Requirement already satisfied: gensim in ./venv/lib/python3.8/site-packages (3.8.3)\n",
      "Requirement already satisfied: scipy>=0.18.1 in ./venv/lib/python3.8/site-packages (from gensim) (1.6.2)\n",
      "Requirement already satisfied: six>=1.5.0 in ./venv/lib/python3.8/site-packages (from gensim) (1.14.0)\n",
      "Requirement already satisfied: smart-open>=1.8.1 in ./venv/lib/python3.8/site-packages (from gensim) (4.2.0)\n",
      "Requirement already satisfied: numpy>=1.11.3 in ./venv/lib/python3.8/site-packages (from gensim) (1.20.1)\n"
     ]
    }
   ],
   "source": [
    "!pip install gensim"
   ]
  },
  {
   "cell_type": "code",
   "execution_count": 38,
   "metadata": {},
   "outputs": [],
   "source": [
    "from network import CNetwork"
   ]
  },
  {
   "cell_type": "code",
   "execution_count": 39,
   "metadata": {},
   "outputs": [],
   "source": [
    "import pandas as pd\n",
    "import numpy as np"
   ]
  },
  {
   "cell_type": "code",
   "execution_count": 40,
   "metadata": {},
   "outputs": [],
   "source": [
    "from utils import verifyDir"
   ]
  },
  {
   "cell_type": "code",
   "execution_count": 41,
   "metadata": {},
   "outputs": [],
   "source": [
    "name_dataset = \"dataset_1\"\n",
    "dataset_path = \"datasetsv2/\"\n",
    "length_cut = 10000\n",
    "random_flag = True"
   ]
  },
  {
   "cell_type": "code",
   "execution_count": 42,
   "metadata": {},
   "outputs": [],
   "source": [
    "auxiliar_path = 'auxiliar_folder/' + name_dataset   + '/'\n",
    "verifyDir(auxiliar_path)"
   ]
  },
  {
   "cell_type": "code",
   "execution_count": 43,
   "metadata": {},
   "outputs": [],
   "source": [
    "df = pd.read_csv(dataset_path + name_dataset + \".csv\")"
   ]
  },
  {
   "cell_type": "code",
   "execution_count": 44,
   "metadata": {},
   "outputs": [
    {
     "data": {
      "text/html": [
       "<div>\n",
       "<style scoped>\n",
       "    .dataframe tbody tr th:only-of-type {\n",
       "        vertical-align: middle;\n",
       "    }\n",
       "\n",
       "    .dataframe tbody tr th {\n",
       "        vertical-align: top;\n",
       "    }\n",
       "\n",
       "    .dataframe thead th {\n",
       "        text-align: right;\n",
       "    }\n",
       "</style>\n",
       "<table border=\"1\" class=\"dataframe\">\n",
       "  <thead>\n",
       "    <tr style=\"text-align: right;\">\n",
       "      <th></th>\n",
       "      <th>label</th>\n",
       "      <th>text</th>\n",
       "      <th>book</th>\n",
       "    </tr>\n",
       "  </thead>\n",
       "  <tbody>\n",
       "    <tr>\n",
       "      <th>0</th>\n",
       "      <td>Pelham Grenville</td>\n",
       "      <td>\\n\\n\\n\\n\\n\\n\\n\\nProduced by Christine Gehring,...</td>\n",
       "      <td>Right Ho Jeeves</td>\n",
       "    </tr>\n",
       "    <tr>\n",
       "      <th>1</th>\n",
       "      <td>Pelham Grenville</td>\n",
       "      <td>\\n\\n\\n\\n\\n\\n\\n\\nProduced by Suzanne L. Shell, ...</td>\n",
       "      <td>Tales Of St Austin</td>\n",
       "    </tr>\n",
       "    <tr>\n",
       "      <th>2</th>\n",
       "      <td>Joseph Conrad</td>\n",
       "      <td>And that last\\n\\nword was the single word of ...</td>\n",
       "      <td>Victory</td>\n",
       "    </tr>\n",
       "    <tr>\n",
       "      <th>3</th>\n",
       "      <td>Joseph Conrad</td>\n",
       "      <td>\\n\\n\\n\\nIf I have ever had these gifts in any ...</td>\n",
       "      <td>Under Western Eyes</td>\n",
       "    </tr>\n",
       "    <tr>\n",
       "      <th>4</th>\n",
       "      <td>Bram Stoker</td>\n",
       "      <td>\\n\\n\\n\\n                                  Lond...</td>\n",
       "      <td>The Lady Of The Shroud</td>\n",
       "    </tr>\n",
       "  </tbody>\n",
       "</table>\n",
       "</div>"
      ],
      "text/plain": [
       "              label                                               text  \\\n",
       "0  Pelham Grenville  \\n\\n\\n\\n\\n\\n\\n\\nProduced by Christine Gehring,...   \n",
       "1  Pelham Grenville  \\n\\n\\n\\n\\n\\n\\n\\nProduced by Suzanne L. Shell, ...   \n",
       "2     Joseph Conrad   And that last\\n\\nword was the single word of ...   \n",
       "3     Joseph Conrad  \\n\\n\\n\\nIf I have ever had these gifts in any ...   \n",
       "4       Bram Stoker  \\n\\n\\n\\n                                  Lond...   \n",
       "\n",
       "                     book  \n",
       "0         Right Ho Jeeves  \n",
       "1      Tales Of St Austin  \n",
       "2                 Victory  \n",
       "3      Under Western Eyes  \n",
       "4  The Lady Of The Shroud  "
      ]
     },
     "execution_count": 44,
     "metadata": {},
     "output_type": "execute_result"
    }
   ],
   "source": [
    "df.head(5)"
   ]
  },
  {
   "cell_type": "code",
   "execution_count": 45,
   "metadata": {},
   "outputs": [],
   "source": [
    "from utils.text_processing import get_min_len_corpus"
   ]
  },
  {
   "cell_type": "code",
   "execution_count": 46,
   "metadata": {},
   "outputs": [
    {
     "name": "stdout",
     "output_type": "stream",
     "text": [
      "Min Length: 47826\n"
     ]
    }
   ],
   "source": [
    "print(\"Min Length:\", get_min_len_corpus(list(df[\"text\"])))"
   ]
  },
  {
   "cell_type": "code",
   "execution_count": 47,
   "metadata": {},
   "outputs": [],
   "source": [
    "from utils.text_processing import get_corpus, get_random_corpus"
   ]
  },
  {
   "cell_type": "code",
   "execution_count": 48,
   "metadata": {},
   "outputs": [],
   "source": [
    "texts = list(df['text'])"
   ]
  },
  {
   "cell_type": "code",
   "execution_count": 49,
   "metadata": {},
   "outputs": [],
   "source": [
    "corpus, segmented_corpus = get_corpus(texts, length_cut)"
   ]
  },
  {
   "cell_type": "code",
   "execution_count": 50,
   "metadata": {},
   "outputs": [],
   "source": [
    "from utils.text_processing import remove_puntuaction"
   ]
  },
  {
   "cell_type": "code",
   "execution_count": 51,
   "metadata": {},
   "outputs": [],
   "source": [
    "segmented_corpus = [[[remove_puntuaction(w) for w in t] for t in p] for p in segmented_corpus ]"
   ]
  },
  {
   "cell_type": "code",
   "execution_count": 52,
   "metadata": {},
   "outputs": [],
   "source": [
    "selected_corpus, words_features, word_index, index_word = get_random_corpus(segmented_corpus)"
   ]
  },
  {
   "cell_type": "code",
   "execution_count": 53,
   "metadata": {},
   "outputs": [
    {
     "data": {
      "text/plain": [
       "78"
      ]
     },
     "execution_count": 53,
     "metadata": {},
     "output_type": "execute_result"
    }
   ],
   "source": [
    "len(selected_corpus)"
   ]
  },
  {
   "cell_type": "code",
   "execution_count": 54,
   "metadata": {},
   "outputs": [],
   "source": [
    "labels = list(df['label'])"
   ]
  },
  {
   "cell_type": "code",
   "execution_count": 55,
   "metadata": {},
   "outputs": [
    {
     "name": "stdout",
     "output_type": "stream",
     "text": [
      "Total classes: 13\n",
      "Total entities for each class in train: 6\n"
     ]
    }
   ],
   "source": [
    "total_classes = list(set(labels))  ## or author\n",
    "print(\"Total classes: {}\".format(len(total_classes)))\n",
    "number_books = (df[df['label'] == total_classes[0]]).shape[0]\n",
    "print(\"Total entities for each class in train: {}\".format(number_books))\n",
    "dict_categories = {cat: index for index, cat in enumerate(total_classes)}"
   ]
  },
  {
   "cell_type": "code",
   "execution_count": 56,
   "metadata": {},
   "outputs": [],
   "source": [
    "y = [dict_categories[y] for y in labels]"
   ]
  },
  {
   "cell_type": "code",
   "execution_count": 57,
   "metadata": {},
   "outputs": [
    {
     "data": {
      "text/plain": [
       "['Bram Stoker',\n",
       " 'Joseph Conrad',\n",
       " 'Pelham Grenville',\n",
       " 'Mark Twain',\n",
       " 'Thomas Hardy',\n",
       " 'Hector Hugh',\n",
       " 'Charles Dickens',\n",
       " 'George Eliot',\n",
       " 'Charles Darwin',\n",
       " 'Daniel Defoe',\n",
       " 'Jane Austen',\n",
       " 'Allan Poe',\n",
       " 'Arthur Conan Doyle']"
      ]
     },
     "execution_count": 57,
     "metadata": {},
     "output_type": "execute_result"
    }
   ],
   "source": [
    "total_classes"
   ]
  },
  {
   "cell_type": "code",
   "execution_count": 58,
   "metadata": {},
   "outputs": [],
   "source": [
    "def read_embeddings(fname):\n",
    "    with open(fname) as f:\n",
    "        f.readline()\n",
    "        names = []\n",
    "        data = []\n",
    "        for line in f:\n",
    "            line = line.strip().split(\",\")\n",
    "            names.append(line[0])\n",
    "            data.append([float(v) for v in line[1:]])\n",
    "        return names, data"
   ]
  },
  {
   "cell_type": "code",
   "execution_count": 59,
   "metadata": {},
   "outputs": [],
   "source": [
    "def organize_data(graph2label, embed_vnames, embed_vecs):\n",
    "    N = len(graph2label)\n",
    "    data = [0 for _ in range(N)]\n",
    "    labels = [0 for _ in range(N)]\n",
    "    for i in range(len(graph2label)):\n",
    "        idx = embed_vnames[i]\n",
    "        data[int(idx)] = embed_vecs[i]\n",
    "        labels[int(idx)] = graph2label[idx]\n",
    "    return np.array(data), np.array(labels)"
   ]
  },
  {
   "cell_type": "code",
   "execution_count": 60,
   "metadata": {},
   "outputs": [],
   "source": [
    "from utils.igraph2json import igraph2json1\n",
    "import os"
   ]
  },
  {
   "cell_type": "code",
   "execution_count": 61,
   "metadata": {},
   "outputs": [],
   "source": [
    "def graph2vec1(path, operating_system, networks, labels):\n",
    "    networks_dir = path + 'dataset/'\n",
    "    emb_file = path + 'features/nci1.csv'\n",
    "    graph2label = {}\n",
    "    try: \n",
    "        os.mkdir(in_network)\n",
    "        os.mkdir(path + 'features/')\n",
    "    except:\n",
    "        print(\"Existe\")\n",
    "    for (i, netw), label in zip(enumerate(networks), labels):\n",
    "        graph2label[str(i)] = label\n",
    "        igraph2json1(netw, networks_dir + str(i) + \".json\")\n",
    "    if operating_system == 'linux':\n",
    "        path_command = 'python ./graph2vec/src/graph2vec.py --input-path ' + networks_dir + ' --output-path ' + emb_file + ' --dimensions ' + str(512)\n",
    "    os.system(path_command)\n",
    "    embed_vnames, embed_vecs = read_embeddings(emb_file)\n",
    "    X, y = organize_data(graph2label, embed_vnames, embed_vecs)\n",
    "    return X, y\n"
   ]
  },
  {
   "cell_type": "code",
   "execution_count": 62,
   "metadata": {},
   "outputs": [],
   "source": [
    "def graph2vec(path, operating_system, networks):\n",
    "    in_network = path + 'dataset/'\n",
    "    extra_file = path + 'features/nci1.csv'\n",
    "    try: \n",
    "        os.mkdir(in_network)\n",
    "        os.mkdir(path + 'features/')\n",
    "    except:\n",
    "        print(\"Existe\")\n",
    "    for i, netw in enumerate(networks):\n",
    "        igraph2json1(netw, in_network + str(i) + \".json\")\n",
    "    if operating_system == 'linux':\n",
    "        path_command = 'python graph2vec/src/graph2vec.py --input-path ' + in_network + ' --output-path ' + extra_file + ' --dimensions ' + str(512)\n",
    "    os.system(path_command)\n",
    "    g2v = pd.read_csv(extra_file, sep=',', lineterminator='\\n')\n",
    "    g2v.set_index(\"type\")\n",
    "    all_network_features = [g2v.loc[i].values for i, _ in enumerate(networks)]\n",
    "    print(\"graph2vec\")\n",
    "    return all_network_features"
   ]
  },
  {
   "cell_type": "code",
   "execution_count": 63,
   "metadata": {},
   "outputs": [],
   "source": [
    "def get_graph2vec_features(sequences):\n",
    "    network_features = pd.DataFrame()\n",
    "    nets = []\n",
    "    for text in sequences:\n",
    "        obj = CNetwork(text, model=None, index_word=index_word, percentages=None, path=auxiliar_path)\n",
    "        network = obj.create_network()\n",
    "        nets.append(network)\n",
    "    X = np.array(graph2vec(\"\", \"linux\", nets))\n",
    "    return X"
   ]
  },
  {
   "cell_type": "code",
   "execution_count": 64,
   "metadata": {},
   "outputs": [
    {
     "name": "stdout",
     "output_type": "stream",
     "text": [
      "Nodes: 2455 - Edges: 7350\n",
      "Nodes: 2330 - Edges: 7408\n",
      "Nodes: 2589 - Edges: 7687\n",
      "Nodes: 2684 - Edges: 7776\n",
      "Nodes: 2341 - Edges: 7370\n",
      "Nodes: 1734 - Edges: 6752\n",
      "Nodes: 2125 - Edges: 6897\n",
      "Nodes: 2255 - Edges: 7316\n",
      "Nodes: 2090 - Edges: 6992\n",
      "Nodes: 2520 - Edges: 7471\n",
      "Nodes: 2419 - Edges: 7407\n",
      "Nodes: 2272 - Edges: 7153\n",
      "Nodes: 2890 - Edges: 7855\n",
      "Nodes: 1667 - Edges: 6489\n",
      "Nodes: 2678 - Edges: 7700\n",
      "Nodes: 1797 - Edges: 6530\n",
      "Nodes: 2975 - Edges: 7811\n",
      "Nodes: 2846 - Edges: 7814\n",
      "Nodes: 2492 - Edges: 7652\n",
      "Nodes: 2433 - Edges: 7644\n",
      "Nodes: 2193 - Edges: 4858\n",
      "Nodes: 2231 - Edges: 7180\n",
      "Nodes: 2185 - Edges: 7378\n",
      "Nodes: 2893 - Edges: 7913\n",
      "Nodes: 1540 - Edges: 5405\n",
      "Nodes: 2560 - Edges: 7662\n",
      "Nodes: 2453 - Edges: 7451\n",
      "Nodes: 2741 - Edges: 7739\n",
      "Nodes: 2413 - Edges: 7685\n",
      "Nodes: 2634 - Edges: 7536\n",
      "Nodes: 1937 - Edges: 6480\n",
      "Nodes: 2906 - Edges: 7803\n",
      "Nodes: 2750 - Edges: 7512\n",
      "Nodes: 2287 - Edges: 7522\n",
      "Nodes: 1646 - Edges: 6209\n",
      "Nodes: 1973 - Edges: 7126\n",
      "Nodes: 2080 - Edges: 7143\n",
      "Nodes: 2806 - Edges: 7747\n",
      "Nodes: 2978 - Edges: 7977\n",
      "Nodes: 2774 - Edges: 7929\n",
      "Nodes: 2755 - Edges: 7782\n",
      "Nodes: 3065 - Edges: 8036\n",
      "Nodes: 1735 - Edges: 6591\n",
      "Nodes: 2964 - Edges: 7615\n",
      "Nodes: 2576 - Edges: 7557\n",
      "Nodes: 2528 - Edges: 7660\n",
      "Nodes: 2622 - Edges: 7543\n",
      "Nodes: 2604 - Edges: 7687\n",
      "Nodes: 2236 - Edges: 7515\n",
      "Nodes: 2503 - Edges: 7539\n",
      "Nodes: 2065 - Edges: 7229\n",
      "Nodes: 2344 - Edges: 7292\n",
      "Nodes: 2501 - Edges: 6359\n",
      "Nodes: 2442 - Edges: 7662\n",
      "Nodes: 2374 - Edges: 7563\n",
      "Nodes: 2829 - Edges: 7822\n",
      "Nodes: 2657 - Edges: 7766\n",
      "Nodes: 2447 - Edges: 7682\n",
      "Nodes: 2219 - Edges: 7449\n",
      "Nodes: 1851 - Edges: 6809\n",
      "Nodes: 1821 - Edges: 6550\n",
      "Nodes: 2336 - Edges: 7264\n",
      "Nodes: 1615 - Edges: 6367\n",
      "Nodes: 1698 - Edges: 6260\n",
      "Nodes: 3083 - Edges: 7960\n",
      "Nodes: 2177 - Edges: 7008\n",
      "Nodes: 2294 - Edges: 7332\n",
      "Nodes: 2338 - Edges: 7452\n",
      "Nodes: 2464 - Edges: 7484\n",
      "Nodes: 2725 - Edges: 7631\n",
      "Nodes: 2393 - Edges: 7507\n",
      "Nodes: 2771 - Edges: 7794\n",
      "Nodes: 2875 - Edges: 7942\n",
      "Nodes: 2488 - Edges: 7523\n",
      "Nodes: 2029 - Edges: 6725\n",
      "Nodes: 2368 - Edges: 7530\n",
      "Nodes: 2542 - Edges: 7707\n",
      "Nodes: 2768 - Edges: 7851\n",
      "Existe\n"
     ]
    },
    {
     "name": "stderr",
     "output_type": "stream",
     "text": [
      "\r",
      "  0%|          | 0/78 [00:00<?, ?it/s]"
     ]
    },
    {
     "name": "stdout",
     "output_type": "stream",
     "text": [
      "\n",
      "Feature extraction started.\n",
      "\n"
     ]
    },
    {
     "name": "stderr",
     "output_type": "stream",
     "text": [
      "100%|██████████| 78/78 [00:01<00:00, 72.36it/s]"
     ]
    },
    {
     "name": "stdout",
     "output_type": "stream",
     "text": [
      "\n",
      "Optimization started.\n",
      "\n"
     ]
    },
    {
     "name": "stderr",
     "output_type": "stream",
     "text": [
      "\n"
     ]
    },
    {
     "name": "stdout",
     "output_type": "stream",
     "text": [
      "graph2vec\n"
     ]
    }
   ],
   "source": [
    "X = get_graph2vec_features(selected_corpus)"
   ]
  },
  {
   "cell_type": "code",
   "execution_count": 65,
   "metadata": {},
   "outputs": [
    {
     "name": "stdout",
     "output_type": "stream",
     "text": [
      "Lenght of features: (78, 513)\n"
     ]
    }
   ],
   "source": [
    "print(\"Lenght of features:\", X.shape)"
   ]
  },
  {
   "cell_type": "markdown",
   "metadata": {},
   "source": [
    "# Training with SVM"
   ]
  },
  {
   "cell_type": "code",
   "execution_count": 66,
   "metadata": {},
   "outputs": [],
   "source": [
    "from classifierv2 import getClassifier, getClassMetrics\n",
    "from sklearn.metrics import accuracy_score\n",
    "from sklearn.metrics import f1_score\n",
    "from sklearn.metrics import precision_recall_curve\n",
    "from sklearn.metrics import average_precision_score\n",
    "from sklearn.model_selection import train_test_split"
   ]
  },
  {
   "cell_type": "code",
   "execution_count": 67,
   "metadata": {},
   "outputs": [],
   "source": [
    "RANDOM_SEED = 20\n",
    "FRAC_TRAIN = 0.6"
   ]
  },
  {
   "cell_type": "code",
   "execution_count": 68,
   "metadata": {},
   "outputs": [],
   "source": [
    "X_train, X_val, y_train, y_val = train_test_split(X, y, stratify=y, test_size=(1.0 - FRAC_TRAIN), random_state=RANDOM_SEED)"
   ]
  },
  {
   "cell_type": "code",
   "execution_count": 69,
   "metadata": {},
   "outputs": [],
   "source": [
    "from sklearn.svm import SVC"
   ]
  },
  {
   "cell_type": "code",
   "execution_count": 70,
   "metadata": {},
   "outputs": [
    {
     "name": "stdout",
     "output_type": "stream",
     "text": [
      "[11, 4, 5, 9, 12, 12, 3, 5, 1, 11, 3, 11, 8, 1, 9, 8, 6, 4, 10, 2, 12, 0, 2, 4, 3, 7, 7, 10, 0, 9, 10, 6]\n",
      "[ 8  2  8  8  8  2  8  6  9  8 12  6  1  9  8  8  8 10  8  8  8  7  9  8\n",
      "  5 10 10  8  0  8  8  7]\n",
      "Accuracy : 0.0625\n",
      "Micro f-measure 0.0625\n"
     ]
    }
   ],
   "source": [
    "svc = SVC(kernel='linear', probability=True)\n",
    "svc.fit(X_train, y_train)\n",
    "\n",
    "predicted = svc.predict(X_val)\n",
    "print(y_val)\n",
    "print(predicted)\n",
    "#print accuracy_score\n",
    "print(\"Accuracy : \" + str(accuracy_score(y_val, predicted)))\n",
    "\n",
    "print(\"Micro f-measure \" + str(f1_score(y_val, predicted, average='micro')))"
   ]
  },
  {
   "cell_type": "code",
   "execution_count": null,
   "metadata": {},
   "outputs": [],
   "source": []
  },
  {
   "cell_type": "code",
   "execution_count": null,
   "metadata": {},
   "outputs": [],
   "source": []
  }
 ],
 "metadata": {
  "kernelspec": {
   "display_name": "venv",
   "language": "python",
   "name": "venv"
  },
  "language_info": {
   "codemirror_mode": {
    "name": "ipython",
    "version": 3
   },
   "file_extension": ".py",
   "mimetype": "text/x-python",
   "name": "python",
   "nbconvert_exporter": "python",
   "pygments_lexer": "ipython3",
   "version": "3.8.10"
  }
 },
 "nbformat": 4,
 "nbformat_minor": 4
}
