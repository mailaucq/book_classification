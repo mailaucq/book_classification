{
 "cells": [
  {
   "cell_type": "code",
   "execution_count": 1,
   "metadata": {},
   "outputs": [],
   "source": [
    "from network import CNetwork"
   ]
  },
  {
   "cell_type": "code",
   "execution_count": 2,
   "metadata": {},
   "outputs": [],
   "source": [
    "import pandas as pd\n",
    "import numpy as np"
   ]
  },
  {
   "cell_type": "code",
   "execution_count": 3,
   "metadata": {},
   "outputs": [],
   "source": [
    "import os"
   ]
  },
  {
   "cell_type": "code",
   "execution_count": 4,
   "metadata": {},
   "outputs": [],
   "source": [
    "name_dataset = \"dataset_1\"\n",
    "dataset_path = \"datasetsv2/\"\n",
    "length_cut = 30000\n",
    "random_flag = True\n",
    "remove_punctuation = True\n",
    "lemmatization_flag = True\n",
    "dimension = 8\n",
    "feature_selection = 'common_words'"
   ]
  },
  {
   "cell_type": "code",
   "execution_count": 5,
   "metadata": {},
   "outputs": [],
   "source": [
    "df = pd.read_csv(dataset_path + name_dataset + \".csv\")"
   ]
  },
  {
   "cell_type": "code",
   "execution_count": 6,
   "metadata": {},
   "outputs": [
    {
     "data": {
      "text/html": [
       "<div>\n",
       "<style scoped>\n",
       "    .dataframe tbody tr th:only-of-type {\n",
       "        vertical-align: middle;\n",
       "    }\n",
       "\n",
       "    .dataframe tbody tr th {\n",
       "        vertical-align: top;\n",
       "    }\n",
       "\n",
       "    .dataframe thead th {\n",
       "        text-align: right;\n",
       "    }\n",
       "</style>\n",
       "<table border=\"1\" class=\"dataframe\">\n",
       "  <thead>\n",
       "    <tr style=\"text-align: right;\">\n",
       "      <th></th>\n",
       "      <th>label</th>\n",
       "      <th>text</th>\n",
       "      <th>book</th>\n",
       "    </tr>\n",
       "  </thead>\n",
       "  <tbody>\n",
       "    <tr>\n",
       "      <th>0</th>\n",
       "      <td>Pelham Grenville</td>\n",
       "      <td>\\n\\n\\n\\n\\n\\n\\n\\nProduced by Christine Gehring,...</td>\n",
       "      <td>Right Ho Jeeves</td>\n",
       "    </tr>\n",
       "    <tr>\n",
       "      <th>1</th>\n",
       "      <td>Pelham Grenville</td>\n",
       "      <td>\\n\\n\\n\\n\\n\\n\\n\\nProduced by Suzanne L. Shell, ...</td>\n",
       "      <td>Tales Of St Austin</td>\n",
       "    </tr>\n",
       "    <tr>\n",
       "      <th>2</th>\n",
       "      <td>Joseph Conrad</td>\n",
       "      <td>And that last\\n\\nword was the single word of ...</td>\n",
       "      <td>Victory</td>\n",
       "    </tr>\n",
       "    <tr>\n",
       "      <th>3</th>\n",
       "      <td>Joseph Conrad</td>\n",
       "      <td>\\n\\n\\n\\nIf I have ever had these gifts in any ...</td>\n",
       "      <td>Under Western Eyes</td>\n",
       "    </tr>\n",
       "    <tr>\n",
       "      <th>4</th>\n",
       "      <td>Bram Stoker</td>\n",
       "      <td>\\n\\n\\n\\n                                  Lond...</td>\n",
       "      <td>The Lady Of The Shroud</td>\n",
       "    </tr>\n",
       "  </tbody>\n",
       "</table>\n",
       "</div>"
      ],
      "text/plain": [
       "              label                                               text  \\\n",
       "0  Pelham Grenville  \\n\\n\\n\\n\\n\\n\\n\\nProduced by Christine Gehring,...   \n",
       "1  Pelham Grenville  \\n\\n\\n\\n\\n\\n\\n\\nProduced by Suzanne L. Shell, ...   \n",
       "2     Joseph Conrad   And that last\\n\\nword was the single word of ...   \n",
       "3     Joseph Conrad  \\n\\n\\n\\nIf I have ever had these gifts in any ...   \n",
       "4       Bram Stoker  \\n\\n\\n\\n                                  Lond...   \n",
       "\n",
       "                     book  \n",
       "0         Right Ho Jeeves  \n",
       "1      Tales Of St Austin  \n",
       "2                 Victory  \n",
       "3      Under Western Eyes  \n",
       "4  The Lady Of The Shroud  "
      ]
     },
     "execution_count": 6,
     "metadata": {},
     "output_type": "execute_result"
    }
   ],
   "source": [
    "df.head(5)"
   ]
  },
  {
   "cell_type": "code",
   "execution_count": 7,
   "metadata": {},
   "outputs": [],
   "source": [
    "from utils.text_processing import get_min_len_corpus"
   ]
  },
  {
   "cell_type": "code",
   "execution_count": 8,
   "metadata": {},
   "outputs": [
    {
     "name": "stdout",
     "output_type": "stream",
     "text": [
      "Min Length: 55024\n"
     ]
    }
   ],
   "source": [
    "print(\"Min Length:\", get_min_len_corpus(list(df[\"text\"])))"
   ]
  },
  {
   "cell_type": "code",
   "execution_count": 9,
   "metadata": {},
   "outputs": [],
   "source": [
    "from utils.text_processing import get_corpus, get_random_corpus"
   ]
  },
  {
   "cell_type": "code",
   "execution_count": 10,
   "metadata": {},
   "outputs": [],
   "source": [
    "texts = list(df['text'])"
   ]
  },
  {
   "cell_type": "code",
   "execution_count": 11,
   "metadata": {},
   "outputs": [],
   "source": [
    "corpus, segmented_corpus = get_corpus(texts, length_cut)"
   ]
  },
  {
   "cell_type": "code",
   "execution_count": 12,
   "metadata": {},
   "outputs": [],
   "source": [
    "selected_corpus, words_features, word_index, index_word = get_random_corpus(segmented_corpus, remove_punctuation=remove_punctuation, lemmatization_flag=lemmatization_flag, feature_selection = feature_selection)"
   ]
  },
  {
   "cell_type": "code",
   "execution_count": 13,
   "metadata": {},
   "outputs": [
    {
     "data": {
      "text/plain": [
       "78"
      ]
     },
     "execution_count": 13,
     "metadata": {},
     "output_type": "execute_result"
    }
   ],
   "source": [
    "len(selected_corpus)"
   ]
  },
  {
   "cell_type": "code",
   "execution_count": 14,
   "metadata": {},
   "outputs": [],
   "source": [
    "labels = list(df['label'])"
   ]
  },
  {
   "cell_type": "code",
   "execution_count": 15,
   "metadata": {},
   "outputs": [
    {
     "name": "stdout",
     "output_type": "stream",
     "text": [
      "Total classes: 13\n",
      "Total entities for each class in train: 6\n"
     ]
    }
   ],
   "source": [
    "total_classes = list(set(labels))  ## or author\n",
    "print(\"Total classes: {}\".format(len(total_classes)))\n",
    "number_books = (df[df['label'] == total_classes[0]]).shape[0]\n",
    "print(\"Total entities for each class in train: {}\".format(number_books))\n",
    "dict_categories = {cat: index for index, cat in enumerate(total_classes)}"
   ]
  },
  {
   "cell_type": "code",
   "execution_count": 16,
   "metadata": {},
   "outputs": [],
   "source": [
    "y = [dict_categories[y] for y in labels]"
   ]
  },
  {
   "cell_type": "code",
   "execution_count": 17,
   "metadata": {},
   "outputs": [
    {
     "data": {
      "text/plain": [
       "['Hector Hugh',\n",
       " 'Bram Stoker',\n",
       " 'Charles Dickens',\n",
       " 'Daniel Defoe',\n",
       " 'Pelham Grenville',\n",
       " 'Arthur Conan Doyle',\n",
       " 'Joseph Conrad',\n",
       " 'Thomas Hardy',\n",
       " 'George Eliot',\n",
       " 'Charles Darwin',\n",
       " 'Allan Poe',\n",
       " 'Jane Austen',\n",
       " 'Mark Twain']"
      ]
     },
     "execution_count": 17,
     "metadata": {},
     "output_type": "execute_result"
    }
   ],
   "source": [
    "total_classes"
   ]
  },
  {
   "cell_type": "code",
   "execution_count": 18,
   "metadata": {},
   "outputs": [],
   "source": [
    "import json\n",
    "def graph2vec(operating_system, networks):\n",
    "    input_path = \"graph2vec/dataset/\"+str(length_cut)+\"_\"+str(dimension)+\"/\"\n",
    "    output_path = 'graph2vec/features/'\n",
    "    try: \n",
    "        os.mkdir(input_path)\n",
    "        os.mkdir(output_path)\n",
    "    except:\n",
    "        print(\"Existe\")\n",
    "    for i, netw in enumerate(networks):\n",
    "        with open((input_path+str(i)+\".json\"), \"w\") as f:\n",
    "            edges = []\n",
    "            v_names = netw.vs[\"name\"]\n",
    "            for edge in netw.get_edgelist():\n",
    "                (u,v) = edge\n",
    "                edges.append([int(v_names[u]), int(v_names[v])])\n",
    "            json.dump({\"edges\":edges}, f)\n",
    "    if operating_system == 'linux':\n",
    "        #path_command = \"python struc2vec/src/main.py --dimensions \"+str(dimension)+\" --input \"+input_path+str(length_cut)+\"_\"+str(dimension)+\"_\"+str(i)+\".edgelist --output \"+output_path+str(length_cut)+\"_\"+str(dimension)+\"_\"+str(i)+\".emb\"\n",
    "        path_command = 'python graph2vec/src/graph2vec.py --input-path ' + input_path + ' --output-path ' + output_path+str(length_cut)+'_'+str(dimension)+'.csv' + ' --dimensions ' + str(dimension)\n",
    "        os.system(path_command)\n",
    "        print(\"graph2vec\", str(i))"
   ]
  },
  {
   "cell_type": "code",
   "execution_count": 19,
   "metadata": {},
   "outputs": [],
   "source": [
    "def read_graph2vec(output_path, networks):\n",
    "    all_network_features = [[] for _ in range(len(networks))]\n",
    "    with open(output_path+str(length_cut)+\"_\"+str(dimension)+\".csv\", \"r\") as f:\n",
    "        lines = f.readlines()\n",
    "        for l in lines[1:]:\n",
    "            row = l.strip().split(\",\")\n",
    "            id_graph = row[0]\n",
    "            print(\"id graph\", id_graph)\n",
    "            network_features = np.array([float(v) for v in row[1:]])\n",
    "            print(str(id_graph), \"len\",len(network_features))\n",
    "            all_network_features[int(id_graph)] = network_features\n",
    "    return np.array(all_network_features)"
   ]
  },
  {
   "cell_type": "code",
   "execution_count": 20,
   "metadata": {},
   "outputs": [],
   "source": [
    "def get_graph2vec_features(sequences, index_word):\n",
    "    nets = []\n",
    "    for text in sequences:\n",
    "        obj = CNetwork(text, model=None, index_word=index_word, percentages=None, path=\"\")\n",
    "        network = obj.create_network()\n",
    "        nets.append(network)\n",
    "    graph2vec(\"linux\", nets)\n",
    "    X = read_graph2vec('graph2vec/features/', nets)\n",
    "    return X"
   ]
  },
  {
   "cell_type": "code",
   "execution_count": 21,
   "metadata": {},
   "outputs": [
    {
     "name": "stdout",
     "output_type": "stream",
     "text": [
      "Nodes: 4046 - Edges: 15526\n",
      "Nodes: 4065 - Edges: 16233\n",
      "Nodes: 3859 - Edges: 16324\n",
      "Nodes: 4245 - Edges: 17093\n",
      "Nodes: 3780 - Edges: 15951\n",
      "Nodes: 3807 - Edges: 15686\n",
      "Nodes: 3525 - Edges: 15416\n",
      "Nodes: 3794 - Edges: 16344\n",
      "Nodes: 3499 - Edges: 15768\n",
      "Nodes: 4767 - Edges: 17413\n",
      "Nodes: 4138 - Edges: 16691\n",
      "Nodes: 2986 - Edges: 14597\n",
      "Nodes: 5233 - Edges: 18293\n",
      "Nodes: 2946 - Edges: 14694\n",
      "Nodes: 4530 - Edges: 16855\n",
      "Nodes: 2520 - Edges: 13121\n",
      "Nodes: 4174 - Edges: 16217\n",
      "Nodes: 4875 - Edges: 17300\n",
      "Nodes: 4077 - Edges: 15956\n",
      "Nodes: 4031 - Edges: 16776\n",
      "Nodes: 5258 - Edges: 17610\n",
      "Nodes: 3683 - Edges: 16053\n",
      "Nodes: 3585 - Edges: 16033\n",
      "Nodes: 4050 - Edges: 16512\n",
      "Nodes: 3075 - Edges: 13800\n",
      "Nodes: 4254 - Edges: 16489\n",
      "Nodes: 4587 - Edges: 17522\n",
      "Nodes: 3858 - Edges: 16189\n",
      "Nodes: 4244 - Edges: 17261\n",
      "Nodes: 2947 - Edges: 9434\n",
      "Nodes: 3119 - Edges: 14200\n",
      "Nodes: 4425 - Edges: 16980\n",
      "Nodes: 4073 - Edges: 15055\n",
      "Nodes: 3293 - Edges: 15963\n",
      "Nodes: 2472 - Edges: 13107\n",
      "Nodes: 3277 - Edges: 15844\n",
      "Nodes: 3720 - Edges: 15937\n",
      "Nodes: 4700 - Edges: 17862\n",
      "Nodes: 5170 - Edges: 18156\n",
      "Nodes: 4852 - Edges: 17856\n",
      "Nodes: 4671 - Edges: 17959\n",
      "Nodes: 4977 - Edges: 17728\n",
      "Nodes: 2627 - Edges: 13409\n",
      "Nodes: 5303 - Edges: 17951\n",
      "Nodes: 5055 - Edges: 17800\n",
      "Nodes: 3742 - Edges: 16099\n",
      "Nodes: 3726 - Edges: 15329\n",
      "Nodes: 4260 - Edges: 16847\n",
      "Nodes: 3291 - Edges: 15649\n",
      "Nodes: 3840 - Edges: 15829\n",
      "Nodes: 3705 - Edges: 16784\n",
      "Nodes: 3851 - Edges: 15973\n",
      "Nodes: 4565 - Edges: 15679\n",
      "Nodes: 3188 - Edges: 15373\n",
      "Nodes: 4459 - Edges: 17246\n",
      "Nodes: 5057 - Edges: 17644\n",
      "Nodes: 4229 - Edges: 16670\n",
      "Nodes: 4149 - Edges: 17011\n",
      "Nodes: 3283 - Edges: 15651\n",
      "Nodes: 2730 - Edges: 14217\n",
      "Nodes: 3000 - Edges: 14426\n",
      "Nodes: 4052 - Edges: 16835\n",
      "Nodes: 2534 - Edges: 13553\n",
      "Nodes: 3395 - Edges: 14316\n",
      "Nodes: 5070 - Edges: 17975\n",
      "Nodes: 3302 - Edges: 14904\n",
      "Nodes: 3515 - Edges: 14408\n",
      "Nodes: 3781 - Edges: 15927\n",
      "Nodes: 3240 - Edges: 12333\n",
      "Nodes: 4682 - Edges: 16795\n",
      "Nodes: 4407 - Edges: 17306\n",
      "Nodes: 5121 - Edges: 17229\n",
      "Nodes: 4659 - Edges: 17722\n",
      "Nodes: 4195 - Edges: 16288\n",
      "Nodes: 3602 - Edges: 16172\n",
      "Nodes: 3703 - Edges: 16786\n",
      "Nodes: 4355 - Edges: 16102\n",
      "Nodes: 4741 - Edges: 17580\n",
      "Existe\n"
     ]
    },
    {
     "name": "stderr",
     "output_type": "stream",
     "text": [
      "\r",
      "  0%|          | 0/78 [00:00<?, ?it/s]"
     ]
    },
    {
     "name": "stdout",
     "output_type": "stream",
     "text": [
      "\n",
      "Feature extraction started.\n",
      "\n"
     ]
    },
    {
     "name": "stderr",
     "output_type": "stream",
     "text": [
      "100%|██████████| 78/78 [01:31<00:00,  1.17s/it]\n"
     ]
    },
    {
     "name": "stdout",
     "output_type": "stream",
     "text": [
      "\n",
      "Optimization started.\n",
      "\n",
      "GRAPHHHHH Graph with 3807 nodes and 15686 edges\n",
      "GRAPHHHHH Graph with 3683 nodes and 16053 edges\n",
      "GRAPHHHHH Graph with 3720 nodes and 15937 edges\n",
      "GRAPHHHHH Graph with 3781 nodes and 15927 edges\n",
      "GRAPHHHHH Graph with 4875 nodes and 17300 edges\n",
      "GRAPHHHHH Graph with 3000 nodes and 14426 edges\n",
      "GRAPHHHHH Graph with 4852 nodes and 17856 edges\n",
      "GRAPHHHHH Graph with 4244 nodes and 17261 edges\n",
      "GRAPHHHHH Graph with 4229 nodes and 16670 edges\n",
      "GRAPHHHHH Graph with 5055 nodes and 17800 edges\n",
      "GRAPHHHHH Graph with 4671 nodes and 17959 edges\n",
      "GRAPHHHHH Graph with 3859 nodes and 16324 edges\n",
      "GRAPHHHHH Graph with 3726 nodes and 15329 edges\n",
      "GRAPHHHHH Graph with 3119 nodes and 14200 edges\n",
      "GRAPHHHHH Graph with 4425 nodes and 16980 edges\n",
      "GRAPHHHHH Graph with 2472 nodes and 13107 edges\n",
      "GRAPHHHHH Graph with 5121 nodes and 17229 edges\n",
      "GRAPHHHHH Graph with 3188 nodes and 15373 edges\n",
      "GRAPHHHHH Graph with 3293 nodes and 15963 edges\n",
      "GRAPHHHHH Graph with 2986 nodes and 14597 edges\n",
      "GRAPHHHHH Graph with 4195 nodes and 16288 edges\n",
      "GRAPHHHHH Graph with 4260 nodes and 16847 edges\n",
      "GRAPHHHHH Graph with 3515 nodes and 14408 edges\n",
      "GRAPHHHHH Graph with 4065 nodes and 16233 edges\n",
      "GRAPHHHHH Graph with 5303 nodes and 17951 edges\n",
      "GRAPHHHHH Graph with 4682 nodes and 16795 edges\n",
      "GRAPHHHHH Graph with 2947 nodes and 9434 edges\n",
      "GRAPHHHHH Graph with 2520 nodes and 13121 edges\n",
      "GRAPHHHHH Graph with 2534 nodes and 13553 edges\n",
      "GRAPHHHHH Graph with 5170 nodes and 18156 edges\n",
      "GRAPHHHHH Graph with 4138 nodes and 16691 edges\n",
      "GRAPHHHHH Graph with 4407 nodes and 17306 edges\n",
      "GRAPHHHHH Graph with 5233 nodes and 18293 edges\n",
      "GRAPHHHHH Graph with 3840 nodes and 15829 edges\n",
      "GRAPHHHHH Graph with 4073 nodes and 15055 edges\n",
      "GRAPHHHHH Graph with 5070 nodes and 17975 edges\n",
      "GRAPHHHHH Graph with 3499 nodes and 15768 edges\n",
      "GRAPHHHHH Graph with 3525 nodes and 15416 edges\n",
      "GRAPHHHHH Graph with 4767 nodes and 17413 edges\n",
      "GRAPHHHHH Graph with 4355 nodes and 16102 edges\n",
      "GRAPHHHHH Graph with 3742 nodes and 16099 edges\n",
      "GRAPHHHHH Graph with 3705 nodes and 16784 edges\n",
      "GRAPHHHHH Graph with 3240 nodes and 12333 edges\n",
      "GRAPHHHHH Graph with 3291 nodes and 15649 edges\n",
      "GRAPHHHHH Graph with 3602 nodes and 16172 edges\n",
      "GRAPHHHHH Graph with 3283 nodes and 15651 edges\n",
      "GRAPHHHHH Graph with 4587 nodes and 17522 edges\n",
      "GRAPHHHHH Graph with 4149 nodes and 17011 edges\n",
      "GRAPHHHHH Graph with 4052 nodes and 16835 edges\n",
      "GRAPHHHHH Graph with 5057 nodes and 17644 edges\n",
      "GRAPHHHHH Graph with 3395 nodes and 14316 edges\n",
      "GRAPHHHHH Graph with 3780 nodes and 15951 edges\n",
      "GRAPHHHHH Graph with 4530 nodes and 16855 edges\n",
      "GRAPHHHHH Graph with 4459 nodes and 17246 edges\n",
      "GRAPHHHHH Graph with 4741 nodes and 17580 edges\n",
      "GRAPHHHHH Graph with 2946 nodes and 14694 edges\n",
      "GRAPHHHHH Graph with 2627 nodes and 13409 edges\n",
      "GRAPHHHHH Graph with 3075 nodes and 13800 edges\n",
      "GRAPHHHHH Graph with 4046 nodes and 15526 edges\n",
      "GRAPHHHHH Graph with 3858 nodes and 16189 edges\n",
      "GRAPHHHHH Graph with 3794 nodes and 16344 edges\n",
      "GRAPHHHHH Graph with 2730 nodes and 14217 edges\n",
      "GRAPHHHHH Graph with 5258 nodes and 17610 edges\n",
      "GRAPHHHHH Graph with 4245 nodes and 17093 edges\n",
      "GRAPHHHHH Graph with 4077 nodes and 15956 edges\n",
      "GRAPHHHHH Graph with 3277 nodes and 15844 edges\n",
      "GRAPHHHHH Graph with 3302 nodes and 14904 edges\n",
      "GRAPHHHHH Graph with 4659 nodes and 17722 edges\n",
      "GRAPHHHHH Graph with 3703 nodes and 16786 edges\n",
      "GRAPHHHHH Graph with 4254 nodes and 16489 edges\n",
      "GRAPHHHHH Graph with 4700 nodes and 17862 edges\n",
      "GRAPHHHHH Graph with 4031 nodes and 16776 edges\n",
      "GRAPHHHHH Graph with 4977 nodes and 17728 edges\n",
      "GRAPHHHHH Graph with 4174 nodes and 16217 edges\n",
      "GRAPHHHHH Graph with 4050 nodes and 16512 edges\n",
      "GRAPHHHHH Graph with 3585 nodes and 16033 edges\n",
      "GRAPHHHHH Graph with 3851 nodes and 15973 edges\n",
      "GRAPHHHHH Graph with 4565 nodes and 15679 edges\n",
      "graph2vec 77\n",
      "id graph 0\n",
      "0 len 8\n",
      "id graph 1\n",
      "1 len 8\n",
      "id graph 2\n",
      "2 len 8\n",
      "id graph 3\n",
      "3 len 8\n",
      "id graph 4\n",
      "4 len 8\n",
      "id graph 5\n",
      "5 len 8\n",
      "id graph 6\n",
      "6 len 8\n",
      "id graph 7\n",
      "7 len 8\n",
      "id graph 8\n",
      "8 len 8\n",
      "id graph 9\n",
      "9 len 8\n",
      "id graph 10\n",
      "10 len 8\n",
      "id graph 11\n",
      "11 len 8\n",
      "id graph 12\n",
      "12 len 8\n",
      "id graph 13\n",
      "13 len 8\n",
      "id graph 14\n",
      "14 len 8\n",
      "id graph 15\n",
      "15 len 8\n",
      "id graph 16\n",
      "16 len 8\n",
      "id graph 17\n",
      "17 len 8\n",
      "id graph 18\n",
      "18 len 8\n",
      "id graph 19\n",
      "19 len 8\n",
      "id graph 20\n",
      "20 len 8\n",
      "id graph 21\n",
      "21 len 8\n",
      "id graph 22\n",
      "22 len 8\n",
      "id graph 23\n",
      "23 len 8\n",
      "id graph 24\n",
      "24 len 8\n",
      "id graph 25\n",
      "25 len 8\n",
      "id graph 26\n",
      "26 len 8\n",
      "id graph 27\n",
      "27 len 8\n",
      "id graph 28\n",
      "28 len 8\n",
      "id graph 29\n",
      "29 len 8\n",
      "id graph 30\n",
      "30 len 8\n",
      "id graph 31\n",
      "31 len 8\n",
      "id graph 32\n",
      "32 len 8\n",
      "id graph 33\n",
      "33 len 8\n",
      "id graph 34\n",
      "34 len 8\n",
      "id graph 35\n",
      "35 len 8\n",
      "id graph 36\n",
      "36 len 8\n",
      "id graph 37\n",
      "37 len 8\n",
      "id graph 38\n",
      "38 len 8\n",
      "id graph 39\n",
      "39 len 8\n",
      "id graph 40\n",
      "40 len 8\n",
      "id graph 41\n",
      "41 len 8\n",
      "id graph 42\n",
      "42 len 8\n",
      "id graph 43\n",
      "43 len 8\n",
      "id graph 44\n",
      "44 len 8\n",
      "id graph 45\n",
      "45 len 8\n",
      "id graph 46\n",
      "46 len 8\n",
      "id graph 47\n",
      "47 len 8\n",
      "id graph 48\n",
      "48 len 8\n",
      "id graph 49\n",
      "49 len 8\n",
      "id graph 50\n",
      "50 len 8\n",
      "id graph 51\n",
      "51 len 8\n",
      "id graph 52\n",
      "52 len 8\n",
      "id graph 53\n",
      "53 len 8\n",
      "id graph 54\n",
      "54 len 8\n",
      "id graph 55\n",
      "55 len 8\n",
      "id graph 56\n",
      "56 len 8\n",
      "id graph 57\n",
      "57 len 8\n",
      "id graph 58\n",
      "58 len 8\n",
      "id graph 59\n",
      "59 len 8\n",
      "id graph 60\n",
      "60 len 8\n",
      "id graph 61\n",
      "61 len 8\n",
      "id graph 62\n",
      "62 len 8\n",
      "id graph 63\n",
      "63 len 8\n",
      "id graph 64\n",
      "64 len 8\n",
      "id graph 65\n",
      "65 len 8\n",
      "id graph 66\n",
      "66 len 8\n",
      "id graph 67\n",
      "67 len 8\n",
      "id graph 68\n",
      "68 len 8\n",
      "id graph 69\n",
      "69 len 8\n",
      "id graph 70\n",
      "70 len 8\n",
      "id graph 71\n",
      "71 len 8\n",
      "id graph 72\n",
      "72 len 8\n",
      "id graph 73\n",
      "73 len 8\n",
      "id graph 74\n",
      "74 len 8\n",
      "id graph 75\n",
      "75 len 8\n",
      "id graph 76\n",
      "76 len 8\n",
      "id graph 77\n",
      "77 len 8\n"
     ]
    }
   ],
   "source": [
    "X = get_graph2vec_features(selected_corpus, index_word)"
   ]
  },
  {
   "cell_type": "code",
   "execution_count": 22,
   "metadata": {},
   "outputs": [
    {
     "name": "stdout",
     "output_type": "stream",
     "text": [
      "Lenght of features: (78, 8)\n"
     ]
    }
   ],
   "source": [
    "print(\"Lenght of features:\", X.shape)"
   ]
  },
  {
   "cell_type": "code",
   "execution_count": 23,
   "metadata": {},
   "outputs": [
    {
     "data": {
      "text/plain": [
       "array([[-4.11698961e+00, -1.04746723e+00,  2.53941011e+00,\n",
       "        -1.67708051e+00,  5.60944825e-02,  5.17310858e-01,\n",
       "         6.69491005e+00,  4.72008610e+00],\n",
       "       [-4.89869976e+00, -1.63956177e+00, -2.37164307e+00,\n",
       "        -1.07490039e+00, -2.18172431e+00, -4.82287979e+00,\n",
       "         1.07222688e+00,  7.62050152e-02],\n",
       "       [-4.78849077e+00,  1.39343953e+00,  2.05366588e+00,\n",
       "        -6.29728079e-01, -3.10257769e+00, -1.64375019e+00,\n",
       "         1.51932406e+00,  3.62211132e+00],\n",
       "       [ 1.44875181e+00, -3.23300719e+00,  1.66709495e+00,\n",
       "         3.92010975e+00,  1.19563270e+00, -5.15232754e+00,\n",
       "         3.38269520e+00,  1.05949950e+00],\n",
       "       [ 4.61086631e-01, -1.73655510e+00,  1.82776880e+00,\n",
       "        -1.50175643e+00,  2.32726619e-01, -3.94096041e+00,\n",
       "         5.75821352e+00, -1.65222347e+00],\n",
       "       [ 2.20628715e+00, -4.85130692e+00,  5.04198790e+00,\n",
       "        -2.24335551e+00,  3.98797402e-03, -4.58134085e-01,\n",
       "         3.98741412e+00,  1.42331719e+00],\n",
       "       [ 6.89999819e-01, -2.42646980e+00,  2.66515791e-01,\n",
       "        -3.91114616e+00,  1.49372470e+00, -3.20658946e+00,\n",
       "         3.62149978e+00,  2.29845071e+00],\n",
       "       [-3.76730108e+00, -4.19344068e-01,  1.51002502e+00,\n",
       "        -2.69999027e+00, -3.93638659e+00, -5.39050722e+00,\n",
       "        -9.58450794e-01, -1.75991714e+00],\n",
       "       [-1.62366450e+00, -2.71008801e+00,  6.27912188e+00,\n",
       "        -2.31210336e-01,  9.45734918e-01, -2.84376681e-01,\n",
       "         2.85941780e-01,  8.30386400e-01],\n",
       "       [-2.49389005e+00, -3.34518719e+00,  3.52216148e+00,\n",
       "         1.62944782e+00,  5.72435379e+00, -4.66365004e+00,\n",
       "         1.70357764e+00,  7.11374998e-01],\n",
       "       [-4.92319155e+00, -3.96760082e+00,  7.04471692e-02,\n",
       "        -4.42371178e+00, -1.37720674e-01, -3.15459281e-01,\n",
       "         5.67111015e-01,  4.88311386e+00],\n",
       "       [ 8.94643366e-02, -2.48243546e+00,  4.43724060e+00,\n",
       "        -1.61645019e+00, -2.44448996e+00, -1.95845509e+00,\n",
       "         1.86441255e+00, -2.38830447e+00],\n",
       "       [-2.65294147e+00, -4.56884909e+00, -1.49789047e+00,\n",
       "         4.70860434e+00,  1.32686973e+00, -4.76332045e+00,\n",
       "         1.83602703e+00,  6.12169456e+00],\n",
       "       [-1.59793186e+00, -3.60471225e+00,  2.59912157e+00,\n",
       "         8.07240427e-01,  3.31548238e+00, -3.15852833e+00,\n",
       "         8.37545216e-01, -9.73315299e-01],\n",
       "       [-1.17913865e-01,  8.95554721e-01,  2.72173572e+00,\n",
       "        -5.58435011e+00, -5.24402189e+00, -5.40786886e+00,\n",
       "         3.58382434e-01,  3.19250226e+00],\n",
       "       [ 3.05333018e-01, -3.23456526e+00, -1.78534880e-01,\n",
       "        -1.42032135e+00, -2.35529757e+00, -8.65812480e-01,\n",
       "         3.69910264e+00,  1.82243991e+00],\n",
       "       [-4.17912149e+00, -5.89752531e+00,  4.35189664e-01,\n",
       "        -4.43966866e+00, -4.03074741e-01, -1.94856024e+00,\n",
       "         1.90011477e+00, -2.18883348e+00],\n",
       "       [-4.79981995e+00,  2.20311642e+00,  6.96250629e+00,\n",
       "         3.19357812e-01, -4.79035997e+00, -2.47771072e+00,\n",
       "         3.03768492e+00,  9.20937061e-01],\n",
       "       [-3.34937382e+00, -2.42954040e+00,  6.46551132e+00,\n",
       "        -3.10336637e+00,  8.76751542e-01, -2.41003585e+00,\n",
       "         6.30078375e-01, -2.89837694e+00],\n",
       "       [-3.85699177e+00, -2.59035993e+00,  4.88989210e+00,\n",
       "         1.09367585e+00, -3.69382811e+00,  2.06742808e-01,\n",
       "        -1.17234910e+00,  3.11712909e+00],\n",
       "       [-1.99243701e+00, -9.73332405e+00,  3.29815078e+00,\n",
       "        -5.40580273e-01,  3.00896811e+00, -9.56884205e-01,\n",
       "        -4.43949759e-01,  2.70660090e+00],\n",
       "       [-1.13086843e+00, -2.50872970e+00,  4.38904572e+00,\n",
       "        -3.06657529e+00, -2.15582609e+00,  4.84736353e-01,\n",
       "         1.19604778e+00,  1.27008128e+00],\n",
       "       [ 9.23414767e-01, -3.64953208e+00,  1.81328356e+00,\n",
       "        -2.22261763e+00, -3.81400251e+00, -1.57566440e+00,\n",
       "         2.63812089e+00, -5.45305252e-01],\n",
       "       [-3.75226355e+00,  6.27023518e-01, -1.06951189e+00,\n",
       "        -4.83576918e+00,  7.30322838e-01, -5.32135057e+00,\n",
       "         3.60719895e+00,  2.73248744e+00],\n",
       "       [-5.76475918e-01, -4.44383240e+00,  1.53291547e+00,\n",
       "         2.15005684e+00,  4.77382928e-01, -9.62194502e-01,\n",
       "         2.03576064e+00,  8.78361523e-01],\n",
       "       [ 9.72480416e-01, -7.25530338e+00, -6.60537660e-01,\n",
       "        -2.11383367e+00, -4.64151430e+00, -3.08186054e+00,\n",
       "         2.32574368e+00, -5.86148500e-01],\n",
       "       [-6.95177174e+00, -8.75835836e-01,  1.18061936e+00,\n",
       "        -2.53662777e+00,  2.45131493e+00, -4.47714949e+00,\n",
       "        -1.56695735e+00,  2.98321319e+00],\n",
       "       [-3.17980051e+00, -4.22946072e+00,  2.61137867e+00,\n",
       "         1.36200380e+00, -3.14889282e-01, -4.75087976e+00,\n",
       "        -9.65872884e-01, -3.63968897e+00],\n",
       "       [-9.76093173e-01, -4.78170347e+00,  1.48058057e-01,\n",
       "        -1.89728034e+00,  2.63527393e+00, -6.12020159e+00,\n",
       "        -1.46135366e+00, -3.71729225e-01],\n",
       "       [ 1.85720313e+00, -4.46123421e-01,  1.48396754e+00,\n",
       "        -1.72593045e+00,  1.53856480e+00, -6.10614729e+00,\n",
       "         4.33254194e+00,  1.27482033e+00],\n",
       "       [-9.99167144e-01, -2.63806295e+00,  2.32284451e+00,\n",
       "        -2.73084283e+00,  1.67148542e+00, -1.97671199e+00,\n",
       "         9.93705511e-01, -3.78121465e-01],\n",
       "       [-2.35548115e+00, -4.76750946e+00,  4.63962364e+00,\n",
       "        -3.89672375e+00, -8.51180494e-01, -2.50242996e+00,\n",
       "        -4.47420502e+00,  2.12432480e+00],\n",
       "       [-2.16454434e+00, -4.30881500e+00,  3.48914593e-01,\n",
       "        -4.48367119e+00, -2.48636603e+00, -1.59269631e-01,\n",
       "         6.71280289e+00,  1.44004798e+00],\n",
       "       [-6.77436471e-01, -1.08276606e+00,  4.57149553e+00,\n",
       "        -4.17451000e+00, -1.36337471e+00, -7.42411911e-01,\n",
       "         2.26546288e+00,  4.63146627e-01],\n",
       "       [-1.22020054e+00, -7.98560321e-01,  3.96645617e+00,\n",
       "        -2.00408435e+00,  2.70170689e-01, -1.59064269e+00,\n",
       "         2.39570355e+00, -1.11481547e+00],\n",
       "       [-2.27906084e+00, -3.19846720e-01, -1.26236641e+00,\n",
       "         1.25527394e+00, -3.96081638e+00, -3.53426361e+00,\n",
       "         2.26001668e+00,  3.46803594e+00],\n",
       "       [-3.66992354e+00, -4.16938591e+00,  3.30262589e+00,\n",
       "        -5.83740652e-01,  9.73981261e-01,  1.35725093e+00,\n",
       "         1.11816585e+00,  5.05206299e+00],\n",
       "       [ 3.02706146e+00, -2.72705889e+00,  4.07458067e+00,\n",
       "         2.30235744e+00, -4.24038506e+00, -3.20086980e+00,\n",
       "         1.65447128e+00,  5.61778688e+00],\n",
       "       [-6.42255974e+00, -8.30007195e-01,  4.40024912e-01,\n",
       "         3.76187253e+00, -8.98582757e-01, -6.18084192e+00,\n",
       "        -1.81216884e+00,  3.75738192e+00],\n",
       "       [ 1.33401191e+00, -6.25302029e+00,  3.65736413e+00,\n",
       "         2.36594534e+00, -1.43854356e+00, -4.66003752e+00,\n",
       "        -3.79525328e+00,  3.73176146e+00],\n",
       "       [-2.54185140e-01,  8.40974987e-01,  3.98264575e+00,\n",
       "         3.40318888e-01, -3.16046262e+00, -8.48136044e+00,\n",
       "        -1.41724777e+00, -3.57312739e-01],\n",
       "       [ 1.14736295e+00, -4.17069817e+00, -5.33173501e-01,\n",
       "         4.16891813e+00, -5.27948856e+00, -4.83827686e+00,\n",
       "         3.47201490e+00,  3.73599219e+00],\n",
       "       [-1.05275404e+00, -4.06231833e+00,  3.04865670e+00,\n",
       "        -1.47350192e+00, -3.96516353e-01,  1.26640126e-01,\n",
       "         1.91634285e+00, -8.64262998e-01],\n",
       "       [-5.16615486e+00, -5.21361923e+00,  3.03499770e+00,\n",
       "         2.62520123e+00, -4.43127441e+00,  1.25152200e-01,\n",
       "         4.57608366e+00, -1.00568783e+00],\n",
       "       [-6.06181979e-01, -3.17113256e+00,  7.76008272e+00,\n",
       "         5.12504053e+00, -5.61743259e-01, -3.33544540e+00,\n",
       "         2.07062578e+00, -6.59970105e-01],\n",
       "       [-3.04201984e+00, -2.35631609e+00, -2.61757493e+00,\n",
       "        -9.40634489e-01, -3.89125943e+00, -4.38592196e+00,\n",
       "         2.31705356e+00, -1.01712689e-01],\n",
       "       [-4.96718359e+00,  9.13707972e-01,  3.00754046e+00,\n",
       "        -4.76116705e+00,  6.69769198e-02, -1.52178705e+00,\n",
       "         4.29813910e+00,  2.21357608e+00],\n",
       "       [-7.50989580e+00, -3.93210196e+00,  1.54543185e+00,\n",
       "        -1.04121745e+00, -2.62646174e+00, -1.08097829e-01,\n",
       "         1.08976877e+00, -3.45093310e-01],\n",
       "       [-1.63016781e-01,  1.83442652e+00,  1.66934371e+00,\n",
       "        -1.96668103e-01, -1.97866416e+00, -6.11526299e+00,\n",
       "         1.71638608e+00,  7.34627068e-01],\n",
       "       [ 1.20284128e+00, -2.26652712e-01,  5.87479973e+00,\n",
       "        -3.77703816e-01,  1.41365504e+00, -5.05000687e+00,\n",
       "        -9.83246446e-01,  2.96440911e+00],\n",
       "       [ 1.91250491e+00, -3.18617725e+00,  4.34934664e+00,\n",
       "         2.00147286e-01,  1.76862562e+00, -1.66404104e+00,\n",
       "         2.17581153e+00,  2.13717723e+00],\n",
       "       [-2.92222166e+00,  1.84078217e+00,  9.53421235e-01,\n",
       "        -5.43795228e-01,  1.61564672e+00, -5.12730598e+00,\n",
       "         1.44560194e+00,  4.81700659e+00],\n",
       "       [ 2.44947219e+00, -3.22730970e+00, -2.87027180e-01,\n",
       "        -2.38501221e-01,  2.24241495e+00, -6.56821775e+00,\n",
       "         3.31521749e+00,  5.78829813e+00],\n",
       "       [-1.15681875e+00, -2.65271950e+00,  1.70108151e+00,\n",
       "        -2.23460484e+00,  8.47207615e-04, -6.09920382e-01,\n",
       "         4.73502111e+00, -2.57918775e-01],\n",
       "       [-3.08309102e+00,  1.15495467e+00,  6.31210279e+00,\n",
       "        -1.94038606e+00,  3.16877246e+00, -4.05529070e+00,\n",
       "         7.36851275e-01,  1.73545361e+00],\n",
       "       [-6.87937212e+00, -9.90788996e-01,  5.20451427e-01,\n",
       "        -1.32111758e-01,  4.10669716e-03, -4.36452627e+00,\n",
       "         5.73302984e+00, -2.44996548e+00],\n",
       "       [ 7.63241112e-01,  1.92150795e+00,  6.12459087e+00,\n",
       "         7.07635760e-01, -2.99342656e+00, -3.27155781e+00,\n",
       "         4.72539806e+00,  4.30953026e+00],\n",
       "       [-2.99577236e+00, -2.32209110e+00,  6.63197136e+00,\n",
       "         3.08068275e-01, -2.09036946e+00,  4.86702055e-01,\n",
       "        -4.04591411e-01,  2.01698136e+00],\n",
       "       [ 4.49335366e-01,  5.02515286e-02,  2.44812131e-01,\n",
       "        -3.95786500e+00, -2.96196520e-01, -5.08870459e+00,\n",
       "         1.96366918e+00,  2.22836161e+00],\n",
       "       [ 3.44899058e-01, -7.63330400e-01,  2.19095659e+00,\n",
       "        -8.13449502e-01, -3.70042467e+00, -1.23510110e+00,\n",
       "         4.49983120e+00,  1.43876755e+00],\n",
       "       [-1.93114996e+00, -1.92648304e+00,  9.17662680e-03,\n",
       "        -4.87550408e-01, -1.53903401e+00, -3.05013466e+00,\n",
       "        -2.06137729e+00,  3.29744315e+00],\n",
       "       [-1.29495248e-01, -2.63659954e+00,  4.57851124e+00,\n",
       "        -7.79523253e-01,  2.72760701e+00, -2.20828986e+00,\n",
       "        -1.63533196e-01,  6.77269506e+00],\n",
       "       [-1.92832708e+00, -3.35984302e+00, -1.47539258e+00,\n",
       "        -1.48796022e+00, -7.15327203e-01, -1.10540259e+00,\n",
       "         1.53484964e+00,  3.49835300e+00],\n",
       "       [ 1.00606692e+00, -3.69542193e+00, -4.47448730e-01,\n",
       "        -1.28050292e+00,  1.09375313e-01, -2.85369182e+00,\n",
       "         5.53477228e-01,  3.36480403e+00],\n",
       "       [-2.58111644e+00, -6.10977125e+00, -2.98585236e-01,\n",
       "        -3.06916833e+00, -5.70358419e+00, -2.76702118e+00,\n",
       "        -2.62454057e+00,  4.47348642e+00],\n",
       "       [-6.78076595e-02, -1.03610718e+00, -2.84554392e-01,\n",
       "        -6.19701982e-01, -2.00240040e+00, -3.58376026e+00,\n",
       "         3.58111477e+00, -1.99903205e-01],\n",
       "       [-1.71367919e+00, -5.60146713e+00,  5.38849831e-01,\n",
       "         1.94357908e+00, -5.96377552e-01, -1.28586531e+00,\n",
       "         6.01997566e+00, -1.04457080e+00],\n",
       "       [-1.26361167e+00,  2.73998648e-01,  3.83677793e+00,\n",
       "         7.49637425e-01, -9.13229704e-01, -4.66853094e+00,\n",
       "         5.05940008e+00, -2.62461090e+00],\n",
       "       [-2.55645823e+00, -1.66031718e-01,  2.21382308e+00,\n",
       "        -1.16479421e+00, -1.10869181e+00, -4.10490799e+00,\n",
       "        -2.92984033e+00,  4.72693205e+00],\n",
       "       [-5.70627975e+00, -2.60097551e+00,  1.00111103e+00,\n",
       "         5.55545044e+00, -3.74213624e+00, -2.82952642e+00,\n",
       "         1.69356167e+00,  1.82684743e+00],\n",
       "       [ 1.14421952e+00, -2.74874735e+00,  2.23108602e+00,\n",
       "         6.25924230e-01, -7.01798487e+00, -4.19948435e+00,\n",
       "         2.12433863e+00, -8.34102690e-01],\n",
       "       [-5.77471876e+00, -1.45422995e+00,  1.86841202e+00,\n",
       "         4.63526726e+00,  2.59446692e+00, -5.31543016e+00,\n",
       "         3.80795717e+00, -4.64359596e-02],\n",
       "       [-1.58474779e+00, -6.37040854e+00,  2.37668252e+00,\n",
       "        -6.86158836e-01, -2.21810293e+00, -4.84766436e+00,\n",
       "        -2.22308660e+00, -3.37137794e+00],\n",
       "       [-4.79742885e-01, -3.10460329e+00, -1.48965561e+00,\n",
       "        -3.34653807e+00, -3.18175375e-01, -7.87095118e+00,\n",
       "        -6.77405834e-01,  3.49799432e-02],\n",
       "       [-3.91712594e+00, -3.65479112e+00, -2.26988029e+00,\n",
       "        -9.33248103e-01,  2.44754148e+00, -2.79169154e+00,\n",
       "         3.73252559e+00,  2.67336178e+00],\n",
       "       [ 5.29941022e-01, -2.52840590e+00,  1.80505717e+00,\n",
       "        -4.41788054e+00,  9.01758373e-01, -1.69078422e+00,\n",
       "         2.82811642e+00,  5.49761724e+00],\n",
       "       [-2.25508261e+00, -1.53232649e-01,  3.59140515e+00,\n",
       "         2.37331942e-01, -1.85259628e+00, -1.06643820e+00,\n",
       "         1.07196450e+00,  7.50790930e+00],\n",
       "       [ 1.74126410e+00, -2.47652435e+00,  3.26186419e+00,\n",
       "        -1.12603056e+00,  1.26130390e+00, -8.14089394e+00,\n",
       "         5.43083310e-01, -2.18000746e+00]])"
      ]
     },
     "execution_count": 23,
     "metadata": {},
     "output_type": "execute_result"
    }
   ],
   "source": [
    "X"
   ]
  },
  {
   "cell_type": "code",
   "execution_count": 24,
   "metadata": {},
   "outputs": [
    {
     "data": {
      "text/plain": [
       "8"
      ]
     },
     "execution_count": 24,
     "metadata": {},
     "output_type": "execute_result"
    }
   ],
   "source": [
    "len(X[0])"
   ]
  },
  {
   "cell_type": "code",
   "execution_count": 25,
   "metadata": {},
   "outputs": [],
   "source": [
    "from sklearn.preprocessing import StandardScaler\n",
    "scaler = StandardScaler(with_mean=True, with_std=True)"
   ]
  },
  {
   "cell_type": "code",
   "execution_count": 26,
   "metadata": {},
   "outputs": [],
   "source": [
    "#X = scaler.fit_transform(X)"
   ]
  },
  {
   "cell_type": "markdown",
   "metadata": {},
   "source": [
    "# Classification"
   ]
  },
  {
   "cell_type": "code",
   "execution_count": 27,
   "metadata": {},
   "outputs": [],
   "source": [
    "import classifierv2"
   ]
  },
  {
   "cell_type": "code",
   "execution_count": 28,
   "metadata": {},
   "outputs": [],
   "source": [
    "#obj = classifierv2.Classification(X, y)\n",
    "#scores = obj.classification()"
   ]
  },
  {
   "cell_type": "markdown",
   "metadata": {},
   "source": [
    "# Score 0.0625\n",
    "Score 0.125\n",
    "Score 0.0625\n",
    "Score 0.0625\n",
    "\n",
    "1000\n",
    "Score 0.0625\n",
    "Score 0.0625\n",
    "Score 0.25\n",
    "Score 0.0\n",
    "\n",
    "10000\n",
    "Score 0.0625\n",
    "Score 0.1875\n",
    "Score 0.125\n",
    "Score 0.0625\n",
    "\n",
    "Score 0.0\n",
    "Score 0.0\n",
    "Score 0.0\n",
    "Score 0.0625"
   ]
  },
  {
   "cell_type": "code",
   "execution_count": 29,
   "metadata": {},
   "outputs": [
    {
     "name": "stderr",
     "output_type": "stream",
     "text": [
      "2021-09-17 19:53:42.067977: W tensorflow/stream_executor/platform/default/dso_loader.cc:64] Could not load dynamic library 'libcudart.so.11.0'; dlerror: libcudart.so.11.0: cannot open shared object file: No such file or directory\n",
      "2021-09-17 19:53:42.068211: I tensorflow/stream_executor/cuda/cudart_stub.cc:29] Ignore above cudart dlerror if you do not have a GPU set up on your machine.\n"
     ]
    }
   ],
   "source": [
    "import keras\n",
    "from keras.models import Sequential\n",
    "from keras.layers import Dense, Activation\n",
    "from tensorflow.keras.optimizers import SGD"
   ]
  },
  {
   "cell_type": "code",
   "execution_count": 30,
   "metadata": {},
   "outputs": [],
   "source": [
    "from sklearn.model_selection import train_test_split\n",
    "X_train, X_test, y_train, y_test = train_test_split(X, y, test_size = 0.2, random_state=42)"
   ]
  },
  {
   "cell_type": "code",
   "execution_count": 31,
   "metadata": {},
   "outputs": [],
   "source": [
    "from sklearn import preprocessing\n",
    "le = preprocessing.LabelEncoder()\n",
    "y_train = le.fit_transform(y_train)\n",
    "y_test = le.fit_transform(y_test)"
   ]
  },
  {
   "cell_type": "code",
   "execution_count": 32,
   "metadata": {},
   "outputs": [],
   "source": [
    "y_train = keras.utils.np_utils.to_categorical(y_train, num_classes = 13)\n",
    "y_test = keras.utils.np_utils.to_categorical(y_test, num_classes = 13)\n"
   ]
  },
  {
   "cell_type": "code",
   "execution_count": 33,
   "metadata": {},
   "outputs": [
    {
     "name": "stdout",
     "output_type": "stream",
     "text": [
      "(62, 8)\n",
      "(16, 8)\n",
      "(62, 13)\n",
      "(16, 13)\n"
     ]
    }
   ],
   "source": [
    "\n",
    "\n",
    "print(X_train.shape)\n",
    "print(X_test.shape)\n",
    "print(y_train.shape)\n",
    "print(y_test.shape)\n",
    "\n"
   ]
  },
  {
   "cell_type": "code",
   "execution_count": 85,
   "metadata": {},
   "outputs": [],
   "source": [
    "model = Sequential()\n",
    "model.add(Dense(50, activation='relu', input_dim=8))\n",
    "model.add(Dense(13, activation='softmax'))\n",
    "sgd = SGD(lr = 0.01, decay = 1e-6, momentum = 0.789, nesterov=True)\n",
    "model.compile(optimizer=sgd,\n",
    "              loss='categorical_crossentropy',\n",
    "              metrics=['accuracy'])\n"
   ]
  },
  {
   "cell_type": "code",
   "execution_count": 86,
   "metadata": {},
   "outputs": [
    {
     "name": "stdout",
     "output_type": "stream",
     "text": [
      "Epoch 1/10\n",
      "13/13 [==============================] - 0s 1ms/step - loss: 3.4596 - accuracy: 0.0968\n",
      "Epoch 2/10\n",
      "13/13 [==============================] - 0s 1ms/step - loss: 2.6559 - accuracy: 0.0968\n",
      "Epoch 3/10\n",
      "13/13 [==============================] - 0s 1ms/step - loss: 2.2776 - accuracy: 0.2903\n",
      "Epoch 4/10\n",
      "13/13 [==============================] - 0s 2ms/step - loss: 2.0248 - accuracy: 0.3710\n",
      "Epoch 5/10\n",
      "13/13 [==============================] - 0s 1ms/step - loss: 1.8714 - accuracy: 0.4516\n",
      "Epoch 6/10\n",
      "13/13 [==============================] - 0s 963us/step - loss: 1.7293 - accuracy: 0.4839\n",
      "Epoch 7/10\n",
      "13/13 [==============================] - 0s 1ms/step - loss: 1.6164 - accuracy: 0.5161\n",
      "Epoch 8/10\n",
      "13/13 [==============================] - 0s 1ms/step - loss: 1.4879 - accuracy: 0.6290\n",
      "Epoch 9/10\n",
      "13/13 [==============================] - 0s 1ms/step - loss: 1.4269 - accuracy: 0.5484\n",
      "Epoch 10/10\n",
      "13/13 [==============================] - 0s 1ms/step - loss: 1.3283 - accuracy: 0.6290\n"
     ]
    }
   ],
   "source": [
    "history = model.fit(X_train, y_train, epochs = 10, batch_size = 5)"
   ]
  },
  {
   "cell_type": "code",
   "execution_count": 87,
   "metadata": {},
   "outputs": [],
   "source": [
    "score = model.evaluate(X_test, y_test, verbose = 0)"
   ]
  },
  {
   "cell_type": "code",
   "execution_count": 88,
   "metadata": {},
   "outputs": [
    {
     "name": "stdout",
     "output_type": "stream",
     "text": [
      "Test score: 3.3343286514282227\n",
      "Test accuracy: 0.125\n"
     ]
    }
   ],
   "source": [
    "\n",
    "\n",
    "print('Test score:', score[0])\n",
    "print('Test accuracy:', score[1])\n",
    "\n"
   ]
  },
  {
   "cell_type": "code",
   "execution_count": null,
   "metadata": {},
   "outputs": [],
   "source": []
  },
  {
   "cell_type": "code",
   "execution_count": null,
   "metadata": {},
   "outputs": [],
   "source": []
  }
 ],
 "metadata": {
  "kernelspec": {
   "display_name": "venv",
   "language": "python",
   "name": "venv"
  },
  "language_info": {
   "codemirror_mode": {
    "name": "ipython",
    "version": 3
   },
   "file_extension": ".py",
   "mimetype": "text/x-python",
   "name": "python",
   "nbconvert_exporter": "python",
   "pygments_lexer": "ipython3",
   "version": "3.8.10"
  }
 },
 "nbformat": 4,
 "nbformat_minor": 4
}
