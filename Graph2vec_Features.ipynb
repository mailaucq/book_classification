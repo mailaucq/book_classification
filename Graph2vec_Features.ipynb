{
 "cells": [
  {
   "cell_type": "code",
   "execution_count": 1,
   "metadata": {},
   "outputs": [],
   "source": [
    "from network import CNetwork"
   ]
  },
  {
   "cell_type": "code",
   "execution_count": 2,
   "metadata": {},
   "outputs": [],
   "source": [
    "import pandas as pd\n",
    "import numpy as np"
   ]
  },
  {
   "cell_type": "code",
   "execution_count": 3,
   "metadata": {},
   "outputs": [],
   "source": [
    "from utils import verifyDir"
   ]
  },
  {
   "cell_type": "code",
   "execution_count": 4,
   "metadata": {},
   "outputs": [],
   "source": [
    "dataset_path = \"datasetsv2/\"\n",
    "name_dataset = \"dataset_1\"\n",
    "length_cut = 30000\n",
    "random_flag = True\n",
    "remove_stop_words = True\n",
    "only_stop_words = False\n",
    "remove_puntuaction = True"
   ]
  },
  {
   "cell_type": "code",
   "execution_count": 5,
   "metadata": {},
   "outputs": [],
   "source": [
    "auxiliar_path = 'auxiliar_folder/' + name_dataset   + '/'\n",
    "verifyDir(auxiliar_path)"
   ]
  },
  {
   "cell_type": "code",
   "execution_count": 6,
   "metadata": {},
   "outputs": [],
   "source": [
    "df_train = pd.read_csv(dataset_path + \"df_train_\" + name_dataset + \"_\" + str(length_cut) + \"_\" + str(random_flag) + \".csv\")"
   ]
  },
  {
   "cell_type": "code",
   "execution_count": 7,
   "metadata": {},
   "outputs": [],
   "source": [
    "df_val = pd.read_csv(dataset_path + \"df_val_\" + name_dataset + \"_\" + str(length_cut) + \"_\" + str(random_flag) + \".csv\")"
   ]
  },
  {
   "cell_type": "code",
   "execution_count": 8,
   "metadata": {},
   "outputs": [],
   "source": [
    "df_test = pd.read_csv(dataset_path + \"df_test_\" + name_dataset + \"_\" + str(length_cut) + \"_\" + str(random_flag) + \".csv\")"
   ]
  },
  {
   "cell_type": "code",
   "execution_count": 9,
   "metadata": {},
   "outputs": [
    {
     "data": {
      "text/html": [
       "<div>\n",
       "<style scoped>\n",
       "    .dataframe tbody tr th:only-of-type {\n",
       "        vertical-align: middle;\n",
       "    }\n",
       "\n",
       "    .dataframe tbody tr th {\n",
       "        vertical-align: top;\n",
       "    }\n",
       "\n",
       "    .dataframe thead th {\n",
       "        text-align: right;\n",
       "    }\n",
       "</style>\n",
       "<table border=\"1\" class=\"dataframe\">\n",
       "  <thead>\n",
       "    <tr style=\"text-align: right;\">\n",
       "      <th></th>\n",
       "      <th>label</th>\n",
       "      <th>text</th>\n",
       "      <th>book</th>\n",
       "    </tr>\n",
       "  </thead>\n",
       "  <tbody>\n",
       "    <tr>\n",
       "      <th>0</th>\n",
       "      <td>Bram Stoker</td>\n",
       "      <td>to have anything to do with this . '' `` What ...</td>\n",
       "      <td>The Mystery Of The Sea</td>\n",
       "    </tr>\n",
       "    <tr>\n",
       "      <th>1</th>\n",
       "      <td>Allan Poe</td>\n",
       "      <td>great civility , took me into his study , and ...</td>\n",
       "      <td>The Works Of Edgar Allan Poe4</td>\n",
       "    </tr>\n",
       "    <tr>\n",
       "      <th>2</th>\n",
       "      <td>Allan Poe</td>\n",
       "      <td>impossible , is possible in the organic . _P._...</td>\n",
       "      <td>The Works Of Edgar Allan Poe2</td>\n",
       "    </tr>\n",
       "    <tr>\n",
       "      <th>3</th>\n",
       "      <td>Hector Hugh</td>\n",
       "      <td>was unfortunate , but she reckoned it a lesser...</td>\n",
       "      <td>When William Came</td>\n",
       "    </tr>\n",
       "    <tr>\n",
       "      <th>4</th>\n",
       "      <td>Charles Dickens</td>\n",
       "      <td>the light. -- YOU can be cheerful , Miggs , at...</td>\n",
       "      <td>Barnaby Rudge</td>\n",
       "    </tr>\n",
       "  </tbody>\n",
       "</table>\n",
       "</div>"
      ],
      "text/plain": [
       "             label                                               text  \\\n",
       "0      Bram Stoker  to have anything to do with this . '' `` What ...   \n",
       "1        Allan Poe  great civility , took me into his study , and ...   \n",
       "2        Allan Poe  impossible , is possible in the organic . _P._...   \n",
       "3      Hector Hugh  was unfortunate , but she reckoned it a lesser...   \n",
       "4  Charles Dickens  the light. -- YOU can be cheerful , Miggs , at...   \n",
       "\n",
       "                            book  \n",
       "0         The Mystery Of The Sea  \n",
       "1  The Works Of Edgar Allan Poe4  \n",
       "2  The Works Of Edgar Allan Poe2  \n",
       "3              When William Came  \n",
       "4                  Barnaby Rudge  "
      ]
     },
     "execution_count": 9,
     "metadata": {},
     "output_type": "execute_result"
    }
   ],
   "source": [
    "df_train.head(5)"
   ]
  },
  {
   "cell_type": "code",
   "execution_count": 10,
   "metadata": {},
   "outputs": [],
   "source": [
    "from utils.text_processing import get_word_index, get_sequences, get_common_words, pre_process_text"
   ]
  },
  {
   "cell_type": "code",
   "execution_count": 11,
   "metadata": {},
   "outputs": [],
   "source": [
    "df_train['text'] = df_train['text'].apply(lambda t: pre_process_text(t, remove_stop_words=remove_stop_words, only_stop_words=only_stop_words, remove_puntuaction_flag=remove_puntuaction))"
   ]
  },
  {
   "cell_type": "code",
   "execution_count": 12,
   "metadata": {},
   "outputs": [],
   "source": [
    "df_test['text'] = df_test['text'].apply(lambda t: pre_process_text(t, remove_stop_words=remove_stop_words, only_stop_words=only_stop_words, remove_puntuaction_flag=remove_puntuaction))"
   ]
  },
  {
   "cell_type": "code",
   "execution_count": 13,
   "metadata": {},
   "outputs": [],
   "source": [
    "df_val['text'] = df_val['text'].apply(lambda t: pre_process_text(t, remove_stop_words=remove_stop_words, only_stop_words=only_stop_words, remove_puntuaction_flag=remove_puntuaction))"
   ]
  },
  {
   "cell_type": "code",
   "execution_count": 14,
   "metadata": {},
   "outputs": [
    {
     "data": {
      "text/html": [
       "<div>\n",
       "<style scoped>\n",
       "    .dataframe tbody tr th:only-of-type {\n",
       "        vertical-align: middle;\n",
       "    }\n",
       "\n",
       "    .dataframe tbody tr th {\n",
       "        vertical-align: top;\n",
       "    }\n",
       "\n",
       "    .dataframe thead th {\n",
       "        text-align: right;\n",
       "    }\n",
       "</style>\n",
       "<table border=\"1\" class=\"dataframe\">\n",
       "  <thead>\n",
       "    <tr style=\"text-align: right;\">\n",
       "      <th></th>\n",
       "      <th>label</th>\n",
       "      <th>text</th>\n",
       "      <th>book</th>\n",
       "    </tr>\n",
       "  </thead>\n",
       "  <tbody>\n",
       "    <tr>\n",
       "      <th>0</th>\n",
       "      <td>Bram Stoker</td>\n",
       "      <td>[anything, mean, something, tone, query, set, ...</td>\n",
       "      <td>The Mystery Of The Sea</td>\n",
       "    </tr>\n",
       "    <tr>\n",
       "      <th>1</th>\n",
       "      <td>Allan Poe</td>\n",
       "      <td>[great, civility, took, study, gave, clear, ex...</td>\n",
       "      <td>The Works Of Edgar Allan Poe4</td>\n",
       "    </tr>\n",
       "    <tr>\n",
       "      <th>2</th>\n",
       "      <td>Allan Poe</td>\n",
       "      <td>[impossible, possible, organic, P, good, end, ...</td>\n",
       "      <td>The Works Of Edgar Allan Poe2</td>\n",
       "    </tr>\n",
       "    <tr>\n",
       "      <th>3</th>\n",
       "      <td>Hector Hugh</td>\n",
       "      <td>[unfortunate, reckoned, lesser, evil, tearing,...</td>\n",
       "      <td>When William Came</td>\n",
       "    </tr>\n",
       "    <tr>\n",
       "      <th>4</th>\n",
       "      <td>Charles Dickens</td>\n",
       "      <td>[light, cheerful, Miggs, least, ’, Miggs, mome...</td>\n",
       "      <td>Barnaby Rudge</td>\n",
       "    </tr>\n",
       "  </tbody>\n",
       "</table>\n",
       "</div>"
      ],
      "text/plain": [
       "             label                                               text  \\\n",
       "0      Bram Stoker  [anything, mean, something, tone, query, set, ...   \n",
       "1        Allan Poe  [great, civility, took, study, gave, clear, ex...   \n",
       "2        Allan Poe  [impossible, possible, organic, P, good, end, ...   \n",
       "3      Hector Hugh  [unfortunate, reckoned, lesser, evil, tearing,...   \n",
       "4  Charles Dickens  [light, cheerful, Miggs, least, ’, Miggs, mome...   \n",
       "\n",
       "                            book  \n",
       "0         The Mystery Of The Sea  \n",
       "1  The Works Of Edgar Allan Poe4  \n",
       "2  The Works Of Edgar Allan Poe2  \n",
       "3              When William Came  \n",
       "4                  Barnaby Rudge  "
      ]
     },
     "execution_count": 14,
     "metadata": {},
     "output_type": "execute_result"
    }
   ],
   "source": [
    "df_train.head(5)"
   ]
  },
  {
   "cell_type": "code",
   "execution_count": 15,
   "metadata": {},
   "outputs": [
    {
     "name": "stdout",
     "output_type": "stream",
     "text": [
      "Classes: ['George Eliot', 'Thomas Hardy', 'Charles Dickens', 'Hector Hugh', 'Joseph Conrad', 'Pelham Grenville', 'Allan Poe', 'Charles Darwin', 'Jane Austen', 'Daniel Defoe', 'Bram Stoker', 'Mark Twain', 'Arthur Conan Doyle']\n",
      "Total classes: 13\n",
      "Total entities for each class in train: 4\n"
     ]
    }
   ],
   "source": [
    "classes = list(df_train['label'])  ## or 'author'\n",
    "total_classes = list(set(df_train['label']))  ## or author\n",
    "print(\"Classes: {}\".format(total_classes))\n",
    "print(\"Total classes: {}\".format(len(total_classes)))\n",
    "number_books = (df_train[df_train['label'] == total_classes[0]]).shape[0]\n",
    "print(\"Total entities for each class in train: {}\".format(number_books))\n",
    "dict_categories = list(set(classes))\n",
    "dict_categories = {cat: index for index, cat in enumerate(dict_categories)}"
   ]
  },
  {
   "cell_type": "code",
   "execution_count": 16,
   "metadata": {},
   "outputs": [],
   "source": [
    "y_train = [dict_categories[y] for y in df_train[\"label\"]]"
   ]
  },
  {
   "cell_type": "code",
   "execution_count": 17,
   "metadata": {},
   "outputs": [],
   "source": [
    "y_val = [dict_categories[y] for y in df_val[\"label\"]]"
   ]
  },
  {
   "cell_type": "code",
   "execution_count": 18,
   "metadata": {},
   "outputs": [
    {
     "data": {
      "text/plain": [
       "46"
      ]
     },
     "execution_count": 18,
     "metadata": {},
     "output_type": "execute_result"
    }
   ],
   "source": [
    "len(y_train)"
   ]
  },
  {
   "cell_type": "code",
   "execution_count": 19,
   "metadata": {},
   "outputs": [
    {
     "name": "stdout",
     "output_type": "stream",
     "text": [
      "Requirement already satisfied: networkx in ./venv/lib/python3.8/site-packages (2.6.2)\r\n"
     ]
    }
   ],
   "source": [
    "!pip install networkx"
   ]
  },
  {
   "cell_type": "code",
   "execution_count": 21,
   "metadata": {
    "scrolled": false
   },
   "outputs": [],
   "source": [
    "word_index, index_word = get_word_index(df_train[\"text\"], tokenized=True)"
   ]
  },
  {
   "cell_type": "code",
   "execution_count": 22,
   "metadata": {},
   "outputs": [
    {
     "data": {
      "text/plain": [
       "49260"
      ]
     },
     "execution_count": 22,
     "metadata": {},
     "output_type": "execute_result"
    }
   ],
   "source": [
    "len(word_index)"
   ]
  },
  {
   "cell_type": "code",
   "execution_count": 23,
   "metadata": {},
   "outputs": [],
   "source": [
    "def read_embeddings(fname):\n",
    "    with open(fname) as f:\n",
    "        f.readline()\n",
    "        names = []\n",
    "        data = []\n",
    "        for line in f:\n",
    "            line = line.strip().split(\",\")\n",
    "            names.append(line[0])\n",
    "            data.append([float(v) for v in line[1:]])\n",
    "        return names, data"
   ]
  },
  {
   "cell_type": "code",
   "execution_count": 24,
   "metadata": {},
   "outputs": [],
   "source": [
    "def organize_data(graph2label, embed_vnames, embed_vecs):\n",
    "    N = len(graph2label)\n",
    "    data = [0 for _ in range(N)]\n",
    "    labels = [0 for _ in range(N)]\n",
    "    for i in range(len(graph2label)):\n",
    "        idx = embed_vnames[i]\n",
    "        data[int(idx)] = embed_vecs[i]\n",
    "        labels[int(idx)] = graph2label[idx]\n",
    "    return np.array(data), np.array(labels)"
   ]
  },
  {
   "cell_type": "code",
   "execution_count": 25,
   "metadata": {},
   "outputs": [],
   "source": [
    "from utils.igraph2json import igraph2json1\n",
    "import os"
   ]
  },
  {
   "cell_type": "code",
   "execution_count": 33,
   "metadata": {},
   "outputs": [],
   "source": [
    "def graph2vec(path, operating_system, networks, labels):\n",
    "    networks_dir = path + 'dataset/'\n",
    "    emb_file = path + 'features/nci1.csv'\n",
    "    graph2label = {}\n",
    "    try: \n",
    "        os.mkdir(in_network)\n",
    "        os.mkdir(path + 'features/')\n",
    "    except:\n",
    "        print(\"Existe\")\n",
    "    for (i, netw), label in zip(enumerate(networks), labels):\n",
    "        graph2label[str(i)] = label\n",
    "        igraph2json1(netw, networks_dir + str(i) + \".json\")\n",
    "    if operating_system == 'linux':\n",
    "        path_command = 'python ./graph2vec/src/graph2vec.py --input-path ' + networks_dir + ' --output-path ' + emb_file + ' --dimensions ' + str(512)\n",
    "    os.system(path_command)\n",
    "    embed_vnames, embed_vecs = read_embeddings(emb_file)\n",
    "    X, y = organize_data(graph2label, embed_vnames, embed_vecs)\n",
    "    return X, y\n"
   ]
  },
  {
   "cell_type": "code",
   "execution_count": 34,
   "metadata": {},
   "outputs": [],
   "source": [
    "def get_graph2vec_features(sequences, labels):\n",
    "    network_features = pd.DataFrame()\n",
    "    nets = []\n",
    "    for text in sequences:\n",
    "        obj = CNetwork(text, model=None, index_word=index_word, percentages=None, path=auxiliar_path)\n",
    "        network = obj.create_network()\n",
    "        nets.append(network)\n",
    "    X, y = graph2vec(\"\", \"linux\", nets, labels)\n",
    "    print(\"Shapes {} {}\".format(X.shape, y.shape))\n",
    "    return X, y"
   ]
  },
  {
   "cell_type": "code",
   "execution_count": 35,
   "metadata": {},
   "outputs": [
    {
     "name": "stdout",
     "output_type": "stream",
     "text": [
      "Nodes: 4249 - Edges: 12431\n",
      "Nodes: 6014 - Edges: 14068\n",
      "Nodes: 5561 - Edges: 13826\n",
      "Nodes: 5747 - Edges: 13467\n",
      "Nodes: 4734 - Edges: 12670\n",
      "Nodes: 4778 - Edges: 12988\n",
      "Nodes: 4084 - Edges: 12132\n",
      "Nodes: 3817 - Edges: 9884\n",
      "Nodes: 3348 - Edges: 11322\n",
      "Nodes: 5597 - Edges: 14176\n",
      "Nodes: 2997 - Edges: 9809\n",
      "Nodes: 4750 - Edges: 12950\n",
      "Nodes: 4859 - Edges: 11686\n",
      "Nodes: 4803 - Edges: 13000\n",
      "Nodes: 4416 - Edges: 13764\n",
      "Nodes: 4807 - Edges: 12092\n",
      "Nodes: 5310 - Edges: 13533\n",
      "Nodes: 4634 - Edges: 13074\n",
      "Nodes: 3253 - Edges: 10756\n",
      "Nodes: 4530 - Edges: 11067\n",
      "Nodes: 3290 - Edges: 10654\n",
      "Nodes: 4400 - Edges: 11514\n",
      "Nodes: 4455 - Edges: 13098\n",
      "Nodes: 5181 - Edges: 13534\n",
      "Nodes: 4993 - Edges: 12082\n",
      "Nodes: 3773 - Edges: 10565\n",
      "Nodes: 5481 - Edges: 12223\n",
      "Nodes: 4039 - Edges: 10671\n",
      "Nodes: 6246 - Edges: 15379\n",
      "Nodes: 5028 - Edges: 13172\n",
      "Nodes: 4216 - Edges: 10776\n",
      "Nodes: 4021 - Edges: 11503\n",
      "Nodes: 2977 - Edges: 10300\n",
      "Nodes: 3177 - Edges: 10404\n",
      "Nodes: 4303 - Edges: 13814\n",
      "Nodes: 3231 - Edges: 10715\n",
      "Nodes: 4423 - Edges: 11584\n",
      "Nodes: 3989 - Edges: 11528\n",
      "Nodes: 3939 - Edges: 12618\n",
      "Nodes: 3115 - Edges: 10773\n",
      "Nodes: 2429 - Edges: 8860\n",
      "Nodes: 4178 - Edges: 12518\n",
      "Nodes: 4423 - Edges: 12051\n",
      "Nodes: 3390 - Edges: 10648\n",
      "Nodes: 2880 - Edges: 9960\n",
      "Nodes: 4599 - Edges: 12372\n",
      "Existe\n"
     ]
    },
    {
     "name": "stderr",
     "output_type": "stream",
     "text": [
      "\r",
      "  0%|          | 0/46 [00:00<?, ?it/s]"
     ]
    },
    {
     "name": "stdout",
     "output_type": "stream",
     "text": [
      "\n",
      "Feature extraction started.\n",
      "\n"
     ]
    },
    {
     "name": "stderr",
     "output_type": "stream",
     "text": [
      "100%|██████████| 46/46 [00:01<00:00, 42.67it/s]\n"
     ]
    },
    {
     "name": "stdout",
     "output_type": "stream",
     "text": [
      "\n",
      "Optimization started.\n",
      "\n",
      "Shapes (46, 512) (46,)\n"
     ]
    }
   ],
   "source": [
    "X_train, y_train = get_graph2vec_features(get_sequences(df_train[\"text\"], word_index), y_train)"
   ]
  },
  {
   "cell_type": "code",
   "execution_count": 36,
   "metadata": {},
   "outputs": [
    {
     "data": {
      "text/plain": [
       "(46, 512)"
      ]
     },
     "execution_count": 36,
     "metadata": {},
     "output_type": "execute_result"
    }
   ],
   "source": [
    "X_train.shape"
   ]
  },
  {
   "cell_type": "code",
   "execution_count": 37,
   "metadata": {},
   "outputs": [
    {
     "name": "stdout",
     "output_type": "stream",
     "text": [
      "Nodes: 2910 - Edges: 11405\n",
      "Nodes: 4251 - Edges: 13487\n",
      "Nodes: 3283 - Edges: 9711\n",
      "Nodes: 4026 - Edges: 10217\n",
      "Nodes: 2903 - Edges: 10356\n",
      "Nodes: 4609 - Edges: 12662\n",
      "Nodes: 4129 - Edges: 10839\n",
      "Nodes: 4292 - Edges: 11318\n",
      "Nodes: 2754 - Edges: 10556\n",
      "Nodes: 4080 - Edges: 10849\n",
      "Nodes: 4579 - Edges: 12003\n",
      "Nodes: 3796 - Edges: 12248\n",
      "Nodes: 3712 - Edges: 10204\n",
      "Nodes: 2498 - Edges: 8944\n",
      "Nodes: 3305 - Edges: 9206\n",
      "Nodes: 4674 - Edges: 11715\n",
      "Existe\n"
     ]
    },
    {
     "name": "stderr",
     "output_type": "stream",
     "text": [
      "\r",
      "  0%|          | 0/46 [00:00<?, ?it/s]"
     ]
    },
    {
     "name": "stdout",
     "output_type": "stream",
     "text": [
      "\n",
      "Feature extraction started.\n",
      "\n"
     ]
    },
    {
     "name": "stderr",
     "output_type": "stream",
     "text": [
      "100%|██████████| 46/46 [00:01<00:00, 32.22it/s]"
     ]
    },
    {
     "name": "stdout",
     "output_type": "stream",
     "text": [
      "\n",
      "Optimization started.\n",
      "\n"
     ]
    },
    {
     "name": "stderr",
     "output_type": "stream",
     "text": [
      "\n"
     ]
    },
    {
     "name": "stdout",
     "output_type": "stream",
     "text": [
      "Shapes (16, 512) (16,)\n"
     ]
    }
   ],
   "source": [
    "X_val, y_val = get_graph2vec_features(get_sequences(df_val[\"text\"], word_index), y_val)"
   ]
  },
  {
   "cell_type": "markdown",
   "metadata": {},
   "source": [
    "# Training with SVM"
   ]
  },
  {
   "cell_type": "code",
   "execution_count": 38,
   "metadata": {},
   "outputs": [],
   "source": [
    "from sklearn.metrics import accuracy_score, classification_report\n",
    "from sklearn.model_selection import train_test_split, cross_val_score, GridSearchCV\n",
    "from sklearn.svm import SVC, LinearSVC"
   ]
  },
  {
   "cell_type": "code",
   "execution_count": 39,
   "metadata": {},
   "outputs": [
    {
     "name": "stderr",
     "output_type": "stream",
     "text": [
      "/home/mailaucq/Documents/book_classification/venv/lib/python3.8/site-packages/sklearn/model_selection/_validation.py:683: UserWarning: Scoring failed. The score on this train-test partition for these parameters will be set to nan. Details: \n",
      "Traceback (most recent call last):\n",
      "  File \"/home/mailaucq/Documents/book_classification/venv/lib/python3.8/site-packages/sklearn/model_selection/_validation.py\", line 674, in _score\n",
      "    scores = scorer(estimator, X_test, y_test)\n",
      "  File \"/home/mailaucq/Documents/book_classification/venv/lib/python3.8/site-packages/sklearn/metrics/_scorer.py\", line 199, in __call__\n",
      "    return self._score(partial(_cached_call, None), estimator, X, y_true,\n",
      "  File \"/home/mailaucq/Documents/book_classification/venv/lib/python3.8/site-packages/sklearn/metrics/_scorer.py\", line 242, in _score\n",
      "    return self._sign * self._score_func(y_true, y_pred,\n",
      "  File \"/home/mailaucq/Documents/book_classification/venv/lib/python3.8/site-packages/sklearn/utils/validation.py\", line 63, in inner_f\n",
      "    return f(*args, **kwargs)\n",
      "  File \"/home/mailaucq/Documents/book_classification/venv/lib/python3.8/site-packages/sklearn/metrics/_classification.py\", line 1068, in f1_score\n",
      "    return fbeta_score(y_true, y_pred, beta=1, labels=labels,\n",
      "  File \"/home/mailaucq/Documents/book_classification/venv/lib/python3.8/site-packages/sklearn/utils/validation.py\", line 63, in inner_f\n",
      "    return f(*args, **kwargs)\n",
      "  File \"/home/mailaucq/Documents/book_classification/venv/lib/python3.8/site-packages/sklearn/metrics/_classification.py\", line 1192, in fbeta_score\n",
      "    _, _, f, _ = precision_recall_fscore_support(y_true, y_pred,\n",
      "  File \"/home/mailaucq/Documents/book_classification/venv/lib/python3.8/site-packages/sklearn/utils/validation.py\", line 63, in inner_f\n",
      "    return f(*args, **kwargs)\n",
      "  File \"/home/mailaucq/Documents/book_classification/venv/lib/python3.8/site-packages/sklearn/metrics/_classification.py\", line 1461, in precision_recall_fscore_support\n",
      "    labels = _check_set_wise_labels(y_true, y_pred, average, labels,\n",
      "  File \"/home/mailaucq/Documents/book_classification/venv/lib/python3.8/site-packages/sklearn/metrics/_classification.py\", line 1291, in _check_set_wise_labels\n",
      "    raise ValueError(\"Target is %s but average='binary'. Please \"\n",
      "ValueError: Target is multiclass but average='binary'. Please choose another average setting, one of [None, 'micro', 'macro', 'weighted'].\n",
      "\n",
      "  warnings.warn(\n",
      "/home/mailaucq/Documents/book_classification/venv/lib/python3.8/site-packages/sklearn/model_selection/_validation.py:683: UserWarning: Scoring failed. The score on this train-test partition for these parameters will be set to nan. Details: \n",
      "Traceback (most recent call last):\n",
      "  File \"/home/mailaucq/Documents/book_classification/venv/lib/python3.8/site-packages/sklearn/model_selection/_validation.py\", line 674, in _score\n",
      "    scores = scorer(estimator, X_test, y_test)\n",
      "  File \"/home/mailaucq/Documents/book_classification/venv/lib/python3.8/site-packages/sklearn/metrics/_scorer.py\", line 199, in __call__\n",
      "    return self._score(partial(_cached_call, None), estimator, X, y_true,\n",
      "  File \"/home/mailaucq/Documents/book_classification/venv/lib/python3.8/site-packages/sklearn/metrics/_scorer.py\", line 242, in _score\n",
      "    return self._sign * self._score_func(y_true, y_pred,\n",
      "  File \"/home/mailaucq/Documents/book_classification/venv/lib/python3.8/site-packages/sklearn/utils/validation.py\", line 63, in inner_f\n",
      "    return f(*args, **kwargs)\n",
      "  File \"/home/mailaucq/Documents/book_classification/venv/lib/python3.8/site-packages/sklearn/metrics/_classification.py\", line 1068, in f1_score\n",
      "    return fbeta_score(y_true, y_pred, beta=1, labels=labels,\n",
      "  File \"/home/mailaucq/Documents/book_classification/venv/lib/python3.8/site-packages/sklearn/utils/validation.py\", line 63, in inner_f\n",
      "    return f(*args, **kwargs)\n",
      "  File \"/home/mailaucq/Documents/book_classification/venv/lib/python3.8/site-packages/sklearn/metrics/_classification.py\", line 1192, in fbeta_score\n",
      "    _, _, f, _ = precision_recall_fscore_support(y_true, y_pred,\n",
      "  File \"/home/mailaucq/Documents/book_classification/venv/lib/python3.8/site-packages/sklearn/utils/validation.py\", line 63, in inner_f\n",
      "    return f(*args, **kwargs)\n",
      "  File \"/home/mailaucq/Documents/book_classification/venv/lib/python3.8/site-packages/sklearn/metrics/_classification.py\", line 1461, in precision_recall_fscore_support\n",
      "    labels = _check_set_wise_labels(y_true, y_pred, average, labels,\n",
      "  File \"/home/mailaucq/Documents/book_classification/venv/lib/python3.8/site-packages/sklearn/metrics/_classification.py\", line 1291, in _check_set_wise_labels\n",
      "    raise ValueError(\"Target is %s but average='binary'. Please \"\n",
      "ValueError: Target is multiclass but average='binary'. Please choose another average setting, one of [None, 'micro', 'macro', 'weighted'].\n",
      "\n",
      "  warnings.warn(\n",
      "/home/mailaucq/Documents/book_classification/venv/lib/python3.8/site-packages/sklearn/model_selection/_validation.py:683: UserWarning: Scoring failed. The score on this train-test partition for these parameters will be set to nan. Details: \n",
      "Traceback (most recent call last):\n",
      "  File \"/home/mailaucq/Documents/book_classification/venv/lib/python3.8/site-packages/sklearn/model_selection/_validation.py\", line 674, in _score\n",
      "    scores = scorer(estimator, X_test, y_test)\n",
      "  File \"/home/mailaucq/Documents/book_classification/venv/lib/python3.8/site-packages/sklearn/metrics/_scorer.py\", line 199, in __call__\n",
      "    return self._score(partial(_cached_call, None), estimator, X, y_true,\n",
      "  File \"/home/mailaucq/Documents/book_classification/venv/lib/python3.8/site-packages/sklearn/metrics/_scorer.py\", line 242, in _score\n",
      "    return self._sign * self._score_func(y_true, y_pred,\n",
      "  File \"/home/mailaucq/Documents/book_classification/venv/lib/python3.8/site-packages/sklearn/utils/validation.py\", line 63, in inner_f\n",
      "    return f(*args, **kwargs)\n",
      "  File \"/home/mailaucq/Documents/book_classification/venv/lib/python3.8/site-packages/sklearn/metrics/_classification.py\", line 1068, in f1_score\n",
      "    return fbeta_score(y_true, y_pred, beta=1, labels=labels,\n",
      "  File \"/home/mailaucq/Documents/book_classification/venv/lib/python3.8/site-packages/sklearn/utils/validation.py\", line 63, in inner_f\n",
      "    return f(*args, **kwargs)\n",
      "  File \"/home/mailaucq/Documents/book_classification/venv/lib/python3.8/site-packages/sklearn/metrics/_classification.py\", line 1192, in fbeta_score\n",
      "    _, _, f, _ = precision_recall_fscore_support(y_true, y_pred,\n",
      "  File \"/home/mailaucq/Documents/book_classification/venv/lib/python3.8/site-packages/sklearn/utils/validation.py\", line 63, in inner_f\n",
      "    return f(*args, **kwargs)\n",
      "  File \"/home/mailaucq/Documents/book_classification/venv/lib/python3.8/site-packages/sklearn/metrics/_classification.py\", line 1461, in precision_recall_fscore_support\n",
      "    labels = _check_set_wise_labels(y_true, y_pred, average, labels,\n",
      "  File \"/home/mailaucq/Documents/book_classification/venv/lib/python3.8/site-packages/sklearn/metrics/_classification.py\", line 1291, in _check_set_wise_labels\n",
      "    raise ValueError(\"Target is %s but average='binary'. Please \"\n",
      "ValueError: Target is multiclass but average='binary'. Please choose another average setting, one of [None, 'micro', 'macro', 'weighted'].\n",
      "\n",
      "  warnings.warn(\n",
      "/home/mailaucq/Documents/book_classification/venv/lib/python3.8/site-packages/sklearn/model_selection/_validation.py:683: UserWarning: Scoring failed. The score on this train-test partition for these parameters will be set to nan. Details: \n",
      "Traceback (most recent call last):\n",
      "  File \"/home/mailaucq/Documents/book_classification/venv/lib/python3.8/site-packages/sklearn/model_selection/_validation.py\", line 674, in _score\n",
      "    scores = scorer(estimator, X_test, y_test)\n",
      "  File \"/home/mailaucq/Documents/book_classification/venv/lib/python3.8/site-packages/sklearn/metrics/_scorer.py\", line 199, in __call__\n",
      "    return self._score(partial(_cached_call, None), estimator, X, y_true,\n",
      "  File \"/home/mailaucq/Documents/book_classification/venv/lib/python3.8/site-packages/sklearn/metrics/_scorer.py\", line 242, in _score\n",
      "    return self._sign * self._score_func(y_true, y_pred,\n",
      "  File \"/home/mailaucq/Documents/book_classification/venv/lib/python3.8/site-packages/sklearn/utils/validation.py\", line 63, in inner_f\n",
      "    return f(*args, **kwargs)\n",
      "  File \"/home/mailaucq/Documents/book_classification/venv/lib/python3.8/site-packages/sklearn/metrics/_classification.py\", line 1068, in f1_score\n",
      "    return fbeta_score(y_true, y_pred, beta=1, labels=labels,\n",
      "  File \"/home/mailaucq/Documents/book_classification/venv/lib/python3.8/site-packages/sklearn/utils/validation.py\", line 63, in inner_f\n",
      "    return f(*args, **kwargs)\n",
      "  File \"/home/mailaucq/Documents/book_classification/venv/lib/python3.8/site-packages/sklearn/metrics/_classification.py\", line 1192, in fbeta_score\n",
      "    _, _, f, _ = precision_recall_fscore_support(y_true, y_pred,\n",
      "  File \"/home/mailaucq/Documents/book_classification/venv/lib/python3.8/site-packages/sklearn/utils/validation.py\", line 63, in inner_f\n",
      "    return f(*args, **kwargs)\n",
      "  File \"/home/mailaucq/Documents/book_classification/venv/lib/python3.8/site-packages/sklearn/metrics/_classification.py\", line 1461, in precision_recall_fscore_support\n",
      "    labels = _check_set_wise_labels(y_true, y_pred, average, labels,\n",
      "  File \"/home/mailaucq/Documents/book_classification/venv/lib/python3.8/site-packages/sklearn/metrics/_classification.py\", line 1291, in _check_set_wise_labels\n",
      "    raise ValueError(\"Target is %s but average='binary'. Please \"\n",
      "ValueError: Target is multiclass but average='binary'. Please choose another average setting, one of [None, 'micro', 'macro', 'weighted'].\n",
      "\n",
      "  warnings.warn(\n",
      "/home/mailaucq/Documents/book_classification/venv/lib/python3.8/site-packages/sklearn/model_selection/_validation.py:683: UserWarning: Scoring failed. The score on this train-test partition for these parameters will be set to nan. Details: \n",
      "Traceback (most recent call last):\n",
      "  File \"/home/mailaucq/Documents/book_classification/venv/lib/python3.8/site-packages/sklearn/model_selection/_validation.py\", line 674, in _score\n",
      "    scores = scorer(estimator, X_test, y_test)\n",
      "  File \"/home/mailaucq/Documents/book_classification/venv/lib/python3.8/site-packages/sklearn/metrics/_scorer.py\", line 199, in __call__\n",
      "    return self._score(partial(_cached_call, None), estimator, X, y_true,\n",
      "  File \"/home/mailaucq/Documents/book_classification/venv/lib/python3.8/site-packages/sklearn/metrics/_scorer.py\", line 242, in _score\n",
      "    return self._sign * self._score_func(y_true, y_pred,\n",
      "  File \"/home/mailaucq/Documents/book_classification/venv/lib/python3.8/site-packages/sklearn/utils/validation.py\", line 63, in inner_f\n",
      "    return f(*args, **kwargs)\n",
      "  File \"/home/mailaucq/Documents/book_classification/venv/lib/python3.8/site-packages/sklearn/metrics/_classification.py\", line 1068, in f1_score\n",
      "    return fbeta_score(y_true, y_pred, beta=1, labels=labels,\n",
      "  File \"/home/mailaucq/Documents/book_classification/venv/lib/python3.8/site-packages/sklearn/utils/validation.py\", line 63, in inner_f\n",
      "    return f(*args, **kwargs)\n",
      "  File \"/home/mailaucq/Documents/book_classification/venv/lib/python3.8/site-packages/sklearn/metrics/_classification.py\", line 1192, in fbeta_score\n",
      "    _, _, f, _ = precision_recall_fscore_support(y_true, y_pred,\n",
      "  File \"/home/mailaucq/Documents/book_classification/venv/lib/python3.8/site-packages/sklearn/utils/validation.py\", line 63, in inner_f\n",
      "    return f(*args, **kwargs)\n",
      "  File \"/home/mailaucq/Documents/book_classification/venv/lib/python3.8/site-packages/sklearn/metrics/_classification.py\", line 1461, in precision_recall_fscore_support\n",
      "    labels = _check_set_wise_labels(y_true, y_pred, average, labels,\n",
      "  File \"/home/mailaucq/Documents/book_classification/venv/lib/python3.8/site-packages/sklearn/metrics/_classification.py\", line 1291, in _check_set_wise_labels\n",
      "    raise ValueError(\"Target is %s but average='binary'. Please \"\n",
      "ValueError: Target is multiclass but average='binary'. Please choose another average setting, one of [None, 'micro', 'macro', 'weighted'].\n",
      "\n",
      "  warnings.warn(\n",
      "/home/mailaucq/Documents/book_classification/venv/lib/python3.8/site-packages/sklearn/model_selection/_validation.py:683: UserWarning: Scoring failed. The score on this train-test partition for these parameters will be set to nan. Details: \n",
      "Traceback (most recent call last):\n",
      "  File \"/home/mailaucq/Documents/book_classification/venv/lib/python3.8/site-packages/sklearn/model_selection/_validation.py\", line 674, in _score\n",
      "    scores = scorer(estimator, X_test, y_test)\n",
      "  File \"/home/mailaucq/Documents/book_classification/venv/lib/python3.8/site-packages/sklearn/metrics/_scorer.py\", line 199, in __call__\n",
      "    return self._score(partial(_cached_call, None), estimator, X, y_true,\n",
      "  File \"/home/mailaucq/Documents/book_classification/venv/lib/python3.8/site-packages/sklearn/metrics/_scorer.py\", line 242, in _score\n",
      "    return self._sign * self._score_func(y_true, y_pred,\n",
      "  File \"/home/mailaucq/Documents/book_classification/venv/lib/python3.8/site-packages/sklearn/utils/validation.py\", line 63, in inner_f\n",
      "    return f(*args, **kwargs)\n",
      "  File \"/home/mailaucq/Documents/book_classification/venv/lib/python3.8/site-packages/sklearn/metrics/_classification.py\", line 1068, in f1_score\n",
      "    return fbeta_score(y_true, y_pred, beta=1, labels=labels,\n",
      "  File \"/home/mailaucq/Documents/book_classification/venv/lib/python3.8/site-packages/sklearn/utils/validation.py\", line 63, in inner_f\n",
      "    return f(*args, **kwargs)\n",
      "  File \"/home/mailaucq/Documents/book_classification/venv/lib/python3.8/site-packages/sklearn/metrics/_classification.py\", line 1192, in fbeta_score\n",
      "    _, _, f, _ = precision_recall_fscore_support(y_true, y_pred,\n",
      "  File \"/home/mailaucq/Documents/book_classification/venv/lib/python3.8/site-packages/sklearn/utils/validation.py\", line 63, in inner_f\n",
      "    return f(*args, **kwargs)\n",
      "  File \"/home/mailaucq/Documents/book_classification/venv/lib/python3.8/site-packages/sklearn/metrics/_classification.py\", line 1461, in precision_recall_fscore_support\n",
      "    labels = _check_set_wise_labels(y_true, y_pred, average, labels,\n",
      "  File \"/home/mailaucq/Documents/book_classification/venv/lib/python3.8/site-packages/sklearn/metrics/_classification.py\", line 1291, in _check_set_wise_labels\n",
      "    raise ValueError(\"Target is %s but average='binary'. Please \"\n",
      "ValueError: Target is multiclass but average='binary'. Please choose another average setting, one of [None, 'micro', 'macro', 'weighted'].\n",
      "\n",
      "  warnings.warn(\n",
      "/home/mailaucq/Documents/book_classification/venv/lib/python3.8/site-packages/sklearn/model_selection/_validation.py:683: UserWarning: Scoring failed. The score on this train-test partition for these parameters will be set to nan. Details: \n",
      "Traceback (most recent call last):\n",
      "  File \"/home/mailaucq/Documents/book_classification/venv/lib/python3.8/site-packages/sklearn/model_selection/_validation.py\", line 674, in _score\n",
      "    scores = scorer(estimator, X_test, y_test)\n",
      "  File \"/home/mailaucq/Documents/book_classification/venv/lib/python3.8/site-packages/sklearn/metrics/_scorer.py\", line 199, in __call__\n",
      "    return self._score(partial(_cached_call, None), estimator, X, y_true,\n",
      "  File \"/home/mailaucq/Documents/book_classification/venv/lib/python3.8/site-packages/sklearn/metrics/_scorer.py\", line 242, in _score\n",
      "    return self._sign * self._score_func(y_true, y_pred,\n",
      "  File \"/home/mailaucq/Documents/book_classification/venv/lib/python3.8/site-packages/sklearn/utils/validation.py\", line 63, in inner_f\n",
      "    return f(*args, **kwargs)\n",
      "  File \"/home/mailaucq/Documents/book_classification/venv/lib/python3.8/site-packages/sklearn/metrics/_classification.py\", line 1068, in f1_score\n",
      "    return fbeta_score(y_true, y_pred, beta=1, labels=labels,\n",
      "  File \"/home/mailaucq/Documents/book_classification/venv/lib/python3.8/site-packages/sklearn/utils/validation.py\", line 63, in inner_f\n",
      "    return f(*args, **kwargs)\n",
      "  File \"/home/mailaucq/Documents/book_classification/venv/lib/python3.8/site-packages/sklearn/metrics/_classification.py\", line 1192, in fbeta_score\n",
      "    _, _, f, _ = precision_recall_fscore_support(y_true, y_pred,\n",
      "  File \"/home/mailaucq/Documents/book_classification/venv/lib/python3.8/site-packages/sklearn/utils/validation.py\", line 63, in inner_f\n",
      "    return f(*args, **kwargs)\n",
      "  File \"/home/mailaucq/Documents/book_classification/venv/lib/python3.8/site-packages/sklearn/metrics/_classification.py\", line 1461, in precision_recall_fscore_support\n",
      "    labels = _check_set_wise_labels(y_true, y_pred, average, labels,\n",
      "  File \"/home/mailaucq/Documents/book_classification/venv/lib/python3.8/site-packages/sklearn/metrics/_classification.py\", line 1291, in _check_set_wise_labels\n",
      "    raise ValueError(\"Target is %s but average='binary'. Please \"\n",
      "ValueError: Target is multiclass but average='binary'. Please choose another average setting, one of [None, 'micro', 'macro', 'weighted'].\n",
      "\n",
      "  warnings.warn(\n",
      "/home/mailaucq/Documents/book_classification/venv/lib/python3.8/site-packages/sklearn/model_selection/_validation.py:683: UserWarning: Scoring failed. The score on this train-test partition for these parameters will be set to nan. Details: \n",
      "Traceback (most recent call last):\n",
      "  File \"/home/mailaucq/Documents/book_classification/venv/lib/python3.8/site-packages/sklearn/model_selection/_validation.py\", line 674, in _score\n",
      "    scores = scorer(estimator, X_test, y_test)\n",
      "  File \"/home/mailaucq/Documents/book_classification/venv/lib/python3.8/site-packages/sklearn/metrics/_scorer.py\", line 199, in __call__\n",
      "    return self._score(partial(_cached_call, None), estimator, X, y_true,\n",
      "  File \"/home/mailaucq/Documents/book_classification/venv/lib/python3.8/site-packages/sklearn/metrics/_scorer.py\", line 242, in _score\n",
      "    return self._sign * self._score_func(y_true, y_pred,\n",
      "  File \"/home/mailaucq/Documents/book_classification/venv/lib/python3.8/site-packages/sklearn/utils/validation.py\", line 63, in inner_f\n",
      "    return f(*args, **kwargs)\n",
      "  File \"/home/mailaucq/Documents/book_classification/venv/lib/python3.8/site-packages/sklearn/metrics/_classification.py\", line 1068, in f1_score\n",
      "    return fbeta_score(y_true, y_pred, beta=1, labels=labels,\n",
      "  File \"/home/mailaucq/Documents/book_classification/venv/lib/python3.8/site-packages/sklearn/utils/validation.py\", line 63, in inner_f\n",
      "    return f(*args, **kwargs)\n",
      "  File \"/home/mailaucq/Documents/book_classification/venv/lib/python3.8/site-packages/sklearn/metrics/_classification.py\", line 1192, in fbeta_score\n",
      "    _, _, f, _ = precision_recall_fscore_support(y_true, y_pred,\n",
      "  File \"/home/mailaucq/Documents/book_classification/venv/lib/python3.8/site-packages/sklearn/utils/validation.py\", line 63, in inner_f\n",
      "    return f(*args, **kwargs)\n",
      "  File \"/home/mailaucq/Documents/book_classification/venv/lib/python3.8/site-packages/sklearn/metrics/_classification.py\", line 1461, in precision_recall_fscore_support\n",
      "    labels = _check_set_wise_labels(y_true, y_pred, average, labels,\n",
      "  File \"/home/mailaucq/Documents/book_classification/venv/lib/python3.8/site-packages/sklearn/metrics/_classification.py\", line 1291, in _check_set_wise_labels\n",
      "    raise ValueError(\"Target is %s but average='binary'. Please \"\n",
      "ValueError: Target is multiclass but average='binary'. Please choose another average setting, one of [None, 'micro', 'macro', 'weighted'].\n",
      "\n",
      "  warnings.warn(\n",
      "/home/mailaucq/Documents/book_classification/venv/lib/python3.8/site-packages/sklearn/model_selection/_validation.py:683: UserWarning: Scoring failed. The score on this train-test partition for these parameters will be set to nan. Details: \n",
      "Traceback (most recent call last):\n",
      "  File \"/home/mailaucq/Documents/book_classification/venv/lib/python3.8/site-packages/sklearn/model_selection/_validation.py\", line 674, in _score\n",
      "    scores = scorer(estimator, X_test, y_test)\n",
      "  File \"/home/mailaucq/Documents/book_classification/venv/lib/python3.8/site-packages/sklearn/metrics/_scorer.py\", line 199, in __call__\n",
      "    return self._score(partial(_cached_call, None), estimator, X, y_true,\n",
      "  File \"/home/mailaucq/Documents/book_classification/venv/lib/python3.8/site-packages/sklearn/metrics/_scorer.py\", line 242, in _score\n",
      "    return self._sign * self._score_func(y_true, y_pred,\n",
      "  File \"/home/mailaucq/Documents/book_classification/venv/lib/python3.8/site-packages/sklearn/utils/validation.py\", line 63, in inner_f\n",
      "    return f(*args, **kwargs)\n",
      "  File \"/home/mailaucq/Documents/book_classification/venv/lib/python3.8/site-packages/sklearn/metrics/_classification.py\", line 1068, in f1_score\n",
      "    return fbeta_score(y_true, y_pred, beta=1, labels=labels,\n",
      "  File \"/home/mailaucq/Documents/book_classification/venv/lib/python3.8/site-packages/sklearn/utils/validation.py\", line 63, in inner_f\n",
      "    return f(*args, **kwargs)\n",
      "  File \"/home/mailaucq/Documents/book_classification/venv/lib/python3.8/site-packages/sklearn/metrics/_classification.py\", line 1192, in fbeta_score\n",
      "    _, _, f, _ = precision_recall_fscore_support(y_true, y_pred,\n",
      "  File \"/home/mailaucq/Documents/book_classification/venv/lib/python3.8/site-packages/sklearn/utils/validation.py\", line 63, in inner_f\n",
      "    return f(*args, **kwargs)\n",
      "  File \"/home/mailaucq/Documents/book_classification/venv/lib/python3.8/site-packages/sklearn/metrics/_classification.py\", line 1461, in precision_recall_fscore_support\n",
      "    labels = _check_set_wise_labels(y_true, y_pred, average, labels,\n",
      "  File \"/home/mailaucq/Documents/book_classification/venv/lib/python3.8/site-packages/sklearn/metrics/_classification.py\", line 1291, in _check_set_wise_labels\n",
      "    raise ValueError(\"Target is %s but average='binary'. Please \"\n",
      "ValueError: Target is multiclass but average='binary'. Please choose another average setting, one of [None, 'micro', 'macro', 'weighted'].\n",
      "\n",
      "  warnings.warn(\n",
      "/home/mailaucq/Documents/book_classification/venv/lib/python3.8/site-packages/sklearn/model_selection/_validation.py:683: UserWarning: Scoring failed. The score on this train-test partition for these parameters will be set to nan. Details: \n",
      "Traceback (most recent call last):\n",
      "  File \"/home/mailaucq/Documents/book_classification/venv/lib/python3.8/site-packages/sklearn/model_selection/_validation.py\", line 674, in _score\n",
      "    scores = scorer(estimator, X_test, y_test)\n",
      "  File \"/home/mailaucq/Documents/book_classification/venv/lib/python3.8/site-packages/sklearn/metrics/_scorer.py\", line 199, in __call__\n",
      "    return self._score(partial(_cached_call, None), estimator, X, y_true,\n",
      "  File \"/home/mailaucq/Documents/book_classification/venv/lib/python3.8/site-packages/sklearn/metrics/_scorer.py\", line 242, in _score\n",
      "    return self._sign * self._score_func(y_true, y_pred,\n",
      "  File \"/home/mailaucq/Documents/book_classification/venv/lib/python3.8/site-packages/sklearn/utils/validation.py\", line 63, in inner_f\n",
      "    return f(*args, **kwargs)\n",
      "  File \"/home/mailaucq/Documents/book_classification/venv/lib/python3.8/site-packages/sklearn/metrics/_classification.py\", line 1068, in f1_score\n",
      "    return fbeta_score(y_true, y_pred, beta=1, labels=labels,\n",
      "  File \"/home/mailaucq/Documents/book_classification/venv/lib/python3.8/site-packages/sklearn/utils/validation.py\", line 63, in inner_f\n",
      "    return f(*args, **kwargs)\n",
      "  File \"/home/mailaucq/Documents/book_classification/venv/lib/python3.8/site-packages/sklearn/metrics/_classification.py\", line 1192, in fbeta_score\n",
      "    _, _, f, _ = precision_recall_fscore_support(y_true, y_pred,\n",
      "  File \"/home/mailaucq/Documents/book_classification/venv/lib/python3.8/site-packages/sklearn/utils/validation.py\", line 63, in inner_f\n",
      "    return f(*args, **kwargs)\n",
      "  File \"/home/mailaucq/Documents/book_classification/venv/lib/python3.8/site-packages/sklearn/metrics/_classification.py\", line 1461, in precision_recall_fscore_support\n",
      "    labels = _check_set_wise_labels(y_true, y_pred, average, labels,\n",
      "  File \"/home/mailaucq/Documents/book_classification/venv/lib/python3.8/site-packages/sklearn/metrics/_classification.py\", line 1291, in _check_set_wise_labels\n",
      "    raise ValueError(\"Target is %s but average='binary'. Please \"\n",
      "ValueError: Target is multiclass but average='binary'. Please choose another average setting, one of [None, 'micro', 'macro', 'weighted'].\n",
      "\n",
      "  warnings.warn(\n",
      "/home/mailaucq/Documents/book_classification/venv/lib/python3.8/site-packages/sklearn/model_selection/_validation.py:683: UserWarning: Scoring failed. The score on this train-test partition for these parameters will be set to nan. Details: \n",
      "Traceback (most recent call last):\n",
      "  File \"/home/mailaucq/Documents/book_classification/venv/lib/python3.8/site-packages/sklearn/model_selection/_validation.py\", line 674, in _score\n",
      "    scores = scorer(estimator, X_test, y_test)\n",
      "  File \"/home/mailaucq/Documents/book_classification/venv/lib/python3.8/site-packages/sklearn/metrics/_scorer.py\", line 199, in __call__\n",
      "    return self._score(partial(_cached_call, None), estimator, X, y_true,\n",
      "  File \"/home/mailaucq/Documents/book_classification/venv/lib/python3.8/site-packages/sklearn/metrics/_scorer.py\", line 242, in _score\n",
      "    return self._sign * self._score_func(y_true, y_pred,\n",
      "  File \"/home/mailaucq/Documents/book_classification/venv/lib/python3.8/site-packages/sklearn/utils/validation.py\", line 63, in inner_f\n",
      "    return f(*args, **kwargs)\n",
      "  File \"/home/mailaucq/Documents/book_classification/venv/lib/python3.8/site-packages/sklearn/metrics/_classification.py\", line 1068, in f1_score\n",
      "    return fbeta_score(y_true, y_pred, beta=1, labels=labels,\n",
      "  File \"/home/mailaucq/Documents/book_classification/venv/lib/python3.8/site-packages/sklearn/utils/validation.py\", line 63, in inner_f\n",
      "    return f(*args, **kwargs)\n",
      "  File \"/home/mailaucq/Documents/book_classification/venv/lib/python3.8/site-packages/sklearn/metrics/_classification.py\", line 1192, in fbeta_score\n",
      "    _, _, f, _ = precision_recall_fscore_support(y_true, y_pred,\n",
      "  File \"/home/mailaucq/Documents/book_classification/venv/lib/python3.8/site-packages/sklearn/utils/validation.py\", line 63, in inner_f\n",
      "    return f(*args, **kwargs)\n",
      "  File \"/home/mailaucq/Documents/book_classification/venv/lib/python3.8/site-packages/sklearn/metrics/_classification.py\", line 1461, in precision_recall_fscore_support\n",
      "    labels = _check_set_wise_labels(y_true, y_pred, average, labels,\n",
      "  File \"/home/mailaucq/Documents/book_classification/venv/lib/python3.8/site-packages/sklearn/metrics/_classification.py\", line 1291, in _check_set_wise_labels\n",
      "    raise ValueError(\"Target is %s but average='binary'. Please \"\n",
      "ValueError: Target is multiclass but average='binary'. Please choose another average setting, one of [None, 'micro', 'macro', 'weighted'].\n",
      "\n",
      "  warnings.warn(\n",
      "/home/mailaucq/Documents/book_classification/venv/lib/python3.8/site-packages/sklearn/model_selection/_validation.py:683: UserWarning: Scoring failed. The score on this train-test partition for these parameters will be set to nan. Details: \n",
      "Traceback (most recent call last):\n",
      "  File \"/home/mailaucq/Documents/book_classification/venv/lib/python3.8/site-packages/sklearn/model_selection/_validation.py\", line 674, in _score\n",
      "    scores = scorer(estimator, X_test, y_test)\n",
      "  File \"/home/mailaucq/Documents/book_classification/venv/lib/python3.8/site-packages/sklearn/metrics/_scorer.py\", line 199, in __call__\n",
      "    return self._score(partial(_cached_call, None), estimator, X, y_true,\n",
      "  File \"/home/mailaucq/Documents/book_classification/venv/lib/python3.8/site-packages/sklearn/metrics/_scorer.py\", line 242, in _score\n",
      "    return self._sign * self._score_func(y_true, y_pred,\n",
      "  File \"/home/mailaucq/Documents/book_classification/venv/lib/python3.8/site-packages/sklearn/utils/validation.py\", line 63, in inner_f\n",
      "    return f(*args, **kwargs)\n",
      "  File \"/home/mailaucq/Documents/book_classification/venv/lib/python3.8/site-packages/sklearn/metrics/_classification.py\", line 1068, in f1_score\n",
      "    return fbeta_score(y_true, y_pred, beta=1, labels=labels,\n",
      "  File \"/home/mailaucq/Documents/book_classification/venv/lib/python3.8/site-packages/sklearn/utils/validation.py\", line 63, in inner_f\n",
      "    return f(*args, **kwargs)\n",
      "  File \"/home/mailaucq/Documents/book_classification/venv/lib/python3.8/site-packages/sklearn/metrics/_classification.py\", line 1192, in fbeta_score\n",
      "    _, _, f, _ = precision_recall_fscore_support(y_true, y_pred,\n",
      "  File \"/home/mailaucq/Documents/book_classification/venv/lib/python3.8/site-packages/sklearn/utils/validation.py\", line 63, in inner_f\n",
      "    return f(*args, **kwargs)\n",
      "  File \"/home/mailaucq/Documents/book_classification/venv/lib/python3.8/site-packages/sklearn/metrics/_classification.py\", line 1461, in precision_recall_fscore_support\n",
      "    labels = _check_set_wise_labels(y_true, y_pred, average, labels,\n",
      "  File \"/home/mailaucq/Documents/book_classification/venv/lib/python3.8/site-packages/sklearn/metrics/_classification.py\", line 1291, in _check_set_wise_labels\n",
      "    raise ValueError(\"Target is %s but average='binary'. Please \"\n",
      "ValueError: Target is multiclass but average='binary'. Please choose another average setting, one of [None, 'micro', 'macro', 'weighted'].\n",
      "\n",
      "  warnings.warn(\n"
     ]
    },
    {
     "name": "stdout",
     "output_type": "stream",
     "text": [
      "[ 7  6  5 12  8 11  0  4  7  1  2 10  5  9  2  3]\n",
      "[ 0  5  0  0  0  5  5  0  5  5 10  5  3  5  0  1]\n",
      "Score 0.0\n",
      "Best params {'C': 0.01}\n",
      "              precision    recall  f1-score   support\n",
      "\n",
      "           0       0.00      0.00      0.00       1.0\n",
      "           1       0.00      0.00      0.00       1.0\n",
      "           2       0.00      0.00      0.00       2.0\n",
      "           3       0.00      0.00      0.00       1.0\n",
      "           4       0.00      0.00      0.00       1.0\n",
      "           5       0.00      0.00      0.00       2.0\n",
      "           6       0.00      0.00      0.00       1.0\n",
      "           7       0.00      0.00      0.00       2.0\n",
      "           8       0.00      0.00      0.00       1.0\n",
      "           9       0.00      0.00      0.00       1.0\n",
      "          10       0.00      0.00      0.00       1.0\n",
      "          11       0.00      0.00      0.00       1.0\n",
      "          12       0.00      0.00      0.00       1.0\n",
      "\n",
      "    accuracy                           0.00      16.0\n",
      "   macro avg       0.00      0.00      0.00      16.0\n",
      "weighted avg       0.00      0.00      0.00      16.0\n",
      "\n"
     ]
    },
    {
     "name": "stderr",
     "output_type": "stream",
     "text": [
      "/home/mailaucq/Documents/book_classification/venv/lib/python3.8/site-packages/sklearn/svm/_base.py:985: ConvergenceWarning: Liblinear failed to converge, increase the number of iterations.\n",
      "  warnings.warn(\"Liblinear failed to converge, increase \"\n",
      "/home/mailaucq/Documents/book_classification/venv/lib/python3.8/site-packages/sklearn/model_selection/_validation.py:683: UserWarning: Scoring failed. The score on this train-test partition for these parameters will be set to nan. Details: \n",
      "Traceback (most recent call last):\n",
      "  File \"/home/mailaucq/Documents/book_classification/venv/lib/python3.8/site-packages/sklearn/model_selection/_validation.py\", line 674, in _score\n",
      "    scores = scorer(estimator, X_test, y_test)\n",
      "  File \"/home/mailaucq/Documents/book_classification/venv/lib/python3.8/site-packages/sklearn/metrics/_scorer.py\", line 199, in __call__\n",
      "    return self._score(partial(_cached_call, None), estimator, X, y_true,\n",
      "  File \"/home/mailaucq/Documents/book_classification/venv/lib/python3.8/site-packages/sklearn/metrics/_scorer.py\", line 242, in _score\n",
      "    return self._sign * self._score_func(y_true, y_pred,\n",
      "  File \"/home/mailaucq/Documents/book_classification/venv/lib/python3.8/site-packages/sklearn/utils/validation.py\", line 63, in inner_f\n",
      "    return f(*args, **kwargs)\n",
      "  File \"/home/mailaucq/Documents/book_classification/venv/lib/python3.8/site-packages/sklearn/metrics/_classification.py\", line 1068, in f1_score\n",
      "    return fbeta_score(y_true, y_pred, beta=1, labels=labels,\n",
      "  File \"/home/mailaucq/Documents/book_classification/venv/lib/python3.8/site-packages/sklearn/utils/validation.py\", line 63, in inner_f\n",
      "    return f(*args, **kwargs)\n",
      "  File \"/home/mailaucq/Documents/book_classification/venv/lib/python3.8/site-packages/sklearn/metrics/_classification.py\", line 1192, in fbeta_score\n",
      "    _, _, f, _ = precision_recall_fscore_support(y_true, y_pred,\n",
      "  File \"/home/mailaucq/Documents/book_classification/venv/lib/python3.8/site-packages/sklearn/utils/validation.py\", line 63, in inner_f\n",
      "    return f(*args, **kwargs)\n",
      "  File \"/home/mailaucq/Documents/book_classification/venv/lib/python3.8/site-packages/sklearn/metrics/_classification.py\", line 1461, in precision_recall_fscore_support\n",
      "    labels = _check_set_wise_labels(y_true, y_pred, average, labels,\n",
      "  File \"/home/mailaucq/Documents/book_classification/venv/lib/python3.8/site-packages/sklearn/metrics/_classification.py\", line 1291, in _check_set_wise_labels\n",
      "    raise ValueError(\"Target is %s but average='binary'. Please \"\n",
      "ValueError: Target is multiclass but average='binary'. Please choose another average setting, one of [None, 'micro', 'macro', 'weighted'].\n",
      "\n",
      "  warnings.warn(\n",
      "/home/mailaucq/Documents/book_classification/venv/lib/python3.8/site-packages/sklearn/model_selection/_validation.py:683: UserWarning: Scoring failed. The score on this train-test partition for these parameters will be set to nan. Details: \n",
      "Traceback (most recent call last):\n",
      "  File \"/home/mailaucq/Documents/book_classification/venv/lib/python3.8/site-packages/sklearn/model_selection/_validation.py\", line 674, in _score\n",
      "    scores = scorer(estimator, X_test, y_test)\n",
      "  File \"/home/mailaucq/Documents/book_classification/venv/lib/python3.8/site-packages/sklearn/metrics/_scorer.py\", line 199, in __call__\n",
      "    return self._score(partial(_cached_call, None), estimator, X, y_true,\n",
      "  File \"/home/mailaucq/Documents/book_classification/venv/lib/python3.8/site-packages/sklearn/metrics/_scorer.py\", line 242, in _score\n",
      "    return self._sign * self._score_func(y_true, y_pred,\n",
      "  File \"/home/mailaucq/Documents/book_classification/venv/lib/python3.8/site-packages/sklearn/utils/validation.py\", line 63, in inner_f\n",
      "    return f(*args, **kwargs)\n",
      "  File \"/home/mailaucq/Documents/book_classification/venv/lib/python3.8/site-packages/sklearn/metrics/_classification.py\", line 1068, in f1_score\n",
      "    return fbeta_score(y_true, y_pred, beta=1, labels=labels,\n",
      "  File \"/home/mailaucq/Documents/book_classification/venv/lib/python3.8/site-packages/sklearn/utils/validation.py\", line 63, in inner_f\n",
      "    return f(*args, **kwargs)\n",
      "  File \"/home/mailaucq/Documents/book_classification/venv/lib/python3.8/site-packages/sklearn/metrics/_classification.py\", line 1192, in fbeta_score\n",
      "    _, _, f, _ = precision_recall_fscore_support(y_true, y_pred,\n",
      "  File \"/home/mailaucq/Documents/book_classification/venv/lib/python3.8/site-packages/sklearn/utils/validation.py\", line 63, in inner_f\n",
      "    return f(*args, **kwargs)\n",
      "  File \"/home/mailaucq/Documents/book_classification/venv/lib/python3.8/site-packages/sklearn/metrics/_classification.py\", line 1461, in precision_recall_fscore_support\n",
      "    labels = _check_set_wise_labels(y_true, y_pred, average, labels,\n",
      "  File \"/home/mailaucq/Documents/book_classification/venv/lib/python3.8/site-packages/sklearn/metrics/_classification.py\", line 1291, in _check_set_wise_labels\n",
      "    raise ValueError(\"Target is %s but average='binary'. Please \"\n",
      "ValueError: Target is multiclass but average='binary'. Please choose another average setting, one of [None, 'micro', 'macro', 'weighted'].\n",
      "\n",
      "  warnings.warn(\n",
      "/home/mailaucq/Documents/book_classification/venv/lib/python3.8/site-packages/sklearn/model_selection/_validation.py:683: UserWarning: Scoring failed. The score on this train-test partition for these parameters will be set to nan. Details: \n",
      "Traceback (most recent call last):\n",
      "  File \"/home/mailaucq/Documents/book_classification/venv/lib/python3.8/site-packages/sklearn/model_selection/_validation.py\", line 674, in _score\n",
      "    scores = scorer(estimator, X_test, y_test)\n",
      "  File \"/home/mailaucq/Documents/book_classification/venv/lib/python3.8/site-packages/sklearn/metrics/_scorer.py\", line 199, in __call__\n",
      "    return self._score(partial(_cached_call, None), estimator, X, y_true,\n",
      "  File \"/home/mailaucq/Documents/book_classification/venv/lib/python3.8/site-packages/sklearn/metrics/_scorer.py\", line 242, in _score\n",
      "    return self._sign * self._score_func(y_true, y_pred,\n",
      "  File \"/home/mailaucq/Documents/book_classification/venv/lib/python3.8/site-packages/sklearn/utils/validation.py\", line 63, in inner_f\n",
      "    return f(*args, **kwargs)\n",
      "  File \"/home/mailaucq/Documents/book_classification/venv/lib/python3.8/site-packages/sklearn/metrics/_classification.py\", line 1068, in f1_score\n",
      "    return fbeta_score(y_true, y_pred, beta=1, labels=labels,\n",
      "  File \"/home/mailaucq/Documents/book_classification/venv/lib/python3.8/site-packages/sklearn/utils/validation.py\", line 63, in inner_f\n",
      "    return f(*args, **kwargs)\n",
      "  File \"/home/mailaucq/Documents/book_classification/venv/lib/python3.8/site-packages/sklearn/metrics/_classification.py\", line 1192, in fbeta_score\n",
      "    _, _, f, _ = precision_recall_fscore_support(y_true, y_pred,\n",
      "  File \"/home/mailaucq/Documents/book_classification/venv/lib/python3.8/site-packages/sklearn/utils/validation.py\", line 63, in inner_f\n",
      "    return f(*args, **kwargs)\n",
      "  File \"/home/mailaucq/Documents/book_classification/venv/lib/python3.8/site-packages/sklearn/metrics/_classification.py\", line 1461, in precision_recall_fscore_support\n",
      "    labels = _check_set_wise_labels(y_true, y_pred, average, labels,\n",
      "  File \"/home/mailaucq/Documents/book_classification/venv/lib/python3.8/site-packages/sklearn/metrics/_classification.py\", line 1291, in _check_set_wise_labels\n",
      "    raise ValueError(\"Target is %s but average='binary'. Please \"\n",
      "ValueError: Target is multiclass but average='binary'. Please choose another average setting, one of [None, 'micro', 'macro', 'weighted'].\n",
      "\n",
      "  warnings.warn(\n",
      "/home/mailaucq/Documents/book_classification/venv/lib/python3.8/site-packages/sklearn/model_selection/_validation.py:683: UserWarning: Scoring failed. The score on this train-test partition for these parameters will be set to nan. Details: \n",
      "Traceback (most recent call last):\n",
      "  File \"/home/mailaucq/Documents/book_classification/venv/lib/python3.8/site-packages/sklearn/model_selection/_validation.py\", line 674, in _score\n",
      "    scores = scorer(estimator, X_test, y_test)\n",
      "  File \"/home/mailaucq/Documents/book_classification/venv/lib/python3.8/site-packages/sklearn/metrics/_scorer.py\", line 199, in __call__\n",
      "    return self._score(partial(_cached_call, None), estimator, X, y_true,\n",
      "  File \"/home/mailaucq/Documents/book_classification/venv/lib/python3.8/site-packages/sklearn/metrics/_scorer.py\", line 242, in _score\n",
      "    return self._sign * self._score_func(y_true, y_pred,\n",
      "  File \"/home/mailaucq/Documents/book_classification/venv/lib/python3.8/site-packages/sklearn/utils/validation.py\", line 63, in inner_f\n",
      "    return f(*args, **kwargs)\n",
      "  File \"/home/mailaucq/Documents/book_classification/venv/lib/python3.8/site-packages/sklearn/metrics/_classification.py\", line 1068, in f1_score\n",
      "    return fbeta_score(y_true, y_pred, beta=1, labels=labels,\n",
      "  File \"/home/mailaucq/Documents/book_classification/venv/lib/python3.8/site-packages/sklearn/utils/validation.py\", line 63, in inner_f\n",
      "    return f(*args, **kwargs)\n",
      "  File \"/home/mailaucq/Documents/book_classification/venv/lib/python3.8/site-packages/sklearn/metrics/_classification.py\", line 1192, in fbeta_score\n",
      "    _, _, f, _ = precision_recall_fscore_support(y_true, y_pred,\n",
      "  File \"/home/mailaucq/Documents/book_classification/venv/lib/python3.8/site-packages/sklearn/utils/validation.py\", line 63, in inner_f\n",
      "    return f(*args, **kwargs)\n",
      "  File \"/home/mailaucq/Documents/book_classification/venv/lib/python3.8/site-packages/sklearn/metrics/_classification.py\", line 1461, in precision_recall_fscore_support\n",
      "    labels = _check_set_wise_labels(y_true, y_pred, average, labels,\n",
      "  File \"/home/mailaucq/Documents/book_classification/venv/lib/python3.8/site-packages/sklearn/metrics/_classification.py\", line 1291, in _check_set_wise_labels\n",
      "    raise ValueError(\"Target is %s but average='binary'. Please \"\n",
      "ValueError: Target is multiclass but average='binary'. Please choose another average setting, one of [None, 'micro', 'macro', 'weighted'].\n",
      "\n",
      "  warnings.warn(\n",
      "/home/mailaucq/Documents/book_classification/venv/lib/python3.8/site-packages/sklearn/model_selection/_validation.py:683: UserWarning: Scoring failed. The score on this train-test partition for these parameters will be set to nan. Details: \n",
      "Traceback (most recent call last):\n",
      "  File \"/home/mailaucq/Documents/book_classification/venv/lib/python3.8/site-packages/sklearn/model_selection/_validation.py\", line 674, in _score\n",
      "    scores = scorer(estimator, X_test, y_test)\n",
      "  File \"/home/mailaucq/Documents/book_classification/venv/lib/python3.8/site-packages/sklearn/metrics/_scorer.py\", line 199, in __call__\n",
      "    return self._score(partial(_cached_call, None), estimator, X, y_true,\n",
      "  File \"/home/mailaucq/Documents/book_classification/venv/lib/python3.8/site-packages/sklearn/metrics/_scorer.py\", line 242, in _score\n",
      "    return self._sign * self._score_func(y_true, y_pred,\n",
      "  File \"/home/mailaucq/Documents/book_classification/venv/lib/python3.8/site-packages/sklearn/utils/validation.py\", line 63, in inner_f\n",
      "    return f(*args, **kwargs)\n",
      "  File \"/home/mailaucq/Documents/book_classification/venv/lib/python3.8/site-packages/sklearn/metrics/_classification.py\", line 1068, in f1_score\n",
      "    return fbeta_score(y_true, y_pred, beta=1, labels=labels,\n",
      "  File \"/home/mailaucq/Documents/book_classification/venv/lib/python3.8/site-packages/sklearn/utils/validation.py\", line 63, in inner_f\n",
      "    return f(*args, **kwargs)\n",
      "  File \"/home/mailaucq/Documents/book_classification/venv/lib/python3.8/site-packages/sklearn/metrics/_classification.py\", line 1192, in fbeta_score\n",
      "    _, _, f, _ = precision_recall_fscore_support(y_true, y_pred,\n",
      "  File \"/home/mailaucq/Documents/book_classification/venv/lib/python3.8/site-packages/sklearn/utils/validation.py\", line 63, in inner_f\n",
      "    return f(*args, **kwargs)\n",
      "  File \"/home/mailaucq/Documents/book_classification/venv/lib/python3.8/site-packages/sklearn/metrics/_classification.py\", line 1461, in precision_recall_fscore_support\n",
      "    labels = _check_set_wise_labels(y_true, y_pred, average, labels,\n",
      "  File \"/home/mailaucq/Documents/book_classification/venv/lib/python3.8/site-packages/sklearn/metrics/_classification.py\", line 1291, in _check_set_wise_labels\n",
      "    raise ValueError(\"Target is %s but average='binary'. Please \"\n",
      "ValueError: Target is multiclass but average='binary'. Please choose another average setting, one of [None, 'micro', 'macro', 'weighted'].\n",
      "\n",
      "  warnings.warn(\n",
      "/home/mailaucq/Documents/book_classification/venv/lib/python3.8/site-packages/sklearn/model_selection/_validation.py:683: UserWarning: Scoring failed. The score on this train-test partition for these parameters will be set to nan. Details: \n",
      "Traceback (most recent call last):\n",
      "  File \"/home/mailaucq/Documents/book_classification/venv/lib/python3.8/site-packages/sklearn/model_selection/_validation.py\", line 674, in _score\n",
      "    scores = scorer(estimator, X_test, y_test)\n",
      "  File \"/home/mailaucq/Documents/book_classification/venv/lib/python3.8/site-packages/sklearn/metrics/_scorer.py\", line 199, in __call__\n",
      "    return self._score(partial(_cached_call, None), estimator, X, y_true,\n",
      "  File \"/home/mailaucq/Documents/book_classification/venv/lib/python3.8/site-packages/sklearn/metrics/_scorer.py\", line 242, in _score\n",
      "    return self._sign * self._score_func(y_true, y_pred,\n",
      "  File \"/home/mailaucq/Documents/book_classification/venv/lib/python3.8/site-packages/sklearn/utils/validation.py\", line 63, in inner_f\n",
      "    return f(*args, **kwargs)\n",
      "  File \"/home/mailaucq/Documents/book_classification/venv/lib/python3.8/site-packages/sklearn/metrics/_classification.py\", line 1068, in f1_score\n",
      "    return fbeta_score(y_true, y_pred, beta=1, labels=labels,\n",
      "  File \"/home/mailaucq/Documents/book_classification/venv/lib/python3.8/site-packages/sklearn/utils/validation.py\", line 63, in inner_f\n",
      "    return f(*args, **kwargs)\n",
      "  File \"/home/mailaucq/Documents/book_classification/venv/lib/python3.8/site-packages/sklearn/metrics/_classification.py\", line 1192, in fbeta_score\n",
      "    _, _, f, _ = precision_recall_fscore_support(y_true, y_pred,\n",
      "  File \"/home/mailaucq/Documents/book_classification/venv/lib/python3.8/site-packages/sklearn/utils/validation.py\", line 63, in inner_f\n",
      "    return f(*args, **kwargs)\n",
      "  File \"/home/mailaucq/Documents/book_classification/venv/lib/python3.8/site-packages/sklearn/metrics/_classification.py\", line 1461, in precision_recall_fscore_support\n",
      "    labels = _check_set_wise_labels(y_true, y_pred, average, labels,\n",
      "  File \"/home/mailaucq/Documents/book_classification/venv/lib/python3.8/site-packages/sklearn/metrics/_classification.py\", line 1291, in _check_set_wise_labels\n",
      "    raise ValueError(\"Target is %s but average='binary'. Please \"\n",
      "ValueError: Target is multiclass but average='binary'. Please choose another average setting, one of [None, 'micro', 'macro', 'weighted'].\n",
      "\n",
      "  warnings.warn(\n",
      "/home/mailaucq/Documents/book_classification/venv/lib/python3.8/site-packages/sklearn/model_selection/_search.py:918: UserWarning: One or more of the test scores are non-finite: [nan nan nan nan nan nan]\n",
      "  warnings.warn(\n",
      "/home/mailaucq/Documents/book_classification/venv/lib/python3.8/site-packages/sklearn/metrics/_classification.py:1245: UndefinedMetricWarning: Precision and F-score are ill-defined and being set to 0.0 in labels with no predicted samples. Use `zero_division` parameter to control this behavior.\n",
      "  _warn_prf(average, modifier, msg_start, len(result))\n",
      "/home/mailaucq/Documents/book_classification/venv/lib/python3.8/site-packages/sklearn/metrics/_classification.py:1245: UndefinedMetricWarning: Precision and F-score are ill-defined and being set to 0.0 in labels with no predicted samples. Use `zero_division` parameter to control this behavior.\n",
      "  _warn_prf(average, modifier, msg_start, len(result))\n",
      "/home/mailaucq/Documents/book_classification/venv/lib/python3.8/site-packages/sklearn/metrics/_classification.py:1245: UndefinedMetricWarning: Precision and F-score are ill-defined and being set to 0.0 in labels with no predicted samples. Use `zero_division` parameter to control this behavior.\n",
      "  _warn_prf(average, modifier, msg_start, len(result))\n"
     ]
    }
   ],
   "source": [
    "params = {'C':[0.01,0.1,1,10,100,1000]}\n",
    "\n",
    "classifier = GridSearchCV(LinearSVC(), params, cv=3, scoring='f1')\n",
    "classifier.fit(X_train, y_train)\n",
    "y_pred = classifier.predict(X_val)\n",
    "score = accuracy_score(y_val, y_pred)\n",
    "print(y_val)\n",
    "print(y_pred)\n",
    "print(\"Score {}\".format(score))\n",
    "print(\"Best params {}\".format(classifier.best_params_))\n",
    "print(classification_report(y_val, y_pred))"
   ]
  },
  {
   "cell_type": "code",
   "execution_count": null,
   "metadata": {},
   "outputs": [],
   "source": []
  },
  {
   "cell_type": "code",
   "execution_count": null,
   "metadata": {},
   "outputs": [],
   "source": []
  }
 ],
 "metadata": {
  "kernelspec": {
   "display_name": "venv",
   "language": "python",
   "name": "venv"
  },
  "language_info": {
   "codemirror_mode": {
    "name": "ipython",
    "version": 3
   },
   "file_extension": ".py",
   "mimetype": "text/x-python",
   "name": "python",
   "nbconvert_exporter": "python",
   "pygments_lexer": "ipython3",
   "version": "3.8.10"
  }
 },
 "nbformat": 4,
 "nbformat_minor": 4
}
