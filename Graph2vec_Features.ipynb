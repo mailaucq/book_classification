{
 "cells": [
  {
   "cell_type": "code",
   "execution_count": 1,
   "metadata": {},
   "outputs": [],
   "source": [
    "from network import CNetwork"
   ]
  },
  {
   "cell_type": "code",
   "execution_count": 2,
   "metadata": {},
   "outputs": [],
   "source": [
    "import pandas as pd\n",
    "import numpy as np"
   ]
  },
  {
   "cell_type": "code",
   "execution_count": 3,
   "metadata": {},
   "outputs": [],
   "source": [
    "import os"
   ]
  },
  {
   "cell_type": "code",
   "execution_count": 4,
   "metadata": {},
   "outputs": [],
   "source": [
    "name_dataset = \"dataset_1\"\n",
    "dataset_path = \"datasetsv2/\"\n",
    "length_cut = 10000\n",
    "random_flag = True\n",
    "remove_punctuation = True\n",
    "lemmatization_flag = True\n",
    "dimension = 8112\n",
    "feature_selection = 'common_words'"
   ]
  },
  {
   "cell_type": "code",
   "execution_count": 5,
   "metadata": {},
   "outputs": [],
   "source": [
    "df = pd.read_csv(dataset_path + name_dataset + \".csv\")"
   ]
  },
  {
   "cell_type": "code",
   "execution_count": 6,
   "metadata": {},
   "outputs": [
    {
     "data": {
      "text/html": [
       "<div>\n",
       "<style scoped>\n",
       "    .dataframe tbody tr th:only-of-type {\n",
       "        vertical-align: middle;\n",
       "    }\n",
       "\n",
       "    .dataframe tbody tr th {\n",
       "        vertical-align: top;\n",
       "    }\n",
       "\n",
       "    .dataframe thead th {\n",
       "        text-align: right;\n",
       "    }\n",
       "</style>\n",
       "<table border=\"1\" class=\"dataframe\">\n",
       "  <thead>\n",
       "    <tr style=\"text-align: right;\">\n",
       "      <th></th>\n",
       "      <th>label</th>\n",
       "      <th>text</th>\n",
       "      <th>book</th>\n",
       "    </tr>\n",
       "  </thead>\n",
       "  <tbody>\n",
       "    <tr>\n",
       "      <th>0</th>\n",
       "      <td>Pelham Grenville</td>\n",
       "      <td>\\n\\n\\n\\n\\n\\n\\n\\nProduced by Christine Gehring,...</td>\n",
       "      <td>Right Ho Jeeves</td>\n",
       "    </tr>\n",
       "    <tr>\n",
       "      <th>1</th>\n",
       "      <td>Pelham Grenville</td>\n",
       "      <td>\\n\\n\\n\\n\\n\\n\\n\\nProduced by Suzanne L. Shell, ...</td>\n",
       "      <td>Tales Of St Austin</td>\n",
       "    </tr>\n",
       "    <tr>\n",
       "      <th>2</th>\n",
       "      <td>Joseph Conrad</td>\n",
       "      <td>And that last\\n\\nword was the single word of ...</td>\n",
       "      <td>Victory</td>\n",
       "    </tr>\n",
       "    <tr>\n",
       "      <th>3</th>\n",
       "      <td>Joseph Conrad</td>\n",
       "      <td>\\n\\n\\n\\nIf I have ever had these gifts in any ...</td>\n",
       "      <td>Under Western Eyes</td>\n",
       "    </tr>\n",
       "    <tr>\n",
       "      <th>4</th>\n",
       "      <td>Bram Stoker</td>\n",
       "      <td>\\n\\n\\n\\n                                  Lond...</td>\n",
       "      <td>The Lady Of The Shroud</td>\n",
       "    </tr>\n",
       "  </tbody>\n",
       "</table>\n",
       "</div>"
      ],
      "text/plain": [
       "              label                                               text  \\\n",
       "0  Pelham Grenville  \\n\\n\\n\\n\\n\\n\\n\\nProduced by Christine Gehring,...   \n",
       "1  Pelham Grenville  \\n\\n\\n\\n\\n\\n\\n\\nProduced by Suzanne L. Shell, ...   \n",
       "2     Joseph Conrad   And that last\\n\\nword was the single word of ...   \n",
       "3     Joseph Conrad  \\n\\n\\n\\nIf I have ever had these gifts in any ...   \n",
       "4       Bram Stoker  \\n\\n\\n\\n                                  Lond...   \n",
       "\n",
       "                     book  \n",
       "0         Right Ho Jeeves  \n",
       "1      Tales Of St Austin  \n",
       "2                 Victory  \n",
       "3      Under Western Eyes  \n",
       "4  The Lady Of The Shroud  "
      ]
     },
     "execution_count": 6,
     "metadata": {},
     "output_type": "execute_result"
    }
   ],
   "source": [
    "df.head(5)"
   ]
  },
  {
   "cell_type": "code",
   "execution_count": 7,
   "metadata": {},
   "outputs": [],
   "source": [
    "from utils.text_processing import get_min_len_corpus"
   ]
  },
  {
   "cell_type": "code",
   "execution_count": 8,
   "metadata": {},
   "outputs": [
    {
     "name": "stdout",
     "output_type": "stream",
     "text": [
      "Min Length: 55024\n"
     ]
    }
   ],
   "source": [
    "print(\"Min Length:\", get_min_len_corpus(list(df[\"text\"])))"
   ]
  },
  {
   "cell_type": "code",
   "execution_count": 9,
   "metadata": {},
   "outputs": [],
   "source": [
    "from utils.text_processing import get_corpus, get_random_corpus"
   ]
  },
  {
   "cell_type": "code",
   "execution_count": 10,
   "metadata": {},
   "outputs": [],
   "source": [
    "texts = list(df['text'])"
   ]
  },
  {
   "cell_type": "code",
   "execution_count": 11,
   "metadata": {},
   "outputs": [],
   "source": [
    "corpus, segmented_corpus = get_corpus(texts, length_cut)"
   ]
  },
  {
   "cell_type": "code",
   "execution_count": 12,
   "metadata": {},
   "outputs": [],
   "source": [
    "selected_corpus, words_features, word_index, index_word = get_random_corpus(segmented_corpus, remove_punctuation=remove_punctuation, lemmatization_flag=lemmatization_flag, feature_selection = feature_selection)"
   ]
  },
  {
   "cell_type": "code",
   "execution_count": 17,
   "metadata": {},
   "outputs": [
    {
     "data": {
      "text/plain": [
       "78"
      ]
     },
     "execution_count": 17,
     "metadata": {},
     "output_type": "execute_result"
    }
   ],
   "source": [
    "len(selected_corpus)"
   ]
  },
  {
   "cell_type": "code",
   "execution_count": 18,
   "metadata": {},
   "outputs": [],
   "source": [
    "labels = list(df['label'])"
   ]
  },
  {
   "cell_type": "code",
   "execution_count": 19,
   "metadata": {},
   "outputs": [
    {
     "name": "stdout",
     "output_type": "stream",
     "text": [
      "Total classes: 13\n",
      "Total entities for each class in train: 6\n"
     ]
    }
   ],
   "source": [
    "total_classes = list(set(labels))  ## or author\n",
    "print(\"Total classes: {}\".format(len(total_classes)))\n",
    "number_books = (df[df['label'] == total_classes[0]]).shape[0]\n",
    "print(\"Total entities for each class in train: {}\".format(number_books))\n",
    "dict_categories = {cat: index for index, cat in enumerate(total_classes)}"
   ]
  },
  {
   "cell_type": "code",
   "execution_count": 20,
   "metadata": {},
   "outputs": [],
   "source": [
    "y = [dict_categories[y] for y in labels]"
   ]
  },
  {
   "cell_type": "code",
   "execution_count": 21,
   "metadata": {},
   "outputs": [
    {
     "data": {
      "text/plain": [
       "['Daniel Defoe',\n",
       " 'Charles Darwin',\n",
       " 'Charles Dickens',\n",
       " 'Mark Twain',\n",
       " 'Bram Stoker',\n",
       " 'Arthur Conan Doyle',\n",
       " 'George Eliot',\n",
       " 'Jane Austen',\n",
       " 'Hector Hugh',\n",
       " 'Thomas Hardy',\n",
       " 'Pelham Grenville',\n",
       " 'Allan Poe',\n",
       " 'Joseph Conrad']"
      ]
     },
     "execution_count": 21,
     "metadata": {},
     "output_type": "execute_result"
    }
   ],
   "source": [
    "total_classes"
   ]
  },
  {
   "cell_type": "code",
   "execution_count": 22,
   "metadata": {},
   "outputs": [],
   "source": [
    "import json\n",
    "def graph2vec(operating_system, networks):\n",
    "    input_path = \"graph2vec/dataset/\"+str(length_cut)+\"_\"+str(dimension)+\"/\"\n",
    "    output_path = 'graph2vec/features/'\n",
    "    try: \n",
    "        os.mkdir(input_path)\n",
    "        os.mkdir(output_path)\n",
    "    except:\n",
    "        print(\"Existe\")\n",
    "    for i, netw in enumerate(networks):\n",
    "        with open((input_path+str(i)+\".json\"), \"w\") as f:\n",
    "            edges = []\n",
    "            v_names = netw.vs[\"name\"]\n",
    "            for edge in netw.get_edgelist():\n",
    "                (u,v) = edge\n",
    "                edges.append([int(v_names[u]), int(v_names[v])])\n",
    "            json.dump({\"edges\":edges}, f)\n",
    "    if operating_system == 'linux':\n",
    "        #path_command = \"python struc2vec/src/main.py --dimensions \"+str(dimension)+\" --input \"+input_path+str(length_cut)+\"_\"+str(dimension)+\"_\"+str(i)+\".edgelist --output \"+output_path+str(length_cut)+\"_\"+str(dimension)+\"_\"+str(i)+\".emb\"\n",
    "        path_command = 'python graph2vec/src/graph2vec.py --input-path ' + input_path + ' --output-path ' + output_path+str(length_cut)+'_'+str(dimension)+'.csv' + ' --dimensions ' + str(dimension)\n",
    "        os.system(path_command)\n",
    "        print(\"graph2vec\", str(i))"
   ]
  },
  {
   "cell_type": "code",
   "execution_count": 23,
   "metadata": {},
   "outputs": [],
   "source": [
    "def read_graph2vec(output_path, networks):\n",
    "    all_network_features = [[] for _ in range(len(networks))]\n",
    "    with open(output_path+str(length_cut)+\"_\"+str(dimension)+\".csv\", \"r\") as f:\n",
    "        lines = f.readlines()\n",
    "        for l in lines[1:]:\n",
    "            row = l.strip().split(\",\")\n",
    "            id_graph = row[0]\n",
    "            print(\"id graph\", id_graph)\n",
    "            network_features = np.array([float(v) for v in row[1:]])\n",
    "            print(str(id_graph), \"len\",len(network_features))\n",
    "            all_network_features[int(id_graph)] = network_features\n",
    "    return np.array(all_network_features)"
   ]
  },
  {
   "cell_type": "code",
   "execution_count": 24,
   "metadata": {},
   "outputs": [],
   "source": [
    "def get_graph2vec_features(sequences, index_word):\n",
    "    nets = []\n",
    "    for text in sequences:\n",
    "        obj = CNetwork(text, model=None, index_word=index_word, percentages=None, path=\"\")\n",
    "        network = obj.create_network()\n",
    "        nets.append(network)\n",
    "    graph2vec(\"linux\", nets)\n",
    "    X = read_graph2vec('graph2vec/features/', nets)\n",
    "    return X"
   ]
  },
  {
   "cell_type": "code",
   "execution_count": 25,
   "metadata": {},
   "outputs": [
    {
     "name": "stdout",
     "output_type": "stream",
     "text": [
      "Nodes: 2064 - Edges: 6189\n",
      "Nodes: 2040 - Edges: 6320\n",
      "Nodes: 2216 - Edges: 6691\n",
      "Nodes: 2111 - Edges: 6629\n",
      "Nodes: 1931 - Edges: 6369\n",
      "Nodes: 1927 - Edges: 6172\n",
      "Nodes: 2016 - Edges: 6272\n",
      "Nodes: 2112 - Edges: 6550\n",
      "Nodes: 2085 - Edges: 6560\n",
      "Nodes: 2311 - Edges: 6665\n",
      "Nodes: 2212 - Edges: 6696\n",
      "Nodes: 1613 - Edges: 5907\n",
      "Nodes: 2306 - Edges: 6798\n",
      "Nodes: 1787 - Edges: 6186\n",
      "Nodes: 2438 - Edges: 6571\n",
      "Nodes: 1338 - Edges: 5270\n",
      "Nodes: 2281 - Edges: 6690\n",
      "Nodes: 2322 - Edges: 6670\n",
      "Nodes: 1947 - Edges: 6165\n",
      "Nodes: 2034 - Edges: 6560\n",
      "Nodes: 2855 - Edges: 6961\n",
      "Nodes: 1950 - Edges: 6479\n",
      "Nodes: 1997 - Edges: 6491\n",
      "Nodes: 2140 - Edges: 6564\n",
      "Nodes: 1474 - Edges: 4773\n",
      "Nodes: 2153 - Edges: 6607\n",
      "Nodes: 2518 - Edges: 6862\n",
      "Nodes: 1893 - Edges: 6161\n",
      "Nodes: 2103 - Edges: 6586\n",
      "Nodes: 2075 - Edges: 6117\n",
      "Nodes: 1886 - Edges: 6118\n",
      "Nodes: 2737 - Edges: 7043\n",
      "Nodes: 2026 - Edges: 5839\n",
      "Nodes: 1936 - Edges: 6390\n",
      "Nodes: 1458 - Edges: 5489\n",
      "Nodes: 1664 - Edges: 6035\n",
      "Nodes: 1948 - Edges: 6200\n",
      "Nodes: 2400 - Edges: 6785\n",
      "Nodes: 2689 - Edges: 7131\n",
      "Nodes: 2247 - Edges: 6621\n",
      "Nodes: 2408 - Edges: 6927\n",
      "Nodes: 2363 - Edges: 6736\n",
      "Nodes: 1986 - Edges: 5775\n",
      "Nodes: 2345 - Edges: 6409\n",
      "Nodes: 2484 - Edges: 6717\n",
      "Nodes: 2273 - Edges: 6590\n",
      "Nodes: 1929 - Edges: 6039\n",
      "Nodes: 2474 - Edges: 6757\n",
      "Nodes: 1863 - Edges: 6319\n",
      "Nodes: 2172 - Edges: 6483\n",
      "Nodes: 2078 - Edges: 6654\n",
      "Nodes: 1913 - Edges: 6245\n",
      "Nodes: 2691 - Edges: 7039\n",
      "Nodes: 2059 - Edges: 6711\n",
      "Nodes: 2009 - Edges: 6403\n",
      "Nodes: 2335 - Edges: 6358\n",
      "Nodes: 1992 - Edges: 6237\n",
      "Nodes: 2143 - Edges: 6608\n",
      "Nodes: 1838 - Edges: 6299\n",
      "Nodes: 1200 - Edges: 3810\n",
      "Nodes: 1588 - Edges: 5877\n",
      "Nodes: 1474 - Edges: 4068\n",
      "Nodes: 1532 - Edges: 5787\n",
      "Nodes: 1239 - Edges: 2690\n",
      "Nodes: 2601 - Edges: 6962\n",
      "Nodes: 1796 - Edges: 5949\n",
      "Nodes: 1781 - Edges: 5785\n",
      "Nodes: 2236 - Edges: 6610\n",
      "Nodes: 1923 - Edges: 6453\n",
      "Nodes: 2271 - Edges: 6453\n",
      "Nodes: 2124 - Edges: 6592\n",
      "Nodes: 2273 - Edges: 5658\n",
      "Nodes: 2240 - Edges: 6698\n",
      "Nodes: 2143 - Edges: 6288\n",
      "Nodes: 1965 - Edges: 6510\n",
      "Nodes: 1844 - Edges: 6434\n",
      "Nodes: 2311 - Edges: 6406\n",
      "Nodes: 2370 - Edges: 6736\n",
      "Existe\n"
     ]
    },
    {
     "name": "stderr",
     "output_type": "stream",
     "text": [
      "\r",
      "  0%|          | 0/78 [00:00<?, ?it/s]"
     ]
    },
    {
     "name": "stdout",
     "output_type": "stream",
     "text": [
      "\n",
      "Feature extraction started.\n",
      "\n"
     ]
    },
    {
     "name": "stderr",
     "output_type": "stream",
     "text": [
      "100%|██████████| 78/78 [00:00<00:00, 78.05it/s]\n"
     ]
    },
    {
     "name": "stdout",
     "output_type": "stream",
     "text": [
      "\n",
      "Optimization started.\n",
      "\n",
      "GRAPHHHHH Graph with 2016 nodes and 6272 edges\n",
      "GRAPHHHHH Graph with 1613 nodes and 5907 edges\n",
      "GRAPHHHHH Graph with 2311 nodes and 6406 edges\n",
      "GRAPHHHHH Graph with 2273 nodes and 6590 edges\n",
      "GRAPHHHHH Graph with 2855 nodes and 6961 edges\n",
      "GRAPHHHHH Graph with 1863 nodes and 6319 edges\n",
      "GRAPHHHHH Graph with 1947 nodes and 6165 edges\n",
      "GRAPHHHHH Graph with 2247 nodes and 6621 edges\n",
      "GRAPHHHHH Graph with 1796 nodes and 5949 edges\n",
      "GRAPHHHHH Graph with 1992 nodes and 6237 edges\n",
      "GRAPHHHHH Graph with 2484 nodes and 6717 edges\n",
      "GRAPHHHHH Graph with 1474 nodes and 4068 edges\n",
      "GRAPHHHHH Graph with 1844 nodes and 6434 edges\n",
      "GRAPHHHHH Graph with 1532 nodes and 5787 edges\n",
      "GRAPHHHHH Graph with 2306 nodes and 6798 edges\n",
      "GRAPHHHHH Graph with 2363 nodes and 6736 edges\n",
      "GRAPHHHHH Graph with 2438 nodes and 6571 edges\n",
      "GRAPHHHHH Graph with 1886 nodes and 6118 edges\n",
      "GRAPHHHHH Graph with 1913 nodes and 6245 edges\n",
      "GRAPHHHHH Graph with 2059 nodes and 6711 edges\n",
      "GRAPHHHHH Graph with 2064 nodes and 6189 edges\n",
      "GRAPHHHHH Graph with 2311 nodes and 6665 edges\n",
      "GRAPHHHHH Graph with 2112 nodes and 6550 edges\n",
      "GRAPHHHHH Graph with 2236 nodes and 6610 edges\n",
      "GRAPHHHHH Graph with 1923 nodes and 6453 edges\n",
      "GRAPHHHHH Graph with 2040 nodes and 6320 edges\n",
      "GRAPHHHHH Graph with 1664 nodes and 6035 edges\n",
      "GRAPHHHHH Graph with 2518 nodes and 6862 edges\n",
      "GRAPHHHHH Graph with 2240 nodes and 6698 edges\n",
      "GRAPHHHHH Graph with 1338 nodes and 5270 edges\n",
      "GRAPHHHHH Graph with 2124 nodes and 6592 edges\n",
      "GRAPHHHHH Graph with 2034 nodes and 6560 edges\n",
      "GRAPHHHHH Graph with 1929 nodes and 6039 edges\n",
      "GRAPHHHHH Graph with 1931 nodes and 6369 edges\n",
      "GRAPHHHHH Graph with 2370 nodes and 6736 edges\n",
      "GRAPHHHHH Graph with 1458 nodes and 5489 edges\n",
      "GRAPHHHHH Graph with 2140 nodes and 6564 edges\n",
      "GRAPHHHHH Graph with 2026 nodes and 5839 edges\n",
      "GRAPHHHHH Graph with 1986 nodes and 5775 edges\n",
      "GRAPHHHHH Graph with 1936 nodes and 6390 edges\n",
      "GRAPHHHHH Graph with 1893 nodes and 6161 edges\n",
      "GRAPHHHHH Graph with 2143 nodes and 6288 edges\n",
      "GRAPHHHHH Graph with 1200 nodes and 3810 edges\n",
      "GRAPHHHHH Graph with 2078 nodes and 6654 edges\n",
      "GRAPHHHHH Graph with 2322 nodes and 6670 edges\n",
      "GRAPHHHHH Graph with 1588 nodes and 5877 edges\n",
      "GRAPHHHHH Graph with 1965 nodes and 6510 edges\n",
      "GRAPHHHHH Graph with 2103 nodes and 6586 edges\n",
      "GRAPHHHHH Graph with 2271 nodes and 6453 edges\n",
      "GRAPHHHHH Graph with 2335 nodes and 6358 edges\n",
      "GRAPHHHHH Graph with 2153 nodes and 6607 edges\n",
      "GRAPHHHHH Graph with 2689 nodes and 7131 edges\n",
      "GRAPHHHHH Graph with 2408 nodes and 6927 edges\n",
      "GRAPHHHHH Graph with 2601 nodes and 6962 edges\n",
      "GRAPHHHHH Graph with 2273 nodes and 5658 edges\n",
      "GRAPHHHHH Graph with 1787 nodes and 6186 edges\n",
      "GRAPHHHHH Graph with 1997 nodes and 6491 edges\n",
      "GRAPHHHHH Graph with 1474 nodes and 4773 edges\n",
      "GRAPHHHHH Graph with 1927 nodes and 6172 edges\n",
      "GRAPHHHHH Graph with 1950 nodes and 6479 edges\n",
      "GRAPHHHHH Graph with 1948 nodes and 6200 edges\n",
      "GRAPHHHHH Graph with 2474 nodes and 6757 edges\n",
      "GRAPHHHHH Graph with 1781 nodes and 5785 edges\n",
      "GRAPHHHHH Graph with 2111 nodes and 6629 edges\n",
      "GRAPHHHHH Graph with 2345 nodes and 6409 edges\n",
      "GRAPHHHHH Graph with 1838 nodes and 6299 edges\n",
      "GRAPHHHHH Graph with 2075 nodes and 6117 edges\n",
      "GRAPHHHHH Graph with 2143 nodes and 6608 edges\n",
      "GRAPHHHHH Graph with 2216 nodes and 6691 edges\n",
      "GRAPHHHHH Graph with 1239 nodes and 2690 edges\n",
      "GRAPHHHHH Graph with 2400 nodes and 6785 edges\n",
      "GRAPHHHHH Graph with 2212 nodes and 6696 edges\n",
      "GRAPHHHHH Graph with 2281 nodes and 6690 edges\n",
      "GRAPHHHHH Graph with 2009 nodes and 6403 edges\n",
      "GRAPHHHHH Graph with 2172 nodes and 6483 edges\n",
      "GRAPHHHHH Graph with 2737 nodes and 7043 edges\n",
      "GRAPHHHHH Graph with 2085 nodes and 6560 edges\n",
      "GRAPHHHHH Graph with 2691 nodes and 7039 edges\n",
      "graph2vec 77\n",
      "id graph 0\n",
      "0 len 8112\n",
      "id graph 1\n",
      "1 len 8112\n",
      "id graph 2\n",
      "2 len 8112\n",
      "id graph 3\n",
      "3 len 8112\n",
      "id graph 4\n",
      "4 len 8112\n",
      "id graph 5\n",
      "5 len 8112\n",
      "id graph 6\n",
      "6 len 8112\n",
      "id graph 7\n",
      "7 len 8112\n",
      "id graph 8\n",
      "8 len 8112\n",
      "id graph 9\n",
      "9 len 8112\n",
      "id graph 10\n",
      "10 len 8112\n",
      "id graph 11\n",
      "11 len 8112\n",
      "id graph 12\n",
      "12 len 8112\n",
      "id graph 13\n",
      "13 len 8112\n",
      "id graph 14\n",
      "14 len 8112\n",
      "id graph 15\n",
      "15 len 8112\n",
      "id graph 16\n",
      "16 len 8112\n",
      "id graph 17\n",
      "17 len 8112\n",
      "id graph 18\n",
      "18 len 8112\n",
      "id graph 19\n",
      "19 len 8112\n",
      "id graph 20\n",
      "20 len 8112\n",
      "id graph 21\n",
      "21 len 8112\n",
      "id graph 22\n",
      "22 len 8112\n",
      "id graph 23\n",
      "23 len 8112\n",
      "id graph 24\n",
      "24 len 8112\n",
      "id graph 25\n",
      "25 len 8112\n",
      "id graph 26\n",
      "26 len 8112\n",
      "id graph 27\n",
      "27 len 8112\n",
      "id graph 28\n",
      "28 len 8112\n",
      "id graph 29\n",
      "29 len 8112\n",
      "id graph 30\n",
      "30 len 8112\n",
      "id graph 31\n",
      "31 len 8112\n",
      "id graph 32\n",
      "32 len 8112\n",
      "id graph 33\n",
      "33 len 8112\n",
      "id graph 34\n",
      "34 len 8112\n",
      "id graph 35\n",
      "35 len 8112\n",
      "id graph 36\n",
      "36 len 8112\n",
      "id graph 37\n",
      "37 len 8112\n",
      "id graph 38\n",
      "38 len 8112\n",
      "id graph 39\n",
      "39 len 8112\n",
      "id graph 40\n",
      "40 len 8112\n",
      "id graph 41\n",
      "41 len 8112\n",
      "id graph 42\n",
      "42 len 8112\n",
      "id graph 43\n",
      "43 len 8112\n",
      "id graph 44\n",
      "44 len 8112\n",
      "id graph 45\n",
      "45 len 8112\n",
      "id graph 46\n",
      "46 len 8112\n",
      "id graph 47\n",
      "47 len 8112\n",
      "id graph 48\n",
      "48 len 8112\n",
      "id graph 49\n",
      "49 len 8112\n",
      "id graph 50\n",
      "50 len 8112\n",
      "id graph 51\n",
      "51 len 8112\n",
      "id graph 52\n",
      "52 len 8112\n",
      "id graph 53\n",
      "53 len 8112\n",
      "id graph 54\n",
      "54 len 8112\n",
      "id graph 55\n",
      "55 len 8112\n",
      "id graph 56\n",
      "56 len 8112\n",
      "id graph 57\n",
      "57 len 8112\n",
      "id graph 58\n",
      "58 len 8112\n",
      "id graph 59\n",
      "59 len 8112\n",
      "id graph 60\n",
      "60 len 8112\n",
      "id graph 61\n",
      "61 len 8112\n",
      "id graph 62\n",
      "62 len 8112\n",
      "id graph 63\n",
      "63 len 8112\n",
      "id graph 64\n",
      "64 len 8112\n",
      "id graph 65\n",
      "65 len 8112\n",
      "id graph 66\n",
      "66 len 8112\n",
      "id graph 67\n",
      "67 len 8112\n",
      "id graph 68\n",
      "68 len 8112\n",
      "id graph 69\n",
      "69 len 8112\n",
      "id graph 70\n",
      "70 len 8112\n",
      "id graph 71\n",
      "71 len 8112\n",
      "id graph 72\n",
      "72 len 8112\n",
      "id graph 73\n",
      "73 len 8112\n",
      "id graph 74\n",
      "74 len 8112\n",
      "id graph 75\n",
      "75 len 8112\n",
      "id graph 76\n",
      "76 len 8112\n",
      "id graph 77\n",
      "77 len 8112\n"
     ]
    }
   ],
   "source": [
    "X = get_graph2vec_features(selected_corpus, index_word)"
   ]
  },
  {
   "cell_type": "code",
   "execution_count": 26,
   "metadata": {},
   "outputs": [
    {
     "name": "stdout",
     "output_type": "stream",
     "text": [
      "Lenght of features: (78, 8112)\n"
     ]
    }
   ],
   "source": [
    "print(\"Lenght of features:\", X.shape)"
   ]
  },
  {
   "cell_type": "code",
   "execution_count": 27,
   "metadata": {},
   "outputs": [
    {
     "data": {
      "text/plain": [
       "array([[-0.01065547,  0.08509989, -0.07897401, ...,  0.08628312,\n",
       "        -0.05760979, -0.02948821],\n",
       "       [ 0.0004353 , -0.02631473, -0.03687038, ..., -0.00676643,\n",
       "         0.00810497, -0.03290671],\n",
       "       [-0.03525976,  0.03387215, -0.02880013, ...,  0.00250711,\n",
       "         0.01901873,  0.01939054],\n",
       "       ...,\n",
       "       [-0.02460619,  0.05112893, -0.06208546, ..., -0.01320273,\n",
       "         0.01484986, -0.02255042],\n",
       "       [ 0.02429416, -0.0105344 , -0.0589272 , ...,  0.05077451,\n",
       "        -0.01652109,  0.01531364],\n",
       "       [-0.00405608,  0.03780188, -0.02789822, ...,  0.01955577,\n",
       "         0.04780468, -0.12546831]])"
      ]
     },
     "execution_count": 27,
     "metadata": {},
     "output_type": "execute_result"
    }
   ],
   "source": [
    "X"
   ]
  },
  {
   "cell_type": "code",
   "execution_count": 28,
   "metadata": {},
   "outputs": [
    {
     "data": {
      "text/plain": [
       "8112"
      ]
     },
     "execution_count": 28,
     "metadata": {},
     "output_type": "execute_result"
    }
   ],
   "source": [
    "len(X[0])"
   ]
  },
  {
   "cell_type": "markdown",
   "metadata": {},
   "source": [
    "# Classification"
   ]
  },
  {
   "cell_type": "code",
   "execution_count": 29,
   "metadata": {},
   "outputs": [],
   "source": [
    "import classifierv2"
   ]
  },
  {
   "cell_type": "code",
   "execution_count": 30,
   "metadata": {},
   "outputs": [
    {
     "name": "stdout",
     "output_type": "stream",
     "text": [
      "Score 0.25\n",
      "Score 0.0625\n",
      "Score 0.1875\n",
      "Score 0.0\n"
     ]
    }
   ],
   "source": [
    "obj = classifierv2.Classification(X, y)\n",
    "scores = obj.classification()"
   ]
  },
  {
   "cell_type": "code",
   "execution_count": null,
   "metadata": {},
   "outputs": [],
   "source": []
  }
 ],
 "metadata": {
  "kernelspec": {
   "display_name": "venv",
   "language": "python",
   "name": "venv"
  },
  "language_info": {
   "codemirror_mode": {
    "name": "ipython",
    "version": 3
   },
   "file_extension": ".py",
   "mimetype": "text/x-python",
   "name": "python",
   "nbconvert_exporter": "python",
   "pygments_lexer": "ipython3",
   "version": "3.8.10"
  }
 },
 "nbformat": 4,
 "nbformat_minor": 4
}
