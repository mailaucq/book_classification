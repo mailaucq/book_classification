version https://git-lfs.github.com/spec/v1
oid sha256:56f09a7bb62c7ebd01cb4b06c78414ad50095b604df480f1978473494ea96605
size 527842
