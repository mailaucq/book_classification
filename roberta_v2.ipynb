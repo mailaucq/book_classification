version https://git-lfs.github.com/spec/v1
oid sha256:21350079950a272680a8500f2cc5187c5969c5d6bea9339f9242d44ca3f6114d
size 64411
