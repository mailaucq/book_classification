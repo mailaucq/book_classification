version https://git-lfs.github.com/spec/v1
oid sha256:b5ba10362229fc4f8b4f407db2c6ec68de9c823dbce0666139a33ac97ca6dcc6
size 64612
